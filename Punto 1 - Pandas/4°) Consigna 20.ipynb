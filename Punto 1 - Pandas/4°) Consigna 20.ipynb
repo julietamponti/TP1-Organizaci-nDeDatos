{
 "cells": [
  {
   "cell_type": "markdown",
   "id": "ab2784bb",
   "metadata": {},
   "source": [
    "### Consigna: ¿Cuál es el segundo contenido con más referencias geográficas asignadas? (⭐⭐)"
   ]
  },
  {
   "cell_type": "markdown",
   "id": "05fb8a03-abbb-4b9a-8b1d-b1a8d2a45d35",
   "metadata": {},
   "source": [
    "Importo la libreria Pandas que utilizaré para el desarrollo de mi ejercicio."
   ]
  },
  {
   "cell_type": "code",
   "execution_count": 1,
   "id": "c65eb4d2-ea5b-45fd-bb15-995a1fe365e5",
   "metadata": {},
   "outputs": [],
   "source": [
    "import pandas as pd"
   ]
  },
  {
   "cell_type": "markdown",
   "id": "def49710-f6e6-4c66-9786-41e2ab6225fe",
   "metadata": {},
   "source": [
    "Leo los archivos de los que extraeré información para el desarrollo de mi ejercicio."
   ]
  },
  {
   "cell_type": "code",
   "execution_count": 2,
   "id": "a91c1166",
   "metadata": {},
   "outputs": [],
   "source": [
    "geo = pd.read_csv(\"geo_tags.csv\",\\\n",
    "                      usecols= ['gt_page_id','gt_id','gt_lat','gt_lon'])"
   ]
  },
  {
   "cell_type": "code",
   "execution_count": 3,
   "id": "bb07ee02",
   "metadata": {},
   "outputs": [
    {
     "data": {
      "text/html": [
       "<div>\n",
       "<style scoped>\n",
       "    .dataframe tbody tr th:only-of-type {\n",
       "        vertical-align: middle;\n",
       "    }\n",
       "\n",
       "    .dataframe tbody tr th {\n",
       "        vertical-align: top;\n",
       "    }\n",
       "\n",
       "    .dataframe thead th {\n",
       "        text-align: right;\n",
       "    }\n",
       "</style>\n",
       "<table border=\"1\" class=\"dataframe\">\n",
       "  <thead>\n",
       "    <tr style=\"text-align: right;\">\n",
       "      <th></th>\n",
       "      <th>gt_id</th>\n",
       "      <th>id</th>\n",
       "      <th>gt_lat</th>\n",
       "      <th>gt_lon</th>\n",
       "    </tr>\n",
       "  </thead>\n",
       "  <tbody>\n",
       "    <tr>\n",
       "      <th>0</th>\n",
       "      <td>158041</td>\n",
       "      <td>4328020</td>\n",
       "      <td>41.507500</td>\n",
       "      <td>-5.817500</td>\n",
       "    </tr>\n",
       "    <tr>\n",
       "      <th>1</th>\n",
       "      <td>5844377</td>\n",
       "      <td>4670424</td>\n",
       "      <td>13.738000</td>\n",
       "      <td>-89.292000</td>\n",
       "    </tr>\n",
       "    <tr>\n",
       "      <th>2</th>\n",
       "      <td>5844381</td>\n",
       "      <td>4670424</td>\n",
       "      <td>13.702000</td>\n",
       "      <td>-89.208000</td>\n",
       "    </tr>\n",
       "    <tr>\n",
       "      <th>3</th>\n",
       "      <td>5844383</td>\n",
       "      <td>4670424</td>\n",
       "      <td>13.400000</td>\n",
       "      <td>-89.750000</td>\n",
       "    </tr>\n",
       "    <tr>\n",
       "      <th>4</th>\n",
       "      <td>5844388</td>\n",
       "      <td>4670424</td>\n",
       "      <td>12.850000</td>\n",
       "      <td>-88.000000</td>\n",
       "    </tr>\n",
       "    <tr>\n",
       "      <th>...</th>\n",
       "      <td>...</td>\n",
       "      <td>...</td>\n",
       "      <td>...</td>\n",
       "      <td>...</td>\n",
       "    </tr>\n",
       "    <tr>\n",
       "      <th>556388</th>\n",
       "      <td>136672179</td>\n",
       "      <td>5239183</td>\n",
       "      <td>3.450000</td>\n",
       "      <td>-76.533333</td>\n",
       "    </tr>\n",
       "    <tr>\n",
       "      <th>556389</th>\n",
       "      <td>136672180</td>\n",
       "      <td>104468</td>\n",
       "      <td>30.815839</td>\n",
       "      <td>45.996069</td>\n",
       "    </tr>\n",
       "    <tr>\n",
       "      <th>556390</th>\n",
       "      <td>136672181</td>\n",
       "      <td>968281</td>\n",
       "      <td>46.953333</td>\n",
       "      <td>6.256944</td>\n",
       "    </tr>\n",
       "    <tr>\n",
       "      <th>556391</th>\n",
       "      <td>136672182</td>\n",
       "      <td>79985</td>\n",
       "      <td>45.109659</td>\n",
       "      <td>7.641221</td>\n",
       "    </tr>\n",
       "    <tr>\n",
       "      <th>556392</th>\n",
       "      <td>136672183</td>\n",
       "      <td>872296</td>\n",
       "      <td>15.425675</td>\n",
       "      <td>-90.326285</td>\n",
       "    </tr>\n",
       "  </tbody>\n",
       "</table>\n",
       "<p>556393 rows × 4 columns</p>\n",
       "</div>"
      ],
      "text/plain": [
       "            gt_id       id     gt_lat     gt_lon\n",
       "0          158041  4328020  41.507500  -5.817500\n",
       "1         5844377  4670424  13.738000 -89.292000\n",
       "2         5844381  4670424  13.702000 -89.208000\n",
       "3         5844383  4670424  13.400000 -89.750000\n",
       "4         5844388  4670424  12.850000 -88.000000\n",
       "...           ...      ...        ...        ...\n",
       "556388  136672179  5239183   3.450000 -76.533333\n",
       "556389  136672180   104468  30.815839  45.996069\n",
       "556390  136672181   968281  46.953333   6.256944\n",
       "556391  136672182    79985  45.109659   7.641221\n",
       "556392  136672183   872296  15.425675 -90.326285\n",
       "\n",
       "[556393 rows x 4 columns]"
      ]
     },
     "execution_count": 3,
     "metadata": {},
     "output_type": "execute_result"
    }
   ],
   "source": [
    "geo.rename(columns={'gt_page_id':'id'},inplace=True)\n",
    "geo"
   ]
  },
  {
   "cell_type": "code",
   "execution_count": 4,
   "id": "1c82c8f8",
   "metadata": {},
   "outputs": [
    {
     "data": {
      "text/plain": [
       "7636249    1480\n",
       "7421943    1424\n",
       "9528315    1407\n",
       "7808354    1396\n",
       "8329856    1394\n",
       "           ... \n",
       "7285597       1\n",
       "5820234       1\n",
       "1020746       1\n",
       "3113800       1\n",
       "7344126       1\n",
       "Name: id, Length: 371411, dtype: int64"
      ]
     },
     "execution_count": 4,
     "metadata": {},
     "output_type": "execute_result"
    }
   ],
   "source": [
    "geo.id.value_counts()"
   ]
  },
  {
   "cell_type": "code",
   "execution_count": 5,
   "id": "2373a789-b697-444d-bf5d-183919556f74",
   "metadata": {},
   "outputs": [
    {
     "name": "stdout",
     "output_type": "stream",
     "text": [
      "<class 'pandas.core.frame.DataFrame'>\n",
      "RangeIndex: 556393 entries, 0 to 556392\n",
      "Data columns (total 4 columns):\n",
      " #   Column  Non-Null Count   Dtype  \n",
      "---  ------  --------------   -----  \n",
      " 0   gt_id   556393 non-null  int64  \n",
      " 1   id      556393 non-null  int64  \n",
      " 2   gt_lat  556393 non-null  float64\n",
      " 3   gt_lon  556393 non-null  float64\n",
      "dtypes: float64(2), int64(2)\n",
      "memory usage: 17.0 MB\n"
     ]
    }
   ],
   "source": [
    "geo.info()"
   ]
  },
  {
   "cell_type": "code",
   "execution_count": 6,
   "id": "f14891f7-9918-405d-bd84-9e2ea2a2ffc1",
   "metadata": {},
   "outputs": [
    {
     "data": {
      "text/plain": [
       "gt_id     0\n",
       "id        0\n",
       "gt_lat    0\n",
       "gt_lon    0\n",
       "dtype: int64"
      ]
     },
     "execution_count": 6,
     "metadata": {},
     "output_type": "execute_result"
    }
   ],
   "source": [
    "geo.isnull().sum()"
   ]
  },
  {
   "cell_type": "markdown",
   "id": "23b1897f",
   "metadata": {},
   "source": [
    "El dataFrame Geo, que tiene la información adquirida de geo_tags.csv, ya esta listo para ser utilizado."
   ]
  },
  {
   "cell_type": "code",
   "execution_count": 7,
   "id": "83015cc9",
   "metadata": {},
   "outputs": [],
   "source": [
    "contenido = pd.read_csv('contents.csv',\\\n",
    "                    usecols= ['title', 'id'])"
   ]
  },
  {
   "cell_type": "code",
   "execution_count": 8,
   "id": "1b30d81d",
   "metadata": {},
   "outputs": [
    {
     "data": {
      "text/html": [
       "<div>\n",
       "<style scoped>\n",
       "    .dataframe tbody tr th:only-of-type {\n",
       "        vertical-align: middle;\n",
       "    }\n",
       "\n",
       "    .dataframe tbody tr th {\n",
       "        vertical-align: top;\n",
       "    }\n",
       "\n",
       "    .dataframe thead th {\n",
       "        text-align: right;\n",
       "    }\n",
       "</style>\n",
       "<table border=\"1\" class=\"dataframe\">\n",
       "  <thead>\n",
       "    <tr style=\"text-align: right;\">\n",
       "      <th></th>\n",
       "      <th>title</th>\n",
       "      <th>id</th>\n",
       "    </tr>\n",
       "  </thead>\n",
       "  <tbody>\n",
       "    <tr>\n",
       "      <th>0</th>\n",
       "      <td>Wikipedia:Artículos solicitados</td>\n",
       "      <td>5</td>\n",
       "    </tr>\n",
       "    <tr>\n",
       "      <th>1</th>\n",
       "      <td>Andorra</td>\n",
       "      <td>7</td>\n",
       "    </tr>\n",
       "    <tr>\n",
       "      <th>2</th>\n",
       "      <td>Argentina</td>\n",
       "      <td>10</td>\n",
       "    </tr>\n",
       "    <tr>\n",
       "      <th>3</th>\n",
       "      <td>Geografía de Andorra</td>\n",
       "      <td>15</td>\n",
       "    </tr>\n",
       "    <tr>\n",
       "      <th>4</th>\n",
       "      <td>Demografía de Andorra</td>\n",
       "      <td>17</td>\n",
       "    </tr>\n",
       "    <tr>\n",
       "      <th>...</th>\n",
       "      <td>...</td>\n",
       "      <td>...</td>\n",
       "    </tr>\n",
       "    <tr>\n",
       "      <th>4132159</th>\n",
       "      <td>Cruz nestoriana</td>\n",
       "      <td>10010593</td>\n",
       "    </tr>\n",
       "    <tr>\n",
       "      <th>4132160</th>\n",
       "      <td>Manifestación del orgullo gay de 1977 en Barce...</td>\n",
       "      <td>10010595</td>\n",
       "    </tr>\n",
       "    <tr>\n",
       "      <th>4132161</th>\n",
       "      <td>Rocasaurus</td>\n",
       "      <td>10010596</td>\n",
       "    </tr>\n",
       "    <tr>\n",
       "      <th>4132162</th>\n",
       "      <td>Medalla Conmemorativa del 50.º Aniversario de ...</td>\n",
       "      <td>10010598</td>\n",
       "    </tr>\n",
       "    <tr>\n",
       "      <th>4132163</th>\n",
       "      <td>Fatikroy</td>\n",
       "      <td>10010600</td>\n",
       "    </tr>\n",
       "  </tbody>\n",
       "</table>\n",
       "<p>4132164 rows × 2 columns</p>\n",
       "</div>"
      ],
      "text/plain": [
       "                                                     title        id\n",
       "0                          Wikipedia:Artículos solicitados         5\n",
       "1                                                  Andorra         7\n",
       "2                                                Argentina        10\n",
       "3                                     Geografía de Andorra        15\n",
       "4                                    Demografía de Andorra        17\n",
       "...                                                    ...       ...\n",
       "4132159                                    Cruz nestoriana  10010593\n",
       "4132160  Manifestación del orgullo gay de 1977 en Barce...  10010595\n",
       "4132161                                         Rocasaurus  10010596\n",
       "4132162  Medalla Conmemorativa del 50.º Aniversario de ...  10010598\n",
       "4132163                                           Fatikroy  10010600\n",
       "\n",
       "[4132164 rows x 2 columns]"
      ]
     },
     "execution_count": 8,
     "metadata": {},
     "output_type": "execute_result"
    }
   ],
   "source": [
    "contenido"
   ]
  },
  {
   "cell_type": "code",
   "execution_count": 9,
   "id": "35ad13a0",
   "metadata": {},
   "outputs": [
    {
     "name": "stdout",
     "output_type": "stream",
     "text": [
      "<class 'pandas.core.frame.DataFrame'>\n",
      "RangeIndex: 4132164 entries, 0 to 4132163\n",
      "Data columns (total 2 columns):\n",
      " #   Column  Dtype \n",
      "---  ------  ----- \n",
      " 0   title   object\n",
      " 1   id      int64 \n",
      "dtypes: int64(1), object(1)\n",
      "memory usage: 63.1+ MB\n"
     ]
    }
   ],
   "source": [
    "contenido.info()"
   ]
  },
  {
   "cell_type": "code",
   "execution_count": 10,
   "id": "ac2ede67",
   "metadata": {},
   "outputs": [
    {
     "data": {
      "text/plain": [
       "title    4\n",
       "id       0\n",
       "dtype: int64"
      ]
     },
     "execution_count": 10,
     "metadata": {},
     "output_type": "execute_result"
    }
   ],
   "source": [
    "contenido.isnull().sum()"
   ]
  },
  {
   "cell_type": "code",
   "execution_count": 11,
   "id": "d69407b5",
   "metadata": {},
   "outputs": [],
   "source": [
    "contenido.fillna('Desconocido',inplace=True)"
   ]
  },
  {
   "cell_type": "code",
   "execution_count": 12,
   "id": "4c471ff3",
   "metadata": {},
   "outputs": [
    {
     "name": "stdout",
     "output_type": "stream",
     "text": [
      "<class 'pandas.core.frame.DataFrame'>\n",
      "RangeIndex: 4132164 entries, 0 to 4132163\n",
      "Data columns (total 2 columns):\n",
      " #   Column  Dtype \n",
      "---  ------  ----- \n",
      " 0   title   object\n",
      " 1   id      int64 \n",
      "dtypes: int64(1), object(1)\n",
      "memory usage: 63.1+ MB\n"
     ]
    }
   ],
   "source": [
    "contenido.info()"
   ]
  },
  {
   "cell_type": "code",
   "execution_count": 13,
   "id": "c1440a77",
   "metadata": {},
   "outputs": [
    {
     "data": {
      "text/plain": [
       "title    0\n",
       "id       0\n",
       "dtype: int64"
      ]
     },
     "execution_count": 13,
     "metadata": {},
     "output_type": "execute_result"
    }
   ],
   "source": [
    "contenido.isnull().sum()"
   ]
  },
  {
   "cell_type": "markdown",
   "id": "941c538f",
   "metadata": {},
   "source": [
    "El dataFrame contenido, que tiene la información adquirida de contents.csv, ya esta listo para ser utilizado."
   ]
  },
  {
   "cell_type": "code",
   "execution_count": 14,
   "id": "fd784a94",
   "metadata": {},
   "outputs": [
    {
     "data": {
      "text/html": [
       "<div>\n",
       "<style scoped>\n",
       "    .dataframe tbody tr th:only-of-type {\n",
       "        vertical-align: middle;\n",
       "    }\n",
       "\n",
       "    .dataframe tbody tr th {\n",
       "        vertical-align: top;\n",
       "    }\n",
       "\n",
       "    .dataframe thead th {\n",
       "        text-align: right;\n",
       "    }\n",
       "</style>\n",
       "<table border=\"1\" class=\"dataframe\">\n",
       "  <thead>\n",
       "    <tr style=\"text-align: right;\">\n",
       "      <th></th>\n",
       "      <th>title</th>\n",
       "      <th>id</th>\n",
       "      <th>gt_id</th>\n",
       "      <th>gt_lat</th>\n",
       "      <th>gt_lon</th>\n",
       "    </tr>\n",
       "  </thead>\n",
       "  <tbody>\n",
       "    <tr>\n",
       "      <th>0</th>\n",
       "      <td>Andorra</td>\n",
       "      <td>7</td>\n",
       "      <td>136647726</td>\n",
       "      <td>42.500000</td>\n",
       "      <td>1.500000</td>\n",
       "    </tr>\n",
       "    <tr>\n",
       "      <th>1</th>\n",
       "      <td>Argentina</td>\n",
       "      <td>10</td>\n",
       "      <td>136659367</td>\n",
       "      <td>-34.599722</td>\n",
       "      <td>-58.381944</td>\n",
       "    </tr>\n",
       "    <tr>\n",
       "      <th>2</th>\n",
       "      <td>Geografía de Andorra</td>\n",
       "      <td>15</td>\n",
       "      <td>136554916</td>\n",
       "      <td>42.506111</td>\n",
       "      <td>1.522222</td>\n",
       "    </tr>\n",
       "    <tr>\n",
       "      <th>3</th>\n",
       "      <td>Anoeta</td>\n",
       "      <td>26</td>\n",
       "      <td>135690881</td>\n",
       "      <td>43.162222</td>\n",
       "      <td>-2.070000</td>\n",
       "    </tr>\n",
       "    <tr>\n",
       "      <th>4</th>\n",
       "      <td>Afganistán</td>\n",
       "      <td>39</td>\n",
       "      <td>136670287</td>\n",
       "      <td>34.532778</td>\n",
       "      <td>69.165833</td>\n",
       "    </tr>\n",
       "    <tr>\n",
       "      <th>...</th>\n",
       "      <td>...</td>\n",
       "      <td>...</td>\n",
       "      <td>...</td>\n",
       "      <td>...</td>\n",
       "      <td>...</td>\n",
       "    </tr>\n",
       "    <tr>\n",
       "      <th>537300</th>\n",
       "      <td>Kumarghat</td>\n",
       "      <td>10010550</td>\n",
       "      <td>136660467</td>\n",
       "      <td>24.158333</td>\n",
       "      <td>92.029722</td>\n",
       "    </tr>\n",
       "    <tr>\n",
       "      <th>537301</th>\n",
       "      <td>Río Makarora</td>\n",
       "      <td>10010559</td>\n",
       "      <td>136660494</td>\n",
       "      <td>-44.316667</td>\n",
       "      <td>169.166667</td>\n",
       "    </tr>\n",
       "    <tr>\n",
       "      <th>537302</th>\n",
       "      <td>Panisagar</td>\n",
       "      <td>10010567</td>\n",
       "      <td>136660596</td>\n",
       "      <td>24.250000</td>\n",
       "      <td>92.140000</td>\n",
       "    </tr>\n",
       "    <tr>\n",
       "      <th>537303</th>\n",
       "      <td>Dewanpasa</td>\n",
       "      <td>10010581</td>\n",
       "      <td>136661632</td>\n",
       "      <td>24.360639</td>\n",
       "      <td>92.139850</td>\n",
       "    </tr>\n",
       "    <tr>\n",
       "      <th>537304</th>\n",
       "      <td>Fatikroy</td>\n",
       "      <td>10010600</td>\n",
       "      <td>136663385</td>\n",
       "      <td>24.010639</td>\n",
       "      <td>92.001289</td>\n",
       "    </tr>\n",
       "  </tbody>\n",
       "</table>\n",
       "<p>537305 rows × 5 columns</p>\n",
       "</div>"
      ],
      "text/plain": [
       "                       title        id      gt_id     gt_lat      gt_lon\n",
       "0                    Andorra         7  136647726  42.500000    1.500000\n",
       "1                  Argentina        10  136659367 -34.599722  -58.381944\n",
       "2       Geografía de Andorra        15  136554916  42.506111    1.522222\n",
       "3                     Anoeta        26  135690881  43.162222   -2.070000\n",
       "4                 Afganistán        39  136670287  34.532778   69.165833\n",
       "...                      ...       ...        ...        ...         ...\n",
       "537300             Kumarghat  10010550  136660467  24.158333   92.029722\n",
       "537301          Río Makarora  10010559  136660494 -44.316667  169.166667\n",
       "537302             Panisagar  10010567  136660596  24.250000   92.140000\n",
       "537303             Dewanpasa  10010581  136661632  24.360639   92.139850\n",
       "537304              Fatikroy  10010600  136663385  24.010639   92.001289\n",
       "\n",
       "[537305 rows x 5 columns]"
      ]
     },
     "execution_count": 14,
     "metadata": {},
     "output_type": "execute_result"
    }
   ],
   "source": [
    "#Realizo un join entre los dos DataFrames para lograr encontrar la información buscada.\n",
    "dfMerge = contenido.merge(geo)\n",
    "dfMerge"
   ]
  },
  {
   "cell_type": "markdown",
   "id": "db7d5485",
   "metadata": {},
   "source": [
    "Libero el espacio de la RAM que ocupan los dos dataFrames que no estoy utilizando."
   ]
  },
  {
   "cell_type": "code",
   "execution_count": 15,
   "id": "7e5128cf",
   "metadata": {},
   "outputs": [],
   "source": [
    "del contenido"
   ]
  },
  {
   "cell_type": "code",
   "execution_count": 16,
   "id": "22e29ed7",
   "metadata": {},
   "outputs": [],
   "source": [
    "del geo"
   ]
  },
  {
   "cell_type": "code",
   "execution_count": 17,
   "id": "02f7cae1",
   "metadata": {},
   "outputs": [
    {
     "data": {
      "text/plain": [
       "7421943    1424\n",
       "8329856    1394\n",
       "3819860    1082\n",
       "9649160     940\n",
       "7553129     924\n",
       "           ... \n",
       "4768672       1\n",
       "1645467       1\n",
       "9003924       1\n",
       "4428705       1\n",
       "7344126       1\n",
       "Name: id, Length: 370733, dtype: int64"
      ]
     },
     "execution_count": 17,
     "metadata": {},
     "output_type": "execute_result"
    }
   ],
   "source": [
    "dfMerge.id.value_counts()"
   ]
  },
  {
   "cell_type": "code",
   "execution_count": 18,
   "id": "4d173c64",
   "metadata": {},
   "outputs": [
    {
     "data": {
      "text/plain": [
       "pandas.core.series.Series"
      ]
     },
     "execution_count": 18,
     "metadata": {},
     "output_type": "execute_result"
    }
   ],
   "source": [
    "type(dfMerge.id.value_counts())"
   ]
  },
  {
   "cell_type": "code",
   "execution_count": 19,
   "id": "6df8cd77",
   "metadata": {},
   "outputs": [
    {
     "data": {
      "text/plain": [
       "8329856"
      ]
     },
     "execution_count": 19,
     "metadata": {},
     "output_type": "execute_result"
    }
   ],
   "source": [
    "segundoID = dfMerge.id.value_counts().index[1]\n",
    "segundoID"
   ]
  },
  {
   "cell_type": "code",
   "execution_count": 20,
   "id": "2b175fbc",
   "metadata": {},
   "outputs": [],
   "source": [
    "dfMerge = dfMerge[dfMerge.id==segundoID]"
   ]
  },
  {
   "cell_type": "code",
   "execution_count": 21,
   "id": "1f7720e6",
   "metadata": {},
   "outputs": [],
   "source": [
    "dfMerge = dfMerge[['title','id']]"
   ]
  },
  {
   "cell_type": "markdown",
   "id": "7bf0b8be",
   "metadata": {},
   "source": [
    "### Resultado"
   ]
  },
  {
   "cell_type": "markdown",
   "id": "6982082d",
   "metadata": {},
   "source": [
    "Finalmente, el titulo más buscado (y su ID) es el siguiente:"
   ]
  },
  {
   "cell_type": "code",
   "execution_count": 22,
   "id": "080f9ab5",
   "metadata": {},
   "outputs": [
    {
     "data": {
      "text/plain": [
       "title    Wikiproyecto:Madrid/Artículos/Wikidata\n",
       "id                                      8329856\n",
       "Name: 439299, dtype: object"
      ]
     },
     "execution_count": 22,
     "metadata": {},
     "output_type": "execute_result"
    }
   ],
   "source": [
    "dfMerge.iloc[0]"
   ]
  }
 ],
 "metadata": {
  "kernelspec": {
   "display_name": "Python 3",
   "language": "python",
   "name": "python3"
  },
  "language_info": {
   "codemirror_mode": {
    "name": "ipython",
    "version": 3
   },
   "file_extension": ".py",
   "mimetype": "text/x-python",
   "name": "python",
   "nbconvert_exporter": "python",
   "pygments_lexer": "ipython3",
   "version": "3.8.8"
  }
 },
 "nbformat": 4,
 "nbformat_minor": 5
}
