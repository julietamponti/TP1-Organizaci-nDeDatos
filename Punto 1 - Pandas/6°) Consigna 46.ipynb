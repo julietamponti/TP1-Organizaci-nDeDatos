{
 "cells": [
  {
   "cell_type": "markdown",
   "id": "cae48efc",
   "metadata": {},
   "source": [
    "### Consigna: Si decimos que la ubicación de una categoría es el promedio de la latitud y longitud de sus contenidos geolocalizados que son miembros de ella (si es que tiene): ¿Cuales son las dos categorías más cercanas? (⭐⭐⭐)"
   ]
  },
  {
   "cell_type": "markdown",
   "id": "32fdd242",
   "metadata": {},
   "source": [
    "Importo la libreria que utilizaré para realizar el ejercicio."
   ]
  },
  {
   "cell_type": "code",
   "execution_count": 16,
   "id": "570a8e0f",
   "metadata": {},
   "outputs": [],
   "source": [
    "import pandas as pd\n",
    "from sklearn.neighbors import NearestNeighbors\n",
    "import numpy as np"
   ]
  },
  {
   "cell_type": "code",
   "execution_count": 17,
   "id": "92cd369b",
   "metadata": {},
   "outputs": [
    {
     "data": {
      "text/html": [
       "<div>\n",
       "<style scoped>\n",
       "    .dataframe tbody tr th:only-of-type {\n",
       "        vertical-align: middle;\n",
       "    }\n",
       "\n",
       "    .dataframe tbody tr th {\n",
       "        vertical-align: top;\n",
       "    }\n",
       "\n",
       "    .dataframe thead th {\n",
       "        text-align: right;\n",
       "    }\n",
       "</style>\n",
       "<table border=\"1\" class=\"dataframe\">\n",
       "  <thead>\n",
       "    <tr style=\"text-align: right;\">\n",
       "      <th></th>\n",
       "      <th>gt_page_id</th>\n",
       "      <th>gt_lat</th>\n",
       "      <th>gt_lon</th>\n",
       "    </tr>\n",
       "  </thead>\n",
       "  <tbody>\n",
       "    <tr>\n",
       "      <th>0</th>\n",
       "      <td>4328020</td>\n",
       "      <td>41.507500</td>\n",
       "      <td>-5.817500</td>\n",
       "    </tr>\n",
       "    <tr>\n",
       "      <th>1</th>\n",
       "      <td>4670424</td>\n",
       "      <td>13.738000</td>\n",
       "      <td>-89.292000</td>\n",
       "    </tr>\n",
       "    <tr>\n",
       "      <th>2</th>\n",
       "      <td>4670424</td>\n",
       "      <td>13.702000</td>\n",
       "      <td>-89.208000</td>\n",
       "    </tr>\n",
       "    <tr>\n",
       "      <th>3</th>\n",
       "      <td>4670424</td>\n",
       "      <td>13.400000</td>\n",
       "      <td>-89.750000</td>\n",
       "    </tr>\n",
       "    <tr>\n",
       "      <th>4</th>\n",
       "      <td>4670424</td>\n",
       "      <td>12.850000</td>\n",
       "      <td>-88.000000</td>\n",
       "    </tr>\n",
       "    <tr>\n",
       "      <th>...</th>\n",
       "      <td>...</td>\n",
       "      <td>...</td>\n",
       "      <td>...</td>\n",
       "    </tr>\n",
       "    <tr>\n",
       "      <th>556388</th>\n",
       "      <td>5239183</td>\n",
       "      <td>3.450000</td>\n",
       "      <td>-76.533333</td>\n",
       "    </tr>\n",
       "    <tr>\n",
       "      <th>556389</th>\n",
       "      <td>104468</td>\n",
       "      <td>30.815839</td>\n",
       "      <td>45.996069</td>\n",
       "    </tr>\n",
       "    <tr>\n",
       "      <th>556390</th>\n",
       "      <td>968281</td>\n",
       "      <td>46.953333</td>\n",
       "      <td>6.256944</td>\n",
       "    </tr>\n",
       "    <tr>\n",
       "      <th>556391</th>\n",
       "      <td>79985</td>\n",
       "      <td>45.109659</td>\n",
       "      <td>7.641221</td>\n",
       "    </tr>\n",
       "    <tr>\n",
       "      <th>556392</th>\n",
       "      <td>872296</td>\n",
       "      <td>15.425675</td>\n",
       "      <td>-90.326285</td>\n",
       "    </tr>\n",
       "  </tbody>\n",
       "</table>\n",
       "<p>556393 rows × 3 columns</p>\n",
       "</div>"
      ],
      "text/plain": [
       "        gt_page_id     gt_lat     gt_lon\n",
       "0          4328020  41.507500  -5.817500\n",
       "1          4670424  13.738000 -89.292000\n",
       "2          4670424  13.702000 -89.208000\n",
       "3          4670424  13.400000 -89.750000\n",
       "4          4670424  12.850000 -88.000000\n",
       "...            ...        ...        ...\n",
       "556388     5239183   3.450000 -76.533333\n",
       "556389      104468  30.815839  45.996069\n",
       "556390      968281  46.953333   6.256944\n",
       "556391       79985  45.109659   7.641221\n",
       "556392      872296  15.425675 -90.326285\n",
       "\n",
       "[556393 rows x 3 columns]"
      ]
     },
     "execution_count": 17,
     "metadata": {},
     "output_type": "execute_result"
    }
   ],
   "source": [
    "arcGeo = pd.read_csv('geo_tags.csv',\\\n",
    "                 usecols =['gt_lat','gt_lon','gt_page_id'])\n",
    "arcGeo"
   ]
  },
  {
   "cell_type": "code",
   "execution_count": 18,
   "id": "f571e25c",
   "metadata": {},
   "outputs": [
    {
     "data": {
      "text/html": [
       "<div>\n",
       "<style scoped>\n",
       "    .dataframe tbody tr th:only-of-type {\n",
       "        vertical-align: middle;\n",
       "    }\n",
       "\n",
       "    .dataframe tbody tr th {\n",
       "        vertical-align: top;\n",
       "    }\n",
       "\n",
       "    .dataframe thead th {\n",
       "        text-align: right;\n",
       "    }\n",
       "</style>\n",
       "<table border=\"1\" class=\"dataframe\">\n",
       "  <thead>\n",
       "    <tr style=\"text-align: right;\">\n",
       "      <th></th>\n",
       "      <th>id</th>\n",
       "      <th>gt_lat</th>\n",
       "      <th>gt_lon</th>\n",
       "    </tr>\n",
       "  </thead>\n",
       "  <tbody>\n",
       "    <tr>\n",
       "      <th>0</th>\n",
       "      <td>4328020</td>\n",
       "      <td>41.507500</td>\n",
       "      <td>-5.817500</td>\n",
       "    </tr>\n",
       "    <tr>\n",
       "      <th>1</th>\n",
       "      <td>4670424</td>\n",
       "      <td>13.738000</td>\n",
       "      <td>-89.292000</td>\n",
       "    </tr>\n",
       "    <tr>\n",
       "      <th>2</th>\n",
       "      <td>4670424</td>\n",
       "      <td>13.702000</td>\n",
       "      <td>-89.208000</td>\n",
       "    </tr>\n",
       "    <tr>\n",
       "      <th>3</th>\n",
       "      <td>4670424</td>\n",
       "      <td>13.400000</td>\n",
       "      <td>-89.750000</td>\n",
       "    </tr>\n",
       "    <tr>\n",
       "      <th>4</th>\n",
       "      <td>4670424</td>\n",
       "      <td>12.850000</td>\n",
       "      <td>-88.000000</td>\n",
       "    </tr>\n",
       "    <tr>\n",
       "      <th>...</th>\n",
       "      <td>...</td>\n",
       "      <td>...</td>\n",
       "      <td>...</td>\n",
       "    </tr>\n",
       "    <tr>\n",
       "      <th>556388</th>\n",
       "      <td>5239183</td>\n",
       "      <td>3.450000</td>\n",
       "      <td>-76.533333</td>\n",
       "    </tr>\n",
       "    <tr>\n",
       "      <th>556389</th>\n",
       "      <td>104468</td>\n",
       "      <td>30.815839</td>\n",
       "      <td>45.996069</td>\n",
       "    </tr>\n",
       "    <tr>\n",
       "      <th>556390</th>\n",
       "      <td>968281</td>\n",
       "      <td>46.953333</td>\n",
       "      <td>6.256944</td>\n",
       "    </tr>\n",
       "    <tr>\n",
       "      <th>556391</th>\n",
       "      <td>79985</td>\n",
       "      <td>45.109659</td>\n",
       "      <td>7.641221</td>\n",
       "    </tr>\n",
       "    <tr>\n",
       "      <th>556392</th>\n",
       "      <td>872296</td>\n",
       "      <td>15.425675</td>\n",
       "      <td>-90.326285</td>\n",
       "    </tr>\n",
       "  </tbody>\n",
       "</table>\n",
       "<p>556393 rows × 3 columns</p>\n",
       "</div>"
      ],
      "text/plain": [
       "             id     gt_lat     gt_lon\n",
       "0       4328020  41.507500  -5.817500\n",
       "1       4670424  13.738000 -89.292000\n",
       "2       4670424  13.702000 -89.208000\n",
       "3       4670424  13.400000 -89.750000\n",
       "4       4670424  12.850000 -88.000000\n",
       "...         ...        ...        ...\n",
       "556388  5239183   3.450000 -76.533333\n",
       "556389   104468  30.815839  45.996069\n",
       "556390   968281  46.953333   6.256944\n",
       "556391    79985  45.109659   7.641221\n",
       "556392   872296  15.425675 -90.326285\n",
       "\n",
       "[556393 rows x 3 columns]"
      ]
     },
     "execution_count": 18,
     "metadata": {},
     "output_type": "execute_result"
    }
   ],
   "source": [
    "#renombro la columna ya que me resulta necesario para luego poder hacer el merge\n",
    "arcGeo.rename(columns={'gt_page_id':'id'},inplace=True)\n",
    "arcGeo"
   ]
  },
  {
   "cell_type": "code",
   "execution_count": 19,
   "id": "2852b97f",
   "metadata": {},
   "outputs": [
    {
     "data": {
      "text/html": [
       "<div>\n",
       "<style scoped>\n",
       "    .dataframe tbody tr th:only-of-type {\n",
       "        vertical-align: middle;\n",
       "    }\n",
       "\n",
       "    .dataframe tbody tr th {\n",
       "        vertical-align: top;\n",
       "    }\n",
       "\n",
       "    .dataframe thead th {\n",
       "        text-align: right;\n",
       "    }\n",
       "</style>\n",
       "<table border=\"1\" class=\"dataframe\">\n",
       "  <thead>\n",
       "    <tr style=\"text-align: right;\">\n",
       "      <th></th>\n",
       "      <th>cl_from</th>\n",
       "      <th>cl_to</th>\n",
       "    </tr>\n",
       "  </thead>\n",
       "  <tbody>\n",
       "    <tr>\n",
       "      <th>0</th>\n",
       "      <td>5</td>\n",
       "      <td>Wikipedia:Mantenimiento</td>\n",
       "    </tr>\n",
       "    <tr>\n",
       "      <th>1</th>\n",
       "      <td>5</td>\n",
       "      <td>Wikipedia:PÃ¡ginas_con_enlaces_mÃ¡gicos_de_ISBN</td>\n",
       "    </tr>\n",
       "    <tr>\n",
       "      <th>2</th>\n",
       "      <td>7</td>\n",
       "      <td>Andorra</td>\n",
       "    </tr>\n",
       "    <tr>\n",
       "      <th>3</th>\n",
       "      <td>7</td>\n",
       "      <td>Instituciones_patrocinadoras_de_equipos_ciclistas</td>\n",
       "    </tr>\n",
       "    <tr>\n",
       "      <th>4</th>\n",
       "      <td>7</td>\n",
       "      <td>Wikipedia:ArtÃ­culos_con_datos_locales</td>\n",
       "    </tr>\n",
       "    <tr>\n",
       "      <th>...</th>\n",
       "      <td>...</td>\n",
       "      <td>...</td>\n",
       "    </tr>\n",
       "    <tr>\n",
       "      <th>13308614</th>\n",
       "      <td>10010781</td>\n",
       "      <td>Nacidos_en_1994</td>\n",
       "    </tr>\n",
       "    <tr>\n",
       "      <th>13308615</th>\n",
       "      <td>10010781</td>\n",
       "      <td>Personas_vivas</td>\n",
       "    </tr>\n",
       "    <tr>\n",
       "      <th>13308616</th>\n",
       "      <td>10010783</td>\n",
       "      <td>Fundaciones_en_SudÃ¡frica</td>\n",
       "    </tr>\n",
       "    <tr>\n",
       "      <th>13308617</th>\n",
       "      <td>10010787</td>\n",
       "      <td>Fundaciones_en_SudÃ¡frica_por_aÃ±o</td>\n",
       "    </tr>\n",
       "    <tr>\n",
       "      <th>13308618</th>\n",
       "      <td>10010787</td>\n",
       "      <td>SudÃ¡frica_en_2010</td>\n",
       "    </tr>\n",
       "  </tbody>\n",
       "</table>\n",
       "<p>13308619 rows × 2 columns</p>\n",
       "</div>"
      ],
      "text/plain": [
       "           cl_from                                              cl_to\n",
       "0                5                            Wikipedia:Mantenimiento\n",
       "1                5    Wikipedia:PÃ¡ginas_con_enlaces_mÃ¡gicos_de_ISBN\n",
       "2                7                                            Andorra\n",
       "3                7  Instituciones_patrocinadoras_de_equipos_ciclistas\n",
       "4                7             Wikipedia:ArtÃ­culos_con_datos_locales\n",
       "...            ...                                                ...\n",
       "13308614  10010781                                    Nacidos_en_1994\n",
       "13308615  10010781                                     Personas_vivas\n",
       "13308616  10010783                          Fundaciones_en_SudÃ¡frica\n",
       "13308617  10010787                 Fundaciones_en_SudÃ¡frica_por_aÃ±o\n",
       "13308618  10010787                                 SudÃ¡frica_en_2010\n",
       "\n",
       "[13308619 rows x 2 columns]"
      ]
     },
     "execution_count": 19,
     "metadata": {},
     "output_type": "execute_result"
    }
   ],
   "source": [
    "arcCat = pd.read_csv('categorylinks.csv',\\\n",
    "                 usecols= ['cl_from','cl_to'])\n",
    "arcCat"
   ]
  },
  {
   "cell_type": "code",
   "execution_count": 20,
   "id": "fd61c43d",
   "metadata": {},
   "outputs": [
    {
     "data": {
      "text/html": [
       "<div>\n",
       "<style scoped>\n",
       "    .dataframe tbody tr th:only-of-type {\n",
       "        vertical-align: middle;\n",
       "    }\n",
       "\n",
       "    .dataframe tbody tr th {\n",
       "        vertical-align: top;\n",
       "    }\n",
       "\n",
       "    .dataframe thead th {\n",
       "        text-align: right;\n",
       "    }\n",
       "</style>\n",
       "<table border=\"1\" class=\"dataframe\">\n",
       "  <thead>\n",
       "    <tr style=\"text-align: right;\">\n",
       "      <th></th>\n",
       "      <th>id</th>\n",
       "      <th>categoria</th>\n",
       "    </tr>\n",
       "  </thead>\n",
       "  <tbody>\n",
       "    <tr>\n",
       "      <th>0</th>\n",
       "      <td>5</td>\n",
       "      <td>Wikipedia:Mantenimiento</td>\n",
       "    </tr>\n",
       "    <tr>\n",
       "      <th>1</th>\n",
       "      <td>5</td>\n",
       "      <td>Wikipedia:PÃ¡ginas_con_enlaces_mÃ¡gicos_de_ISBN</td>\n",
       "    </tr>\n",
       "    <tr>\n",
       "      <th>2</th>\n",
       "      <td>7</td>\n",
       "      <td>Andorra</td>\n",
       "    </tr>\n",
       "    <tr>\n",
       "      <th>3</th>\n",
       "      <td>7</td>\n",
       "      <td>Instituciones_patrocinadoras_de_equipos_ciclistas</td>\n",
       "    </tr>\n",
       "    <tr>\n",
       "      <th>4</th>\n",
       "      <td>7</td>\n",
       "      <td>Wikipedia:ArtÃ­culos_con_datos_locales</td>\n",
       "    </tr>\n",
       "    <tr>\n",
       "      <th>...</th>\n",
       "      <td>...</td>\n",
       "      <td>...</td>\n",
       "    </tr>\n",
       "    <tr>\n",
       "      <th>13308614</th>\n",
       "      <td>10010781</td>\n",
       "      <td>Nacidos_en_1994</td>\n",
       "    </tr>\n",
       "    <tr>\n",
       "      <th>13308615</th>\n",
       "      <td>10010781</td>\n",
       "      <td>Personas_vivas</td>\n",
       "    </tr>\n",
       "    <tr>\n",
       "      <th>13308616</th>\n",
       "      <td>10010783</td>\n",
       "      <td>Fundaciones_en_SudÃ¡frica</td>\n",
       "    </tr>\n",
       "    <tr>\n",
       "      <th>13308617</th>\n",
       "      <td>10010787</td>\n",
       "      <td>Fundaciones_en_SudÃ¡frica_por_aÃ±o</td>\n",
       "    </tr>\n",
       "    <tr>\n",
       "      <th>13308618</th>\n",
       "      <td>10010787</td>\n",
       "      <td>SudÃ¡frica_en_2010</td>\n",
       "    </tr>\n",
       "  </tbody>\n",
       "</table>\n",
       "<p>13308619 rows × 2 columns</p>\n",
       "</div>"
      ],
      "text/plain": [
       "                id                                          categoria\n",
       "0                5                            Wikipedia:Mantenimiento\n",
       "1                5    Wikipedia:PÃ¡ginas_con_enlaces_mÃ¡gicos_de_ISBN\n",
       "2                7                                            Andorra\n",
       "3                7  Instituciones_patrocinadoras_de_equipos_ciclistas\n",
       "4                7             Wikipedia:ArtÃ­culos_con_datos_locales\n",
       "...            ...                                                ...\n",
       "13308614  10010781                                    Nacidos_en_1994\n",
       "13308615  10010781                                     Personas_vivas\n",
       "13308616  10010783                          Fundaciones_en_SudÃ¡frica\n",
       "13308617  10010787                 Fundaciones_en_SudÃ¡frica_por_aÃ±o\n",
       "13308618  10010787                                 SudÃ¡frica_en_2010\n",
       "\n",
       "[13308619 rows x 2 columns]"
      ]
     },
     "execution_count": 20,
     "metadata": {},
     "output_type": "execute_result"
    }
   ],
   "source": [
    "arcCat.rename(columns={'cl_from':'id','cl_to':'categoria'},inplace=True)\n",
    "arcCat"
   ]
  },
  {
   "cell_type": "markdown",
   "id": "c0d7b319",
   "metadata": {},
   "source": [
    "Realizo un merge de los dos dataFrames para tener toda la información necesaria en un único dataFrame."
   ]
  },
  {
   "cell_type": "code",
   "execution_count": 21,
   "id": "33b69c2e",
   "metadata": {},
   "outputs": [
    {
     "data": {
      "text/html": [
       "<div>\n",
       "<style scoped>\n",
       "    .dataframe tbody tr th:only-of-type {\n",
       "        vertical-align: middle;\n",
       "    }\n",
       "\n",
       "    .dataframe tbody tr th {\n",
       "        vertical-align: top;\n",
       "    }\n",
       "\n",
       "    .dataframe thead th {\n",
       "        text-align: right;\n",
       "    }\n",
       "</style>\n",
       "<table border=\"1\" class=\"dataframe\">\n",
       "  <thead>\n",
       "    <tr style=\"text-align: right;\">\n",
       "      <th></th>\n",
       "      <th>id</th>\n",
       "      <th>categoria</th>\n",
       "      <th>gt_lat</th>\n",
       "      <th>gt_lon</th>\n",
       "    </tr>\n",
       "  </thead>\n",
       "  <tbody>\n",
       "    <tr>\n",
       "      <th>0</th>\n",
       "      <td>7</td>\n",
       "      <td>Andorra</td>\n",
       "      <td>42.500000</td>\n",
       "      <td>1.500000</td>\n",
       "    </tr>\n",
       "    <tr>\n",
       "      <th>1</th>\n",
       "      <td>7</td>\n",
       "      <td>Instituciones_patrocinadoras_de_equipos_ciclistas</td>\n",
       "      <td>42.500000</td>\n",
       "      <td>1.500000</td>\n",
       "    </tr>\n",
       "    <tr>\n",
       "      <th>2</th>\n",
       "      <td>7</td>\n",
       "      <td>Wikipedia:ArtÃ­culos_con_datos_locales</td>\n",
       "      <td>42.500000</td>\n",
       "      <td>1.500000</td>\n",
       "    </tr>\n",
       "    <tr>\n",
       "      <th>3</th>\n",
       "      <td>7</td>\n",
       "      <td>Wikipedia:ArtÃ­culos_con_datos_por_trasladar_a...</td>\n",
       "      <td>42.500000</td>\n",
       "      <td>1.500000</td>\n",
       "    </tr>\n",
       "    <tr>\n",
       "      <th>4</th>\n",
       "      <td>7</td>\n",
       "      <td>Wikipedia:ArtÃ­culos_con_enlaces_externos_rotos</td>\n",
       "      <td>42.500000</td>\n",
       "      <td>1.500000</td>\n",
       "    </tr>\n",
       "    <tr>\n",
       "      <th>...</th>\n",
       "      <td>...</td>\n",
       "      <td>...</td>\n",
       "      <td>...</td>\n",
       "      <td>...</td>\n",
       "    </tr>\n",
       "    <tr>\n",
       "      <th>3042005</th>\n",
       "      <td>10010690</td>\n",
       "      <td>Wikipedia:ArtÃ­culos_con_datos_por_trasladar_a...</td>\n",
       "      <td>23.000000</td>\n",
       "      <td>91.730000</td>\n",
       "    </tr>\n",
       "    <tr>\n",
       "      <th>3042006</th>\n",
       "      <td>10010690</td>\n",
       "      <td>Wikipedia:ArtÃ­culos_con_ficha_sin_actualizar</td>\n",
       "      <td>23.000000</td>\n",
       "      <td>91.730000</td>\n",
       "    </tr>\n",
       "    <tr>\n",
       "      <th>3042007</th>\n",
       "      <td>10010690</td>\n",
       "      <td>Wikipedia:ArtÃ­culos_sin_imagen_en_entidad_sub...</td>\n",
       "      <td>23.000000</td>\n",
       "      <td>91.730000</td>\n",
       "    </tr>\n",
       "    <tr>\n",
       "      <th>3042008</th>\n",
       "      <td>10010724</td>\n",
       "      <td>RÃ­os_de_Nueva_Gales_del_Sur</td>\n",
       "      <td>-30.931944</td>\n",
       "      <td>147.628889</td>\n",
       "    </tr>\n",
       "    <tr>\n",
       "      <th>3042009</th>\n",
       "      <td>10010724</td>\n",
       "      <td>Wikipedia:ArtÃ­culos_con_coordenadas_en_Wikidata</td>\n",
       "      <td>-30.931944</td>\n",
       "      <td>147.628889</td>\n",
       "    </tr>\n",
       "  </tbody>\n",
       "</table>\n",
       "<p>3042010 rows × 4 columns</p>\n",
       "</div>"
      ],
      "text/plain": [
       "               id                                          categoria  \\\n",
       "0               7                                            Andorra   \n",
       "1               7  Instituciones_patrocinadoras_de_equipos_ciclistas   \n",
       "2               7             Wikipedia:ArtÃ­culos_con_datos_locales   \n",
       "3               7  Wikipedia:ArtÃ­culos_con_datos_por_trasladar_a...   \n",
       "4               7    Wikipedia:ArtÃ­culos_con_enlaces_externos_rotos   \n",
       "...           ...                                                ...   \n",
       "3042005  10010690  Wikipedia:ArtÃ­culos_con_datos_por_trasladar_a...   \n",
       "3042006  10010690      Wikipedia:ArtÃ­culos_con_ficha_sin_actualizar   \n",
       "3042007  10010690  Wikipedia:ArtÃ­culos_sin_imagen_en_entidad_sub...   \n",
       "3042008  10010724                       RÃ­os_de_Nueva_Gales_del_Sur   \n",
       "3042009  10010724   Wikipedia:ArtÃ­culos_con_coordenadas_en_Wikidata   \n",
       "\n",
       "            gt_lat      gt_lon  \n",
       "0        42.500000    1.500000  \n",
       "1        42.500000    1.500000  \n",
       "2        42.500000    1.500000  \n",
       "3        42.500000    1.500000  \n",
       "4        42.500000    1.500000  \n",
       "...            ...         ...  \n",
       "3042005  23.000000   91.730000  \n",
       "3042006  23.000000   91.730000  \n",
       "3042007  23.000000   91.730000  \n",
       "3042008 -30.931944  147.628889  \n",
       "3042009 -30.931944  147.628889  \n",
       "\n",
       "[3042010 rows x 4 columns]"
      ]
     },
     "execution_count": 21,
     "metadata": {},
     "output_type": "execute_result"
    }
   ],
   "source": [
    "dfMerge = arcCat.merge(arcGeo)\n",
    "dfMerge"
   ]
  },
  {
   "cell_type": "markdown",
   "id": "df673af9",
   "metadata": {},
   "source": [
    "Libero el espacio que me estan ocupando en RAM los dos dataFrames que no utilizare."
   ]
  },
  {
   "cell_type": "code",
   "execution_count": 22,
   "id": "df93942d",
   "metadata": {},
   "outputs": [],
   "source": [
    "del arcCat"
   ]
  },
  {
   "cell_type": "code",
   "execution_count": 23,
   "id": "a74fab0d",
   "metadata": {},
   "outputs": [],
   "source": [
    "del arcGeo"
   ]
  },
  {
   "cell_type": "code",
   "execution_count": 24,
   "id": "c9ecfe71",
   "metadata": {},
   "outputs": [
    {
     "name": "stdout",
     "output_type": "stream",
     "text": [
      "<class 'pandas.core.frame.DataFrame'>\n",
      "Int64Index: 3042010 entries, 0 to 3042009\n",
      "Data columns (total 4 columns):\n",
      " #   Column     Dtype  \n",
      "---  ------     -----  \n",
      " 0   id         int64  \n",
      " 1   categoria  object \n",
      " 2   gt_lat     float64\n",
      " 3   gt_lon     float64\n",
      "dtypes: float64(2), int64(1), object(1)\n",
      "memory usage: 116.0+ MB\n"
     ]
    }
   ],
   "source": [
    "#Verifico cual es el tipo de datos que estoy manejando\n",
    "dfMerge.info()"
   ]
  },
  {
   "cell_type": "markdown",
   "id": "51ecec95",
   "metadata": {},
   "source": [
    "Verifico si mi DataFrame tiene nulos."
   ]
  },
  {
   "cell_type": "code",
   "execution_count": 25,
   "id": "f0bd69c0",
   "metadata": {},
   "outputs": [
    {
     "data": {
      "text/plain": [
       "id           0\n",
       "categoria    0\n",
       "gt_lat       0\n",
       "gt_lon       0\n",
       "dtype: int64"
      ]
     },
     "execution_count": 25,
     "metadata": {},
     "output_type": "execute_result"
    }
   ],
   "source": [
    "dfMerge.isnull().sum()"
   ]
  },
  {
   "cell_type": "markdown",
   "id": "36a68198",
   "metadata": {},
   "source": [
    "El DataFrame esta listo para ser utilizado"
   ]
  },
  {
   "cell_type": "markdown",
   "id": "44a81391",
   "metadata": {},
   "source": [
    "Agrupo por categorias para hallar la latitud y longitud promedio de cada una."
   ]
  },
  {
   "cell_type": "code",
   "execution_count": 27,
   "id": "3fa232a4",
   "metadata": {},
   "outputs": [
    {
     "data": {
      "text/html": [
       "<div>\n",
       "<style scoped>\n",
       "    .dataframe tbody tr th:only-of-type {\n",
       "        vertical-align: middle;\n",
       "    }\n",
       "\n",
       "    .dataframe tbody tr th {\n",
       "        vertical-align: top;\n",
       "    }\n",
       "\n",
       "    .dataframe thead th {\n",
       "        text-align: right;\n",
       "    }\n",
       "</style>\n",
       "<table border=\"1\" class=\"dataframe\">\n",
       "  <thead>\n",
       "    <tr style=\"text-align: right;\">\n",
       "      <th></th>\n",
       "      <th>gt_lat</th>\n",
       "      <th>gt_lon</th>\n",
       "    </tr>\n",
       "    <tr>\n",
       "      <th>categoria</th>\n",
       "      <th></th>\n",
       "      <th></th>\n",
       "    </tr>\n",
       "  </thead>\n",
       "  <tbody>\n",
       "    <tr>\n",
       "      <th>1._FC_Colonia</th>\n",
       "      <td>50.933611</td>\n",
       "      <td>6.875000</td>\n",
       "    </tr>\n",
       "    <tr>\n",
       "      <th>1._FC_Heidenheim_1846</th>\n",
       "      <td>48.668500</td>\n",
       "      <td>10.139300</td>\n",
       "    </tr>\n",
       "    <tr>\n",
       "      <th>1._FC_Kaiserslautern</th>\n",
       "      <td>49.434444</td>\n",
       "      <td>7.775833</td>\n",
       "    </tr>\n",
       "    <tr>\n",
       "      <th>1._FC_NÃ¼rnberg</th>\n",
       "      <td>49.426389</td>\n",
       "      <td>11.125278</td>\n",
       "    </tr>\n",
       "    <tr>\n",
       "      <th>1._FC_Union_Berlin</th>\n",
       "      <td>52.457222</td>\n",
       "      <td>13.568056</td>\n",
       "    </tr>\n",
       "    <tr>\n",
       "      <th>...</th>\n",
       "      <td>...</td>\n",
       "      <td>...</td>\n",
       "    </tr>\n",
       "    <tr>\n",
       "      <th>Å koda</th>\n",
       "      <td>50.421100</td>\n",
       "      <td>14.930600</td>\n",
       "    </tr>\n",
       "    <tr>\n",
       "      <th>Å»agaÅ</th>\n",
       "      <td>51.616667</td>\n",
       "      <td>15.316667</td>\n",
       "    </tr>\n",
       "    <tr>\n",
       "      <th>Å»nin</th>\n",
       "      <td>52.849580</td>\n",
       "      <td>17.719920</td>\n",
       "    </tr>\n",
       "    <tr>\n",
       "      <th>Å»ywiec</th>\n",
       "      <td>49.688633</td>\n",
       "      <td>19.204017</td>\n",
       "    </tr>\n",
       "    <tr>\n",
       "      <th>Å½ilina</th>\n",
       "      <td>49.225833</td>\n",
       "      <td>18.708125</td>\n",
       "    </tr>\n",
       "  </tbody>\n",
       "</table>\n",
       "<p>108042 rows × 2 columns</p>\n",
       "</div>"
      ],
      "text/plain": [
       "                          gt_lat     gt_lon\n",
       "categoria                                  \n",
       "1._FC_Colonia          50.933611   6.875000\n",
       "1._FC_Heidenheim_1846  48.668500  10.139300\n",
       "1._FC_Kaiserslautern   49.434444   7.775833\n",
       "1._FC_NÃ¼rnberg        49.426389  11.125278\n",
       "1._FC_Union_Berlin     52.457222  13.568056\n",
       "...                          ...        ...\n",
       "Å koda                 50.421100  14.930600\n",
       "Å»agaÅ                51.616667  15.316667\n",
       "Å»nin                  52.849580  17.719920\n",
       "Å»ywiec                49.688633  19.204017\n",
       "Å½ilina                49.225833  18.708125\n",
       "\n",
       "[108042 rows x 2 columns]"
      ]
     },
     "execution_count": 27,
     "metadata": {},
     "output_type": "execute_result"
    }
   ],
   "source": [
    "dfGrouped = dfMerge.groupby('categoria').agg({'gt_lat' : 'mean', 'gt_lon' : 'mean'})\n",
    "dfGrouped"
   ]
  },
  {
   "cell_type": "code",
   "execution_count": 28,
   "id": "38fd5f3e",
   "metadata": {},
   "outputs": [],
   "source": [
    "del dfMerge"
   ]
  },
  {
   "cell_type": "code",
   "execution_count": 30,
   "id": "84cc4654",
   "metadata": {},
   "outputs": [
    {
     "data": {
      "text/plain": [
       "array([[50.933611  ,  6.875     ],\n",
       "       [48.6685    , 10.1393    ],\n",
       "       [49.434444  ,  7.775833  ],\n",
       "       ...,\n",
       "       [52.84958   , 17.71992   ],\n",
       "       [49.68863333, 19.20401667],\n",
       "       [49.22583342, 18.70812508]])"
      ]
     },
     "execution_count": 30,
     "metadata": {},
     "output_type": "execute_result"
    }
   ],
   "source": [
    "dfGrouped[['gt_lat', 'gt_lon']].values"
   ]
  },
  {
   "cell_type": "code",
   "execution_count": 31,
   "id": "98998b7b",
   "metadata": {},
   "outputs": [
    {
     "data": {
      "text/plain": [
       "numpy.ndarray"
      ]
     },
     "execution_count": 31,
     "metadata": {},
     "output_type": "execute_result"
    }
   ],
   "source": [
    "type(dfGrouped[['gt_lat', 'gt_lon']].values)"
   ]
  },
  {
   "cell_type": "markdown",
   "id": "479c59fe",
   "metadata": {},
   "source": [
    "Utilizo NarestNeighbors para hallar las catagorias mas cercanas. Buscare los dos vecinos mas cercanos de cada una, ya que el primer vecino (el mas proximo) sera la misma categoria."
   ]
  },
  {
   "cell_type": "code",
   "execution_count": 32,
   "id": "6143f035",
   "metadata": {},
   "outputs": [],
   "source": [
    "cercania = NearestNeighbors(n_neighbors=2, algorithm='brute').fit(dfGrouped[['gt_lat', 'gt_lon']].values)\n",
    "distances, indices = cercania.kneighbors(dfGrouped[['gt_lat', 'gt_lon']].values)"
   ]
  },
  {
   "cell_type": "code",
   "execution_count": 33,
   "id": "295fbead",
   "metadata": {},
   "outputs": [
    {
     "data": {
      "text/plain": [
       "array([[0.        , 0.00644806],\n",
       "       [0.        , 0.01694943],\n",
       "       [0.        , 0.        ],\n",
       "       ...,\n",
       "       [0.        , 0.0660249 ],\n",
       "       [0.        , 0.05390422],\n",
       "       [0.        , 0.03146806]])"
      ]
     },
     "execution_count": 33,
     "metadata": {},
     "output_type": "execute_result"
    }
   ],
   "source": [
    "distances"
   ]
  },
  {
   "cell_type": "markdown",
   "id": "6e93e45d",
   "metadata": {},
   "source": [
    "Me quedo con las distancias de cada categoria a su (segunda) categoria más cercana."
   ]
  },
  {
   "cell_type": "code",
   "execution_count": 34,
   "id": "caa75100",
   "metadata": {},
   "outputs": [
    {
     "data": {
      "text/plain": [
       "array([0.00644806, 0.01694943, 0.        , ..., 0.0660249 , 0.05390422,\n",
       "       0.03146806])"
      ]
     },
     "execution_count": 34,
     "metadata": {},
     "output_type": "execute_result"
    }
   ],
   "source": [
    "distancias = distances[:,1].flatten()\n",
    "distancias"
   ]
  },
  {
   "cell_type": "markdown",
   "id": "92c6aea4",
   "metadata": {},
   "source": [
    "Veo cual es la mínima distancia."
   ]
  },
  {
   "cell_type": "code",
   "execution_count": 35,
   "id": "bc58944f",
   "metadata": {},
   "outputs": [
    {
     "data": {
      "text/plain": [
       "0.0"
      ]
     },
     "execution_count": 35,
     "metadata": {},
     "output_type": "execute_result"
    }
   ],
   "source": [
    "np.amin(distancias, axis=None, out=None, initial=None)"
   ]
  },
  {
   "cell_type": "markdown",
   "id": "3bace996",
   "metadata": {},
   "source": [
    "Veo cuales son los que me generan la minima distancia."
   ]
  },
  {
   "cell_type": "code",
   "execution_count": 36,
   "id": "4c76a172",
   "metadata": {},
   "outputs": [
    {
     "data": {
      "text/plain": [
       "(array([     2,      5,     13, ..., 108008, 108010, 108014], dtype=int64),)"
      ]
     },
     "execution_count": 36,
     "metadata": {},
     "output_type": "execute_result"
    }
   ],
   "source": [
    "np.where(distancias == np.amin(distancias))"
   ]
  },
  {
   "cell_type": "markdown",
   "id": "afe8bae9",
   "metadata": {},
   "source": [
    "Busco las categorias"
   ]
  },
  {
   "cell_type": "code",
   "execution_count": 37,
   "id": "6ea31b4d",
   "metadata": {},
   "outputs": [
    {
     "data": {
      "text/plain": [
       "array([ 30986,  10951,  30997, ...,   6588, 105397,  91688], dtype=int64)"
      ]
     },
     "execution_count": 37,
     "metadata": {},
     "output_type": "execute_result"
    }
   ],
   "source": [
    "indices[:,1].flatten()"
   ]
  },
  {
   "cell_type": "markdown",
   "id": "0504a4ba",
   "metadata": {},
   "source": [
    "Se cumplen varios casos en los que la distancia minima es 0, por lo que tomare el segundo caso. Es decir, la posicion 5 de los vectores."
   ]
  },
  {
   "cell_type": "code",
   "execution_count": 38,
   "id": "ff7b5c70",
   "metadata": {},
   "outputs": [
    {
     "name": "stdout",
     "output_type": "stream",
     "text": [
      "pos_cat 1:  5 pos_cat 2:  31504\n"
     ]
    }
   ],
   "source": [
    "print('pos_cat 1: ',indices[5][0],'pos_cat 2: ',indices[5][1])"
   ]
  },
  {
   "cell_type": "markdown",
   "id": "01f0f179",
   "metadata": {},
   "source": [
    "Busco la informacion en mi dataFrame orginal de las dos categorias que son mas cercanas."
   ]
  },
  {
   "cell_type": "code",
   "execution_count": 39,
   "id": "bcbc40bd",
   "metadata": {},
   "outputs": [
    {
     "data": {
      "text/plain": [
       "gt_lat    49.992500\n",
       "gt_lon     8.234862\n",
       "Name: 1._FSV_Maguncia_05, dtype: float64"
      ]
     },
     "execution_count": 39,
     "metadata": {},
     "output_type": "execute_result"
    }
   ],
   "source": [
    "df.iloc[indices[5][0], :]"
   ]
  },
  {
   "cell_type": "code",
   "execution_count": 40,
   "id": "6e06735e",
   "metadata": {},
   "outputs": [
    {
     "data": {
      "text/plain": [
       "gt_lat    49.992500\n",
       "gt_lon     8.234862\n",
       "Name: Deporte_en_Maguncia, dtype: float64"
      ]
     },
     "execution_count": 40,
     "metadata": {},
     "output_type": "execute_result"
    }
   ],
   "source": [
    "df.iloc[indices[5][1], :]"
   ]
  },
  {
   "cell_type": "markdown",
   "id": "3852e6f4",
   "metadata": {},
   "source": [
    "#### Respuesta"
   ]
  },
  {
   "cell_type": "code",
   "execution_count": 41,
   "id": "0427b786",
   "metadata": {},
   "outputs": [
    {
     "name": "stdout",
     "output_type": "stream",
     "text": [
      "Por lo tanto, las dos categorias más cercanas son:  1._FSV_Maguncia_05 y  Deporte_en_Maguncia\n"
     ]
    }
   ],
   "source": [
    "print('Por lo tanto, las dos categorias más cercanas son: ',df.iloc[indices[5][0], :].name , 'y ', df.iloc[indices[5][1], :].name )"
   ]
  }
 ],
 "metadata": {
  "kernelspec": {
   "display_name": "Python 3",
   "language": "python",
   "name": "python3"
  },
  "language_info": {
   "codemirror_mode": {
    "name": "ipython",
    "version": 3
   },
   "file_extension": ".py",
   "mimetype": "text/x-python",
   "name": "python",
   "nbconvert_exporter": "python",
   "pygments_lexer": "ipython3",
   "version": "3.8.8"
  }
 },
 "nbformat": 4,
 "nbformat_minor": 5
}
