{
 "cells": [
  {
   "cell_type": "markdown",
   "id": "4ac16238",
   "metadata": {},
   "source": [
    "### Consigna: Si la experiencia de un usuario es la cantidad de logs en los que participó, queremos saber que tanto nos sirve para predecir el futuro vandalismo: ¿Cuál es la probabilidad de que un usuario sea bloqueado según experiencias: <10, 10-40, 40-100, >100? Tener en cuenta que esta experiencia debe ser PREVIA al bloqueo del usuario (⭐⭐⭐)"
   ]
  },
  {
   "cell_type": "markdown",
   "id": "620abdae",
   "metadata": {},
   "source": [
    "Importo la libreria que utilizare en el desarrollo de esta consulta."
   ]
  },
  {
   "cell_type": "code",
   "execution_count": 1,
   "id": "dcba00ff",
   "metadata": {},
   "outputs": [],
   "source": [
    "import pandas as pd"
   ]
  },
  {
   "cell_type": "code",
   "execution_count": 2,
   "id": "73166c58",
   "metadata": {},
   "outputs": [
    {
     "name": "stderr",
     "output_type": "stream",
     "text": [
      "C:\\Users\\julip\\anaconda3\\lib\\site-packages\\IPython\\core\\interactiveshell.py:3165: DtypeWarning: Columns (4) have mixed types.Specify dtype option on import or set low_memory=False.\n",
      "  has_raised = await self.run_ast_nodes(code_ast.body, cell_name,\n"
     ]
    }
   ],
   "source": [
    "archivo = pd.read_csv('logs.csv',\\\n",
    "                     usecols= ['item_id','timestamp','logtype','contributor_ip','contributor_username','title'])"
   ]
  },
  {
   "cell_type": "code",
   "execution_count": 3,
   "id": "59cdf727",
   "metadata": {},
   "outputs": [],
   "source": [
    "archivo['Usuarios'] = archivo['contributor_username'].fillna(archivo['contributor_ip'])"
   ]
  },
  {
   "cell_type": "code",
   "execution_count": 4,
   "id": "2305e43a",
   "metadata": {},
   "outputs": [],
   "source": [
    "#Me quedo con la parte del dataFrame que me interesa\n",
    "arc=archivo[['Usuarios','item_id','timestamp','logtype','title']]"
   ]
  },
  {
   "cell_type": "code",
   "execution_count": 5,
   "id": "0eb02682",
   "metadata": {},
   "outputs": [],
   "source": [
    "#libero memoria RAM\n",
    "del archivo"
   ]
  },
  {
   "cell_type": "code",
   "execution_count": 6,
   "id": "0de8e86b",
   "metadata": {},
   "outputs": [
    {
     "data": {
      "text/plain": [
       "Usuarios     1077\n",
       "item_id         0\n",
       "timestamp       0\n",
       "logtype         2\n",
       "title        2005\n",
       "dtype: int64"
      ]
     },
     "execution_count": 6,
     "metadata": {},
     "output_type": "execute_result"
    }
   ],
   "source": [
    "arc.isnull().sum()"
   ]
  },
  {
   "cell_type": "code",
   "execution_count": 7,
   "id": "f8f1d93c",
   "metadata": {},
   "outputs": [],
   "source": [
    "arc.dropna(inplace=True)"
   ]
  },
  {
   "cell_type": "code",
   "execution_count": 8,
   "id": "2e916ada",
   "metadata": {},
   "outputs": [
    {
     "data": {
      "text/plain": [
       "Usuarios     0\n",
       "item_id      0\n",
       "timestamp    0\n",
       "logtype      0\n",
       "title        0\n",
       "dtype: int64"
      ]
     },
     "execution_count": 8,
     "metadata": {},
     "output_type": "execute_result"
    }
   ],
   "source": [
    "arc.isnull().sum()"
   ]
  },
  {
   "cell_type": "code",
   "execution_count": 9,
   "id": "4e0bfb4d",
   "metadata": {},
   "outputs": [
    {
     "data": {
      "text/html": [
       "<div>\n",
       "<style scoped>\n",
       "    .dataframe tbody tr th:only-of-type {\n",
       "        vertical-align: middle;\n",
       "    }\n",
       "\n",
       "    .dataframe tbody tr th {\n",
       "        vertical-align: top;\n",
       "    }\n",
       "\n",
       "    .dataframe thead th {\n",
       "        text-align: right;\n",
       "    }\n",
       "</style>\n",
       "<table border=\"1\" class=\"dataframe\">\n",
       "  <thead>\n",
       "    <tr style=\"text-align: right;\">\n",
       "      <th></th>\n",
       "      <th>Usuarios</th>\n",
       "    </tr>\n",
       "    <tr>\n",
       "      <th>Usuarios</th>\n",
       "      <th></th>\n",
       "    </tr>\n",
       "  </thead>\n",
       "  <tbody>\n",
       "    <tr>\n",
       "      <th>! ! ! ! ! ! ! ! ! ! ! ! ! ! HAGGEⓇ? 123</th>\n",
       "      <td>1</td>\n",
       "    </tr>\n",
       "    <tr>\n",
       "      <th>! ! ! Histoire hebdomadaire de la patrie ! ! !</th>\n",
       "      <td>1</td>\n",
       "    </tr>\n",
       "    <tr>\n",
       "      <th>! Bikkit !</th>\n",
       "      <td>1</td>\n",
       "    </tr>\n",
       "    <tr>\n",
       "      <th>! DanSkammelsrod !</th>\n",
       "      <td>1</td>\n",
       "    </tr>\n",
       "    <tr>\n",
       "      <th>! Gabriel !</th>\n",
       "      <td>1</td>\n",
       "    </tr>\n",
       "    <tr>\n",
       "      <th>...</th>\n",
       "      <td>...</td>\n",
       "    </tr>\n",
       "    <tr>\n",
       "      <th>𝚕𝚒𝚝𝚢 𝚌𝚟18</th>\n",
       "      <td>1</td>\n",
       "    </tr>\n",
       "    <tr>\n",
       "      <th>😂</th>\n",
       "      <td>1</td>\n",
       "    </tr>\n",
       "    <tr>\n",
       "      <th>🤖</th>\n",
       "      <td>1</td>\n",
       "    </tr>\n",
       "    <tr>\n",
       "      <th>𠔻𪚥</th>\n",
       "      <td>1</td>\n",
       "    </tr>\n",
       "    <tr>\n",
       "      <th>𥐣</th>\n",
       "      <td>1</td>\n",
       "    </tr>\n",
       "  </tbody>\n",
       "</table>\n",
       "<p>6272847 rows × 1 columns</p>\n",
       "</div>"
      ],
      "text/plain": [
       "                                                Usuarios\n",
       "Usuarios                                                \n",
       "! ! ! ! ! ! ! ! ! ! ! ! ! ! HAGGEⓇ? 123                1\n",
       "! ! ! Histoire hebdomadaire de la patrie ! ! !         1\n",
       "! Bikkit !                                             1\n",
       "! DanSkammelsrod !                                     1\n",
       "! Gabriel !                                            1\n",
       "...                                                  ...\n",
       "𝚕𝚒𝚝𝚢 𝚌𝚟18                                              1\n",
       "😂                                                      1\n",
       "🤖                                                      1\n",
       "𠔻𪚥                                                     1\n",
       "𥐣                                                      1\n",
       "\n",
       "[6272847 rows x 1 columns]"
      ]
     },
     "execution_count": 9,
     "metadata": {},
     "output_type": "execute_result"
    }
   ],
   "source": [
    "totalUsuarios=arc.groupby(['Usuarios']).agg({'Usuarios':'count'})\n",
    "totalUsuarios"
   ]
  },
  {
   "cell_type": "code",
   "execution_count": 10,
   "id": "5fa51c0e",
   "metadata": {},
   "outputs": [],
   "source": [
    "totalUsuarios.rename(columns={'Usuarios':'Experiencia'},inplace=True)"
   ]
  },
  {
   "cell_type": "code",
   "execution_count": 11,
   "id": "260f4299",
   "metadata": {
    "scrolled": true
   },
   "outputs": [],
   "source": [
    "totalUsuarios.reset_index(inplace=True)"
   ]
  },
  {
   "cell_type": "code",
   "execution_count": 12,
   "id": "f30baadb",
   "metadata": {},
   "outputs": [],
   "source": [
    "def asignarCat(x):\n",
    "    if x < 10:\n",
    "        return (\"<10\")\n",
    "    elif 10<x<40:\n",
    "        return(\"10-40\")\n",
    "    elif 40<x<100:\n",
    "        return(\"40-100\")\n",
    "    else:\n",
    "        return (\">100\")"
   ]
  },
  {
   "cell_type": "code",
   "execution_count": 13,
   "id": "4482e647",
   "metadata": {},
   "outputs": [
    {
     "data": {
      "text/html": [
       "<div>\n",
       "<style scoped>\n",
       "    .dataframe tbody tr th:only-of-type {\n",
       "        vertical-align: middle;\n",
       "    }\n",
       "\n",
       "    .dataframe tbody tr th {\n",
       "        vertical-align: top;\n",
       "    }\n",
       "\n",
       "    .dataframe thead th {\n",
       "        text-align: right;\n",
       "    }\n",
       "</style>\n",
       "<table border=\"1\" class=\"dataframe\">\n",
       "  <thead>\n",
       "    <tr style=\"text-align: right;\">\n",
       "      <th></th>\n",
       "      <th>Usuarios</th>\n",
       "      <th>Experiencia</th>\n",
       "      <th>categoria</th>\n",
       "    </tr>\n",
       "  </thead>\n",
       "  <tbody>\n",
       "    <tr>\n",
       "      <th>0</th>\n",
       "      <td>! ! ! ! ! ! ! ! ! ! ! ! ! ! HAGGEⓇ? 123</td>\n",
       "      <td>1</td>\n",
       "      <td>&lt;10</td>\n",
       "    </tr>\n",
       "    <tr>\n",
       "      <th>1</th>\n",
       "      <td>! ! ! Histoire hebdomadaire de la patrie ! ! !</td>\n",
       "      <td>1</td>\n",
       "      <td>&lt;10</td>\n",
       "    </tr>\n",
       "    <tr>\n",
       "      <th>2</th>\n",
       "      <td>! Bikkit !</td>\n",
       "      <td>1</td>\n",
       "      <td>&lt;10</td>\n",
       "    </tr>\n",
       "    <tr>\n",
       "      <th>3</th>\n",
       "      <td>! DanSkammelsrod !</td>\n",
       "      <td>1</td>\n",
       "      <td>&lt;10</td>\n",
       "    </tr>\n",
       "    <tr>\n",
       "      <th>4</th>\n",
       "      <td>! Gabriel !</td>\n",
       "      <td>1</td>\n",
       "      <td>&lt;10</td>\n",
       "    </tr>\n",
       "    <tr>\n",
       "      <th>...</th>\n",
       "      <td>...</td>\n",
       "      <td>...</td>\n",
       "      <td>...</td>\n",
       "    </tr>\n",
       "    <tr>\n",
       "      <th>6272842</th>\n",
       "      <td>𝚕𝚒𝚝𝚢 𝚌𝚟18</td>\n",
       "      <td>1</td>\n",
       "      <td>&lt;10</td>\n",
       "    </tr>\n",
       "    <tr>\n",
       "      <th>6272843</th>\n",
       "      <td>😂</td>\n",
       "      <td>1</td>\n",
       "      <td>&lt;10</td>\n",
       "    </tr>\n",
       "    <tr>\n",
       "      <th>6272844</th>\n",
       "      <td>🤖</td>\n",
       "      <td>1</td>\n",
       "      <td>&lt;10</td>\n",
       "    </tr>\n",
       "    <tr>\n",
       "      <th>6272845</th>\n",
       "      <td>𠔻𪚥</td>\n",
       "      <td>1</td>\n",
       "      <td>&lt;10</td>\n",
       "    </tr>\n",
       "    <tr>\n",
       "      <th>6272846</th>\n",
       "      <td>𥐣</td>\n",
       "      <td>1</td>\n",
       "      <td>&lt;10</td>\n",
       "    </tr>\n",
       "  </tbody>\n",
       "</table>\n",
       "<p>6272847 rows × 3 columns</p>\n",
       "</div>"
      ],
      "text/plain": [
       "                                               Usuarios  Experiencia categoria\n",
       "0               ! ! ! ! ! ! ! ! ! ! ! ! ! ! HAGGEⓇ? 123            1       <10\n",
       "1        ! ! ! Histoire hebdomadaire de la patrie ! ! !            1       <10\n",
       "2                                            ! Bikkit !            1       <10\n",
       "3                                    ! DanSkammelsrod !            1       <10\n",
       "4                                           ! Gabriel !            1       <10\n",
       "...                                                 ...          ...       ...\n",
       "6272842                                       𝚕𝚒𝚝𝚢 𝚌𝚟18            1       <10\n",
       "6272843                                               😂            1       <10\n",
       "6272844                                               🤖            1       <10\n",
       "6272845                                              𠔻𪚥            1       <10\n",
       "6272846                                               𥐣            1       <10\n",
       "\n",
       "[6272847 rows x 3 columns]"
      ]
     },
     "execution_count": 13,
     "metadata": {},
     "output_type": "execute_result"
    }
   ],
   "source": [
    "totalUsuarios['categoria'] = totalUsuarios['Experiencia'].apply(asignarCat)\n",
    "totalUsuarios"
   ]
  },
  {
   "cell_type": "code",
   "execution_count": 14,
   "id": "adb44593",
   "metadata": {
    "scrolled": false
   },
   "outputs": [
    {
     "data": {
      "text/plain": [
       "<10       6262394\n",
       "10-40        5926\n",
       ">100         2989\n",
       "40-100       1538\n",
       "Name: categoria, dtype: int64"
      ]
     },
     "execution_count": 14,
     "metadata": {},
     "output_type": "execute_result"
    }
   ],
   "source": [
    "totalUsuarios['categoria'].value_counts()"
   ]
  },
  {
   "cell_type": "markdown",
   "id": "48eb72cf",
   "metadata": {},
   "source": [
    "Trabajo con los bloqueos"
   ]
  },
  {
   "cell_type": "code",
   "execution_count": 15,
   "id": "211b6071",
   "metadata": {},
   "outputs": [
    {
     "data": {
      "text/html": [
       "<div>\n",
       "<style scoped>\n",
       "    .dataframe tbody tr th:only-of-type {\n",
       "        vertical-align: middle;\n",
       "    }\n",
       "\n",
       "    .dataframe tbody tr th {\n",
       "        vertical-align: top;\n",
       "    }\n",
       "\n",
       "    .dataframe thead th {\n",
       "        text-align: right;\n",
       "    }\n",
       "</style>\n",
       "<table border=\"1\" class=\"dataframe\">\n",
       "  <thead>\n",
       "    <tr style=\"text-align: right;\">\n",
       "      <th></th>\n",
       "      <th>Usuarios</th>\n",
       "      <th>item_id</th>\n",
       "      <th>timestamp</th>\n",
       "      <th>logtype</th>\n",
       "      <th>title</th>\n",
       "    </tr>\n",
       "  </thead>\n",
       "  <tbody>\n",
       "    <tr>\n",
       "      <th>5</th>\n",
       "      <td>Dodo</td>\n",
       "      <td>6</td>\n",
       "      <td>2004-12-23T08:28:32Z</td>\n",
       "      <td>block</td>\n",
       "      <td>Usuario:212.55.30.157</td>\n",
       "    </tr>\n",
       "    <tr>\n",
       "      <th>287</th>\n",
       "      <td>Dodo</td>\n",
       "      <td>288</td>\n",
       "      <td>2004-12-27T17:54:50Z</td>\n",
       "      <td>block</td>\n",
       "      <td>Usuario:201.241.228.15</td>\n",
       "    </tr>\n",
       "    <tr>\n",
       "      <th>288</th>\n",
       "      <td>Dodo</td>\n",
       "      <td>289</td>\n",
       "      <td>2004-12-27T17:57:12Z</td>\n",
       "      <td>block</td>\n",
       "      <td>Usuario:201.255.50.32</td>\n",
       "    </tr>\n",
       "    <tr>\n",
       "      <th>290</th>\n",
       "      <td>Dodo</td>\n",
       "      <td>291</td>\n",
       "      <td>2004-12-27T17:59:56Z</td>\n",
       "      <td>block</td>\n",
       "      <td>Usuario:84.122.0.158</td>\n",
       "    </tr>\n",
       "    <tr>\n",
       "      <th>313</th>\n",
       "      <td>Comae</td>\n",
       "      <td>314</td>\n",
       "      <td>2004-12-28T01:38:59Z</td>\n",
       "      <td>block</td>\n",
       "      <td>Usuario:81.192.12.93</td>\n",
       "    </tr>\n",
       "    <tr>\n",
       "      <th>...</th>\n",
       "      <td>...</td>\n",
       "      <td>...</td>\n",
       "      <td>...</td>\n",
       "      <td>...</td>\n",
       "      <td>...</td>\n",
       "    </tr>\n",
       "    <tr>\n",
       "      <th>12188865</th>\n",
       "      <td>Taichi</td>\n",
       "      <td>15587319</td>\n",
       "      <td>2021-09-03T02:05:46Z</td>\n",
       "      <td>block</td>\n",
       "      <td>Usuario:186.141.200.121</td>\n",
       "    </tr>\n",
       "    <tr>\n",
       "      <th>12188886</th>\n",
       "      <td>Hasley</td>\n",
       "      <td>15587340</td>\n",
       "      <td>2021-09-03T02:24:41Z</td>\n",
       "      <td>block</td>\n",
       "      <td>Usuario:Galaxi066</td>\n",
       "    </tr>\n",
       "    <tr>\n",
       "      <th>12188909</th>\n",
       "      <td>Marcelo</td>\n",
       "      <td>15587363</td>\n",
       "      <td>2021-09-03T02:52:42Z</td>\n",
       "      <td>block</td>\n",
       "      <td>Usuario:Xx.tkpro.xx</td>\n",
       "    </tr>\n",
       "    <tr>\n",
       "      <th>12188924</th>\n",
       "      <td>Hasley</td>\n",
       "      <td>15587378</td>\n",
       "      <td>2021-09-03T03:00:14Z</td>\n",
       "      <td>block</td>\n",
       "      <td>Usuario:181.167.104.152</td>\n",
       "    </tr>\n",
       "    <tr>\n",
       "      <th>12188930</th>\n",
       "      <td>Hasley</td>\n",
       "      <td>15587384</td>\n",
       "      <td>2021-09-03T03:05:02Z</td>\n",
       "      <td>block</td>\n",
       "      <td>Usuario:190.18.98.138</td>\n",
       "    </tr>\n",
       "  </tbody>\n",
       "</table>\n",
       "<p>353393 rows × 5 columns</p>\n",
       "</div>"
      ],
      "text/plain": [
       "         Usuarios   item_id             timestamp logtype  \\\n",
       "5            Dodo         6  2004-12-23T08:28:32Z   block   \n",
       "287          Dodo       288  2004-12-27T17:54:50Z   block   \n",
       "288          Dodo       289  2004-12-27T17:57:12Z   block   \n",
       "290          Dodo       291  2004-12-27T17:59:56Z   block   \n",
       "313         Comae       314  2004-12-28T01:38:59Z   block   \n",
       "...           ...       ...                   ...     ...   \n",
       "12188865   Taichi  15587319  2021-09-03T02:05:46Z   block   \n",
       "12188886   Hasley  15587340  2021-09-03T02:24:41Z   block   \n",
       "12188909  Marcelo  15587363  2021-09-03T02:52:42Z   block   \n",
       "12188924   Hasley  15587378  2021-09-03T03:00:14Z   block   \n",
       "12188930   Hasley  15587384  2021-09-03T03:05:02Z   block   \n",
       "\n",
       "                            title  \n",
       "5           Usuario:212.55.30.157  \n",
       "287        Usuario:201.241.228.15  \n",
       "288         Usuario:201.255.50.32  \n",
       "290          Usuario:84.122.0.158  \n",
       "313          Usuario:81.192.12.93  \n",
       "...                           ...  \n",
       "12188865  Usuario:186.141.200.121  \n",
       "12188886        Usuario:Galaxi066  \n",
       "12188909      Usuario:Xx.tkpro.xx  \n",
       "12188924  Usuario:181.167.104.152  \n",
       "12188930    Usuario:190.18.98.138  \n",
       "\n",
       "[353393 rows x 5 columns]"
      ]
     },
     "execution_count": 15,
     "metadata": {},
     "output_type": "execute_result"
    }
   ],
   "source": [
    "bloqueos = arc.groupby('logtype').get_group('block')\n",
    "bloqueos"
   ]
  },
  {
   "cell_type": "code",
   "execution_count": 16,
   "id": "4b1d15af",
   "metadata": {},
   "outputs": [],
   "source": [
    "bloqueos = bloqueos.rename(columns={'timestamp':'fechaBloqueo'})\n",
    "bloqueos = bloqueos.astype({'title': 'str'})"
   ]
  },
  {
   "cell_type": "code",
   "execution_count": 17,
   "id": "790e6891",
   "metadata": {},
   "outputs": [],
   "source": [
    "bloqueos['UsuarioBloqueado'] = bloqueos['title'].apply(lambda x: x.split(':')[1])"
   ]
  },
  {
   "cell_type": "code",
   "execution_count": 18,
   "id": "d683226a",
   "metadata": {},
   "outputs": [],
   "source": [
    "bloqueos = bloqueos[['UsuarioBloqueado','fechaBloqueo']]"
   ]
  },
  {
   "cell_type": "code",
   "execution_count": 19,
   "id": "97725c09",
   "metadata": {},
   "outputs": [],
   "source": [
    "df_merge = arc.merge(bloqueos,left_on='Usuarios',right_on='UsuarioBloqueado',how='inner')\n",
    "#df_merge"
   ]
  },
  {
   "cell_type": "code",
   "execution_count": 20,
   "id": "77be05d6",
   "metadata": {},
   "outputs": [
    {
     "data": {
      "text/plain": [
       "Usuarios                         object\n",
       "item_id                           int64\n",
       "timestamp           datetime64[ns, UTC]\n",
       "logtype                          object\n",
       "title                            object\n",
       "UsuarioBloqueado                 object\n",
       "fechaBloqueo        datetime64[ns, UTC]\n",
       "dtype: object"
      ]
     },
     "execution_count": 20,
     "metadata": {},
     "output_type": "execute_result"
    }
   ],
   "source": [
    "df_merge['fechaBloqueo'] =  pd.to_datetime(df_merge['fechaBloqueo'])\n",
    "df_merge['timestamp'] =  pd.to_datetime(df_merge['timestamp'])\n",
    "df_merge.dtypes"
   ]
  },
  {
   "cell_type": "code",
   "execution_count": 21,
   "id": "b288aeb3",
   "metadata": {},
   "outputs": [],
   "source": [
    "#libero espacio en la RAM\n",
    "del arc"
   ]
  },
  {
   "cell_type": "code",
   "execution_count": 22,
   "id": "d70bd556",
   "metadata": {},
   "outputs": [
    {
     "data": {
      "text/plain": [
       "0          True\n",
       "1          True\n",
       "2          True\n",
       "3          True\n",
       "4          True\n",
       "           ... \n",
       "7770908    True\n",
       "7770909    True\n",
       "7770910    True\n",
       "7770911    True\n",
       "7770912    True\n",
       "Length: 7770913, dtype: bool"
      ]
     },
     "execution_count": 22,
     "metadata": {},
     "output_type": "execute_result"
    }
   ],
   "source": [
    "filtroFechas =  df_merge['fechaBloqueo'] > df_merge['timestamp']\n",
    "filtroFechas"
   ]
  },
  {
   "cell_type": "code",
   "execution_count": 23,
   "id": "86a5e77b",
   "metadata": {},
   "outputs": [
    {
     "data": {
      "text/html": [
       "<div>\n",
       "<style scoped>\n",
       "    .dataframe tbody tr th:only-of-type {\n",
       "        vertical-align: middle;\n",
       "    }\n",
       "\n",
       "    .dataframe tbody tr th {\n",
       "        vertical-align: top;\n",
       "    }\n",
       "\n",
       "    .dataframe thead th {\n",
       "        text-align: right;\n",
       "    }\n",
       "</style>\n",
       "<table border=\"1\" class=\"dataframe\">\n",
       "  <thead>\n",
       "    <tr style=\"text-align: right;\">\n",
       "      <th></th>\n",
       "      <th>Usuarios</th>\n",
       "      <th>item_id</th>\n",
       "      <th>timestamp</th>\n",
       "      <th>logtype</th>\n",
       "      <th>title</th>\n",
       "      <th>UsuarioBloqueado</th>\n",
       "      <th>fechaBloqueo</th>\n",
       "    </tr>\n",
       "  </thead>\n",
       "  <tbody>\n",
       "    <tr>\n",
       "      <th>0</th>\n",
       "      <td>Sabbut</td>\n",
       "      <td>1</td>\n",
       "      <td>2004-12-23 07:10:09+00:00</td>\n",
       "      <td>delete</td>\n",
       "      <td>Verificacionismo</td>\n",
       "      <td>Sabbut</td>\n",
       "      <td>2010-12-15 13:07:57+00:00</td>\n",
       "    </tr>\n",
       "    <tr>\n",
       "      <th>1</th>\n",
       "      <td>Sabbut</td>\n",
       "      <td>1</td>\n",
       "      <td>2004-12-23 07:10:09+00:00</td>\n",
       "      <td>delete</td>\n",
       "      <td>Verificacionismo</td>\n",
       "      <td>Sabbut</td>\n",
       "      <td>2010-12-15 13:08:14+00:00</td>\n",
       "    </tr>\n",
       "    <tr>\n",
       "      <th>2</th>\n",
       "      <td>Sabbut</td>\n",
       "      <td>2</td>\n",
       "      <td>2004-12-23 07:14:09+00:00</td>\n",
       "      <td>delete</td>\n",
       "      <td>Rapunzel</td>\n",
       "      <td>Sabbut</td>\n",
       "      <td>2010-12-15 13:07:57+00:00</td>\n",
       "    </tr>\n",
       "    <tr>\n",
       "      <th>3</th>\n",
       "      <td>Sabbut</td>\n",
       "      <td>2</td>\n",
       "      <td>2004-12-23 07:14:09+00:00</td>\n",
       "      <td>delete</td>\n",
       "      <td>Rapunzel</td>\n",
       "      <td>Sabbut</td>\n",
       "      <td>2010-12-15 13:08:14+00:00</td>\n",
       "    </tr>\n",
       "    <tr>\n",
       "      <th>4</th>\n",
       "      <td>Sabbut</td>\n",
       "      <td>3</td>\n",
       "      <td>2004-12-23 07:26:10+00:00</td>\n",
       "      <td>delete</td>\n",
       "      <td>Macromedia Flash</td>\n",
       "      <td>Sabbut</td>\n",
       "      <td>2010-12-15 13:07:57+00:00</td>\n",
       "    </tr>\n",
       "    <tr>\n",
       "      <th>...</th>\n",
       "      <td>...</td>\n",
       "      <td>...</td>\n",
       "      <td>...</td>\n",
       "      <td>...</td>\n",
       "      <td>...</td>\n",
       "      <td>...</td>\n",
       "      <td>...</td>\n",
       "    </tr>\n",
       "    <tr>\n",
       "      <th>7770908</th>\n",
       "      <td>The Boys Studios</td>\n",
       "      <td>15586495</td>\n",
       "      <td>2021-09-02 18:44:32+00:00</td>\n",
       "      <td>newusers</td>\n",
       "      <td>Usuario:The Boys Studios</td>\n",
       "      <td>The Boys Studios</td>\n",
       "      <td>2021-09-03 00:18:14+00:00</td>\n",
       "    </tr>\n",
       "    <tr>\n",
       "      <th>7770909</th>\n",
       "      <td>The Boys Studios</td>\n",
       "      <td>15586508</td>\n",
       "      <td>2021-09-02 18:48:35+00:00</td>\n",
       "      <td>create</td>\n",
       "      <td>Noche De Odio</td>\n",
       "      <td>The Boys Studios</td>\n",
       "      <td>2021-09-03 00:18:14+00:00</td>\n",
       "    </tr>\n",
       "    <tr>\n",
       "      <th>7770910</th>\n",
       "      <td>Pervertidosinremedio</td>\n",
       "      <td>15586995</td>\n",
       "      <td>2021-09-02 23:11:30+00:00</td>\n",
       "      <td>newusers</td>\n",
       "      <td>Usuario:Pervertidosinremedio</td>\n",
       "      <td>Pervertidosinremedio</td>\n",
       "      <td>2021-09-02 23:13:25+00:00</td>\n",
       "    </tr>\n",
       "    <tr>\n",
       "      <th>7770911</th>\n",
       "      <td>JohnWayne454545</td>\n",
       "      <td>15587001</td>\n",
       "      <td>2021-09-02 23:14:35+00:00</td>\n",
       "      <td>newusers</td>\n",
       "      <td>Usuario:JohnWayne454545</td>\n",
       "      <td>JohnWayne454545</td>\n",
       "      <td>2021-09-03 00:39:46+00:00</td>\n",
       "    </tr>\n",
       "    <tr>\n",
       "      <th>7770912</th>\n",
       "      <td>Xx.tkpro.xx</td>\n",
       "      <td>15587249</td>\n",
       "      <td>2021-09-03 01:03:08+00:00</td>\n",
       "      <td>newusers</td>\n",
       "      <td>Usuario:Xx.tkpro.xx</td>\n",
       "      <td>Xx.tkpro.xx</td>\n",
       "      <td>2021-09-03 02:52:42+00:00</td>\n",
       "    </tr>\n",
       "  </tbody>\n",
       "</table>\n",
       "<p>3286028 rows × 7 columns</p>\n",
       "</div>"
      ],
      "text/plain": [
       "                     Usuarios   item_id                 timestamp   logtype  \\\n",
       "0                      Sabbut         1 2004-12-23 07:10:09+00:00    delete   \n",
       "1                      Sabbut         1 2004-12-23 07:10:09+00:00    delete   \n",
       "2                      Sabbut         2 2004-12-23 07:14:09+00:00    delete   \n",
       "3                      Sabbut         2 2004-12-23 07:14:09+00:00    delete   \n",
       "4                      Sabbut         3 2004-12-23 07:26:10+00:00    delete   \n",
       "...                       ...       ...                       ...       ...   \n",
       "7770908      The Boys Studios  15586495 2021-09-02 18:44:32+00:00  newusers   \n",
       "7770909      The Boys Studios  15586508 2021-09-02 18:48:35+00:00    create   \n",
       "7770910  Pervertidosinremedio  15586995 2021-09-02 23:11:30+00:00  newusers   \n",
       "7770911       JohnWayne454545  15587001 2021-09-02 23:14:35+00:00  newusers   \n",
       "7770912           Xx.tkpro.xx  15587249 2021-09-03 01:03:08+00:00  newusers   \n",
       "\n",
       "                                title      UsuarioBloqueado  \\\n",
       "0                    Verificacionismo                Sabbut   \n",
       "1                    Verificacionismo                Sabbut   \n",
       "2                            Rapunzel                Sabbut   \n",
       "3                            Rapunzel                Sabbut   \n",
       "4                    Macromedia Flash                Sabbut   \n",
       "...                               ...                   ...   \n",
       "7770908      Usuario:The Boys Studios      The Boys Studios   \n",
       "7770909                 Noche De Odio      The Boys Studios   \n",
       "7770910  Usuario:Pervertidosinremedio  Pervertidosinremedio   \n",
       "7770911       Usuario:JohnWayne454545       JohnWayne454545   \n",
       "7770912           Usuario:Xx.tkpro.xx           Xx.tkpro.xx   \n",
       "\n",
       "                     fechaBloqueo  \n",
       "0       2010-12-15 13:07:57+00:00  \n",
       "1       2010-12-15 13:08:14+00:00  \n",
       "2       2010-12-15 13:07:57+00:00  \n",
       "3       2010-12-15 13:08:14+00:00  \n",
       "4       2010-12-15 13:07:57+00:00  \n",
       "...                           ...  \n",
       "7770908 2021-09-03 00:18:14+00:00  \n",
       "7770909 2021-09-03 00:18:14+00:00  \n",
       "7770910 2021-09-02 23:13:25+00:00  \n",
       "7770911 2021-09-03 00:39:46+00:00  \n",
       "7770912 2021-09-03 02:52:42+00:00  \n",
       "\n",
       "[3286028 rows x 7 columns]"
      ]
     },
     "execution_count": 23,
     "metadata": {},
     "output_type": "execute_result"
    }
   ],
   "source": [
    "#filtro para que sean actividades previas al bloqueo\n",
    "dfFiltrado = df_merge[filtroFechas]\n",
    "dfFiltrado"
   ]
  },
  {
   "cell_type": "code",
   "execution_count": 24,
   "id": "8ee57bfe",
   "metadata": {},
   "outputs": [],
   "source": [
    "#libero RAM\n",
    "del df_merge"
   ]
  },
  {
   "cell_type": "code",
   "execution_count": 25,
   "id": "95ce382d",
   "metadata": {},
   "outputs": [
    {
     "data": {
      "text/html": [
       "<div>\n",
       "<style scoped>\n",
       "    .dataframe tbody tr th:only-of-type {\n",
       "        vertical-align: middle;\n",
       "    }\n",
       "\n",
       "    .dataframe tbody tr th {\n",
       "        vertical-align: top;\n",
       "    }\n",
       "\n",
       "    .dataframe thead th {\n",
       "        text-align: right;\n",
       "    }\n",
       "</style>\n",
       "<table border=\"1\" class=\"dataframe\">\n",
       "  <thead>\n",
       "    <tr style=\"text-align: right;\">\n",
       "      <th></th>\n",
       "      <th>Usuarios</th>\n",
       "    </tr>\n",
       "    <tr>\n",
       "      <th>Usuarios</th>\n",
       "      <th></th>\n",
       "    </tr>\n",
       "  </thead>\n",
       "  <tbody>\n",
       "    <tr>\n",
       "      <th>! ! ! ! ! ! ! ! ! ! ! ! ! ! HAGGEⓇ? 123</th>\n",
       "      <td>1</td>\n",
       "    </tr>\n",
       "    <tr>\n",
       "      <th>!! !!ПОМОГИТЕ СЕСТРЕ НА ОПЕРАЦИЮ!! !!</th>\n",
       "      <td>1</td>\n",
       "    </tr>\n",
       "    <tr>\n",
       "      <th>!\"·$%&amp;</th>\n",
       "      <td>1</td>\n",
       "    </tr>\n",
       "    <tr>\n",
       "      <th>!23455666A!wee</th>\n",
       "      <td>1</td>\n",
       "    </tr>\n",
       "    <tr>\n",
       "      <th>!2o%Uv6PHBj6JfgYmfgqVx!SCEBEP4</th>\n",
       "      <td>1</td>\n",
       "    </tr>\n",
       "    <tr>\n",
       "      <th>...</th>\n",
       "      <td>...</td>\n",
       "    </tr>\n",
       "    <tr>\n",
       "      <th>𝓒𝓸𝓻𝓸𝓷𝓪𝓭𝓸𝓼' 𝓢𝓮𝓻𝓿𝓮𝓻</th>\n",
       "      <td>2</td>\n",
       "    </tr>\n",
       "    <tr>\n",
       "      <th>𝕊𝟜𝕒𝕟𝕥𝕚𝟚𝟘𝟘𝟟</th>\n",
       "      <td>1</td>\n",
       "    </tr>\n",
       "    <tr>\n",
       "      <th>𝙽𝚘𝙹𝚘𝚍𝚊𝚜𝙿𝚒𝚗𝚜𝚑𝚒𝙿𝚞𝚝𝚡</th>\n",
       "      <td>1</td>\n",
       "    </tr>\n",
       "    <tr>\n",
       "      <th>😂</th>\n",
       "      <td>2</td>\n",
       "    </tr>\n",
       "    <tr>\n",
       "      <th>🤖</th>\n",
       "      <td>1</td>\n",
       "    </tr>\n",
       "  </tbody>\n",
       "</table>\n",
       "<p>100518 rows × 1 columns</p>\n",
       "</div>"
      ],
      "text/plain": [
       "                                         Usuarios\n",
       "Usuarios                                         \n",
       "! ! ! ! ! ! ! ! ! ! ! ! ! ! HAGGEⓇ? 123         1\n",
       "!! !!ПОМОГИТЕ СЕСТРЕ НА ОПЕРАЦИЮ!! !!           1\n",
       "!\"·$%&                                          1\n",
       "!23455666A!wee                                  1\n",
       "!2o%Uv6PHBj6JfgYmfgqVx!SCEBEP4                  1\n",
       "...                                           ...\n",
       "𝓒𝓸𝓻𝓸𝓷𝓪𝓭𝓸𝓼' 𝓢𝓮𝓻𝓿𝓮𝓻                               2\n",
       "𝕊𝟜𝕒𝕟𝕥𝕚𝟚𝟘𝟘𝟟                                      1\n",
       "𝙽𝚘𝙹𝚘𝚍𝚊𝚜𝙿𝚒𝚗𝚜𝚑𝚒𝙿𝚞𝚝𝚡                               1\n",
       "😂                                               2\n",
       "🤖                                               1\n",
       "\n",
       "[100518 rows x 1 columns]"
      ]
     },
     "execution_count": 25,
     "metadata": {},
     "output_type": "execute_result"
    }
   ],
   "source": [
    "grupo=dfFiltrado.groupby(['Usuarios']).agg({'Usuarios':'count'})\n",
    "grupo"
   ]
  },
  {
   "cell_type": "code",
   "execution_count": 26,
   "id": "d0f5b47e",
   "metadata": {},
   "outputs": [],
   "source": [
    "#libero RAM\n",
    "del dfFiltrado"
   ]
  },
  {
   "cell_type": "code",
   "execution_count": 27,
   "id": "b753cbcc",
   "metadata": {},
   "outputs": [
    {
     "data": {
      "text/html": [
       "<div>\n",
       "<style scoped>\n",
       "    .dataframe tbody tr th:only-of-type {\n",
       "        vertical-align: middle;\n",
       "    }\n",
       "\n",
       "    .dataframe tbody tr th {\n",
       "        vertical-align: top;\n",
       "    }\n",
       "\n",
       "    .dataframe thead th {\n",
       "        text-align: right;\n",
       "    }\n",
       "</style>\n",
       "<table border=\"1\" class=\"dataframe\">\n",
       "  <thead>\n",
       "    <tr style=\"text-align: right;\">\n",
       "      <th></th>\n",
       "      <th>experiencia</th>\n",
       "    </tr>\n",
       "    <tr>\n",
       "      <th>Usuarios</th>\n",
       "      <th></th>\n",
       "    </tr>\n",
       "  </thead>\n",
       "  <tbody>\n",
       "    <tr>\n",
       "      <th>! ! ! ! ! ! ! ! ! ! ! ! ! ! HAGGEⓇ? 123</th>\n",
       "      <td>1</td>\n",
       "    </tr>\n",
       "    <tr>\n",
       "      <th>!! !!ПОМОГИТЕ СЕСТРЕ НА ОПЕРАЦИЮ!! !!</th>\n",
       "      <td>1</td>\n",
       "    </tr>\n",
       "    <tr>\n",
       "      <th>!\"·$%&amp;</th>\n",
       "      <td>1</td>\n",
       "    </tr>\n",
       "    <tr>\n",
       "      <th>!23455666A!wee</th>\n",
       "      <td>1</td>\n",
       "    </tr>\n",
       "    <tr>\n",
       "      <th>!2o%Uv6PHBj6JfgYmfgqVx!SCEBEP4</th>\n",
       "      <td>1</td>\n",
       "    </tr>\n",
       "    <tr>\n",
       "      <th>...</th>\n",
       "      <td>...</td>\n",
       "    </tr>\n",
       "    <tr>\n",
       "      <th>𝓒𝓸𝓻𝓸𝓷𝓪𝓭𝓸𝓼' 𝓢𝓮𝓻𝓿𝓮𝓻</th>\n",
       "      <td>2</td>\n",
       "    </tr>\n",
       "    <tr>\n",
       "      <th>𝕊𝟜𝕒𝕟𝕥𝕚𝟚𝟘𝟘𝟟</th>\n",
       "      <td>1</td>\n",
       "    </tr>\n",
       "    <tr>\n",
       "      <th>𝙽𝚘𝙹𝚘𝚍𝚊𝚜𝙿𝚒𝚗𝚜𝚑𝚒𝙿𝚞𝚝𝚡</th>\n",
       "      <td>1</td>\n",
       "    </tr>\n",
       "    <tr>\n",
       "      <th>😂</th>\n",
       "      <td>2</td>\n",
       "    </tr>\n",
       "    <tr>\n",
       "      <th>🤖</th>\n",
       "      <td>1</td>\n",
       "    </tr>\n",
       "  </tbody>\n",
       "</table>\n",
       "<p>100518 rows × 1 columns</p>\n",
       "</div>"
      ],
      "text/plain": [
       "                                         experiencia\n",
       "Usuarios                                            \n",
       "! ! ! ! ! ! ! ! ! ! ! ! ! ! HAGGEⓇ? 123            1\n",
       "!! !!ПОМОГИТЕ СЕСТРЕ НА ОПЕРАЦИЮ!! !!              1\n",
       "!\"·$%&                                             1\n",
       "!23455666A!wee                                     1\n",
       "!2o%Uv6PHBj6JfgYmfgqVx!SCEBEP4                     1\n",
       "...                                              ...\n",
       "𝓒𝓸𝓻𝓸𝓷𝓪𝓭𝓸𝓼' 𝓢𝓮𝓻𝓿𝓮𝓻                                  2\n",
       "𝕊𝟜𝕒𝕟𝕥𝕚𝟚𝟘𝟘𝟟                                         1\n",
       "𝙽𝚘𝙹𝚘𝚍𝚊𝚜𝙿𝚒𝚗𝚜𝚑𝚒𝙿𝚞𝚝𝚡                                  1\n",
       "😂                                                  2\n",
       "🤖                                                  1\n",
       "\n",
       "[100518 rows x 1 columns]"
      ]
     },
     "execution_count": 27,
     "metadata": {},
     "output_type": "execute_result"
    }
   ],
   "source": [
    "grupo = grupo.rename(columns={'Usuarios':'experiencia'})\n",
    "grupo"
   ]
  },
  {
   "cell_type": "code",
   "execution_count": 28,
   "id": "e93be326",
   "metadata": {},
   "outputs": [
    {
     "data": {
      "text/html": [
       "<div>\n",
       "<style scoped>\n",
       "    .dataframe tbody tr th:only-of-type {\n",
       "        vertical-align: middle;\n",
       "    }\n",
       "\n",
       "    .dataframe tbody tr th {\n",
       "        vertical-align: top;\n",
       "    }\n",
       "\n",
       "    .dataframe thead th {\n",
       "        text-align: right;\n",
       "    }\n",
       "</style>\n",
       "<table border=\"1\" class=\"dataframe\">\n",
       "  <thead>\n",
       "    <tr style=\"text-align: right;\">\n",
       "      <th></th>\n",
       "      <th>experiencia</th>\n",
       "      <th>categoria</th>\n",
       "    </tr>\n",
       "    <tr>\n",
       "      <th>Usuarios</th>\n",
       "      <th></th>\n",
       "      <th></th>\n",
       "    </tr>\n",
       "  </thead>\n",
       "  <tbody>\n",
       "    <tr>\n",
       "      <th>! ! ! ! ! ! ! ! ! ! ! ! ! ! HAGGEⓇ? 123</th>\n",
       "      <td>1</td>\n",
       "      <td>&lt;10</td>\n",
       "    </tr>\n",
       "    <tr>\n",
       "      <th>!! !!ПОМОГИТЕ СЕСТРЕ НА ОПЕРАЦИЮ!! !!</th>\n",
       "      <td>1</td>\n",
       "      <td>&lt;10</td>\n",
       "    </tr>\n",
       "    <tr>\n",
       "      <th>!\"·$%&amp;</th>\n",
       "      <td>1</td>\n",
       "      <td>&lt;10</td>\n",
       "    </tr>\n",
       "    <tr>\n",
       "      <th>!23455666A!wee</th>\n",
       "      <td>1</td>\n",
       "      <td>&lt;10</td>\n",
       "    </tr>\n",
       "    <tr>\n",
       "      <th>!2o%Uv6PHBj6JfgYmfgqVx!SCEBEP4</th>\n",
       "      <td>1</td>\n",
       "      <td>&lt;10</td>\n",
       "    </tr>\n",
       "    <tr>\n",
       "      <th>...</th>\n",
       "      <td>...</td>\n",
       "      <td>...</td>\n",
       "    </tr>\n",
       "    <tr>\n",
       "      <th>𝓒𝓸𝓻𝓸𝓷𝓪𝓭𝓸𝓼' 𝓢𝓮𝓻𝓿𝓮𝓻</th>\n",
       "      <td>2</td>\n",
       "      <td>&lt;10</td>\n",
       "    </tr>\n",
       "    <tr>\n",
       "      <th>𝕊𝟜𝕒𝕟𝕥𝕚𝟚𝟘𝟘𝟟</th>\n",
       "      <td>1</td>\n",
       "      <td>&lt;10</td>\n",
       "    </tr>\n",
       "    <tr>\n",
       "      <th>𝙽𝚘𝙹𝚘𝚍𝚊𝚜𝙿𝚒𝚗𝚜𝚑𝚒𝙿𝚞𝚝𝚡</th>\n",
       "      <td>1</td>\n",
       "      <td>&lt;10</td>\n",
       "    </tr>\n",
       "    <tr>\n",
       "      <th>😂</th>\n",
       "      <td>2</td>\n",
       "      <td>&lt;10</td>\n",
       "    </tr>\n",
       "    <tr>\n",
       "      <th>🤖</th>\n",
       "      <td>1</td>\n",
       "      <td>&lt;10</td>\n",
       "    </tr>\n",
       "  </tbody>\n",
       "</table>\n",
       "<p>100518 rows × 2 columns</p>\n",
       "</div>"
      ],
      "text/plain": [
       "                                         experiencia categoria\n",
       "Usuarios                                                      \n",
       "! ! ! ! ! ! ! ! ! ! ! ! ! ! HAGGEⓇ? 123            1       <10\n",
       "!! !!ПОМОГИТЕ СЕСТРЕ НА ОПЕРАЦИЮ!! !!              1       <10\n",
       "!\"·$%&                                             1       <10\n",
       "!23455666A!wee                                     1       <10\n",
       "!2o%Uv6PHBj6JfgYmfgqVx!SCEBEP4                     1       <10\n",
       "...                                              ...       ...\n",
       "𝓒𝓸𝓻𝓸𝓷𝓪𝓭𝓸𝓼' 𝓢𝓮𝓻𝓿𝓮𝓻                                  2       <10\n",
       "𝕊𝟜𝕒𝕟𝕥𝕚𝟚𝟘𝟘𝟟                                         1       <10\n",
       "𝙽𝚘𝙹𝚘𝚍𝚊𝚜𝙿𝚒𝚗𝚜𝚑𝚒𝙿𝚞𝚝𝚡                                  1       <10\n",
       "😂                                                  2       <10\n",
       "🤖                                                  1       <10\n",
       "\n",
       "[100518 rows x 2 columns]"
      ]
     },
     "execution_count": 28,
     "metadata": {},
     "output_type": "execute_result"
    }
   ],
   "source": [
    "grupo['categoria'] = grupo['experiencia'].apply(asignarCat)\n",
    "grupo"
   ]
  },
  {
   "cell_type": "code",
   "execution_count": 29,
   "id": "ba7005b5",
   "metadata": {},
   "outputs": [],
   "source": [
    "grupo.reset_index(inplace=True)"
   ]
  },
  {
   "cell_type": "code",
   "execution_count": 30,
   "id": "f6308eab",
   "metadata": {},
   "outputs": [
    {
     "data": {
      "text/plain": [
       "Index(['Usuarios', 'experiencia', 'categoria'], dtype='object')"
      ]
     },
     "execution_count": 30,
     "metadata": {},
     "output_type": "execute_result"
    }
   ],
   "source": [
    "grupo.columns"
   ]
  },
  {
   "cell_type": "code",
   "execution_count": 31,
   "id": "73c3e129",
   "metadata": {},
   "outputs": [],
   "source": [
    "cantBlockCat = grupo.groupby('categoria').agg({'Usuarios':'count'})"
   ]
  },
  {
   "cell_type": "code",
   "execution_count": 32,
   "id": "6b15eb01",
   "metadata": {},
   "outputs": [
    {
     "data": {
      "text/html": [
       "<div>\n",
       "<style scoped>\n",
       "    .dataframe tbody tr th:only-of-type {\n",
       "        vertical-align: middle;\n",
       "    }\n",
       "\n",
       "    .dataframe tbody tr th {\n",
       "        vertical-align: top;\n",
       "    }\n",
       "\n",
       "    .dataframe thead th {\n",
       "        text-align: right;\n",
       "    }\n",
       "</style>\n",
       "<table border=\"1\" class=\"dataframe\">\n",
       "  <thead>\n",
       "    <tr style=\"text-align: right;\">\n",
       "      <th></th>\n",
       "      <th>Usuarios</th>\n",
       "    </tr>\n",
       "    <tr>\n",
       "      <th>categoria</th>\n",
       "      <th></th>\n",
       "    </tr>\n",
       "  </thead>\n",
       "  <tbody>\n",
       "    <tr>\n",
       "      <th>10-40</th>\n",
       "      <td>1563</td>\n",
       "    </tr>\n",
       "    <tr>\n",
       "      <th>40-100</th>\n",
       "      <td>426</td>\n",
       "    </tr>\n",
       "    <tr>\n",
       "      <th>&lt;10</th>\n",
       "      <td>97678</td>\n",
       "    </tr>\n",
       "    <tr>\n",
       "      <th>&gt;100</th>\n",
       "      <td>851</td>\n",
       "    </tr>\n",
       "  </tbody>\n",
       "</table>\n",
       "</div>"
      ],
      "text/plain": [
       "           Usuarios\n",
       "categoria          \n",
       "10-40          1563\n",
       "40-100          426\n",
       "<10           97678\n",
       ">100            851"
      ]
     },
     "execution_count": 32,
     "metadata": {},
     "output_type": "execute_result"
    }
   ],
   "source": [
    "cantBlockCat"
   ]
  },
  {
   "cell_type": "code",
   "execution_count": 33,
   "id": "ff6ca114",
   "metadata": {},
   "outputs": [],
   "source": [
    "cantTotalCat = totalUsuarios.groupby('categoria').agg({'Usuarios':'count'})"
   ]
  },
  {
   "cell_type": "code",
   "execution_count": 34,
   "id": "b1d9ef83",
   "metadata": {},
   "outputs": [
    {
     "data": {
      "text/html": [
       "<div>\n",
       "<style scoped>\n",
       "    .dataframe tbody tr th:only-of-type {\n",
       "        vertical-align: middle;\n",
       "    }\n",
       "\n",
       "    .dataframe tbody tr th {\n",
       "        vertical-align: top;\n",
       "    }\n",
       "\n",
       "    .dataframe thead th {\n",
       "        text-align: right;\n",
       "    }\n",
       "</style>\n",
       "<table border=\"1\" class=\"dataframe\">\n",
       "  <thead>\n",
       "    <tr style=\"text-align: right;\">\n",
       "      <th></th>\n",
       "      <th>Usuarios</th>\n",
       "    </tr>\n",
       "    <tr>\n",
       "      <th>categoria</th>\n",
       "      <th></th>\n",
       "    </tr>\n",
       "  </thead>\n",
       "  <tbody>\n",
       "    <tr>\n",
       "      <th>10-40</th>\n",
       "      <td>5926</td>\n",
       "    </tr>\n",
       "    <tr>\n",
       "      <th>40-100</th>\n",
       "      <td>1538</td>\n",
       "    </tr>\n",
       "    <tr>\n",
       "      <th>&lt;10</th>\n",
       "      <td>6262394</td>\n",
       "    </tr>\n",
       "    <tr>\n",
       "      <th>&gt;100</th>\n",
       "      <td>2989</td>\n",
       "    </tr>\n",
       "  </tbody>\n",
       "</table>\n",
       "</div>"
      ],
      "text/plain": [
       "           Usuarios\n",
       "categoria          \n",
       "10-40          5926\n",
       "40-100         1538\n",
       "<10         6262394\n",
       ">100           2989"
      ]
     },
     "execution_count": 34,
     "metadata": {},
     "output_type": "execute_result"
    }
   ],
   "source": [
    "cantTotalCat"
   ]
  },
  {
   "cell_type": "code",
   "execution_count": 35,
   "id": "86e73894",
   "metadata": {},
   "outputs": [],
   "source": [
    "probabilidades =  cantBlockCat['Usuarios']/cantTotalCat['Usuarios']"
   ]
  },
  {
   "cell_type": "markdown",
   "id": "3becfd62",
   "metadata": {},
   "source": [
    "### Resultado"
   ]
  },
  {
   "cell_type": "code",
   "execution_count": 36,
   "id": "52823851",
   "metadata": {},
   "outputs": [
    {
     "data": {
      "text/plain": [
       "categoria\n",
       "10-40     0.263753\n",
       "40-100    0.276983\n",
       "<10       0.015598\n",
       ">100      0.284711\n",
       "Name: Usuarios, dtype: float64"
      ]
     },
     "execution_count": 36,
     "metadata": {},
     "output_type": "execute_result"
    }
   ],
   "source": [
    "probabilidades"
   ]
  }
 ],
 "metadata": {
  "kernelspec": {
   "display_name": "Python 3",
   "language": "python",
   "name": "python3"
  },
  "language_info": {
   "codemirror_mode": {
    "name": "ipython",
    "version": 3
   },
   "file_extension": ".py",
   "mimetype": "text/x-python",
   "name": "python",
   "nbconvert_exporter": "python",
   "pygments_lexer": "ipython3",
   "version": "3.8.8"
  }
 },
 "nbformat": 4,
 "nbformat_minor": 5
}
