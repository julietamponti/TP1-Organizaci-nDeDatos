{
 "cells": [
  {
   "cell_type": "markdown",
   "id": "0d11b0e5",
   "metadata": {},
   "source": [
    "### Consigna: La antigüedad promedio de la última edición de los artículos cuyo título contenga tu apellido (si no hay, tu nombre y si tampoco hay usa Cafferata) (⭐⭐)"
   ]
  },
  {
   "cell_type": "markdown",
   "id": "d4f33527-c0e1-4177-b912-524581489b89",
   "metadata": {},
   "source": [
    "#### Importo la libreria pandas que utilizare a lo largo del desarrollo del ejercicio."
   ]
  },
  {
   "cell_type": "code",
   "execution_count": 1,
   "id": "b452b8cc",
   "metadata": {},
   "outputs": [],
   "source": [
    "import pandas as pd\n",
    "from datetime import datetime"
   ]
  },
  {
   "cell_type": "markdown",
   "id": "d185bf60-2462-4855-a647-7048062c1418",
   "metadata": {},
   "source": [
    "Leo el archivo del cual extraeré información. "
   ]
  },
  {
   "cell_type": "code",
   "execution_count": 2,
   "id": "da96fbf2",
   "metadata": {},
   "outputs": [],
   "source": [
    "contenido =  pd.read_csv('contents.csv',\\\n",
    "                        usecols=['title','revision_timestamp'])"
   ]
  },
  {
   "cell_type": "code",
   "execution_count": 3,
   "id": "7db9e303",
   "metadata": {},
   "outputs": [
    {
     "data": {
      "text/html": [
       "<div>\n",
       "<style scoped>\n",
       "    .dataframe tbody tr th:only-of-type {\n",
       "        vertical-align: middle;\n",
       "    }\n",
       "\n",
       "    .dataframe tbody tr th {\n",
       "        vertical-align: top;\n",
       "    }\n",
       "\n",
       "    .dataframe thead th {\n",
       "        text-align: right;\n",
       "    }\n",
       "</style>\n",
       "<table border=\"1\" class=\"dataframe\">\n",
       "  <thead>\n",
       "    <tr style=\"text-align: right;\">\n",
       "      <th></th>\n",
       "      <th>title</th>\n",
       "      <th>revision_timestamp</th>\n",
       "    </tr>\n",
       "  </thead>\n",
       "  <tbody>\n",
       "    <tr>\n",
       "      <th>0</th>\n",
       "      <td>Wikipedia:Artículos solicitados</td>\n",
       "      <td>2021-01-19T18:40:34Z</td>\n",
       "    </tr>\n",
       "    <tr>\n",
       "      <th>1</th>\n",
       "      <td>Andorra</td>\n",
       "      <td>2021-08-31T18:27:01Z</td>\n",
       "    </tr>\n",
       "    <tr>\n",
       "      <th>2</th>\n",
       "      <td>Argentina</td>\n",
       "      <td>2021-08-28T17:17:54Z</td>\n",
       "    </tr>\n",
       "    <tr>\n",
       "      <th>3</th>\n",
       "      <td>Geografía de Andorra</td>\n",
       "      <td>2021-08-29T17:16:00Z</td>\n",
       "    </tr>\n",
       "    <tr>\n",
       "      <th>4</th>\n",
       "      <td>Demografía de Andorra</td>\n",
       "      <td>2020-11-12T19:56:15Z</td>\n",
       "    </tr>\n",
       "    <tr>\n",
       "      <th>...</th>\n",
       "      <td>...</td>\n",
       "      <td>...</td>\n",
       "    </tr>\n",
       "    <tr>\n",
       "      <th>4132159</th>\n",
       "      <td>Cruz nestoriana</td>\n",
       "      <td>2021-09-01T12:06:00Z</td>\n",
       "    </tr>\n",
       "    <tr>\n",
       "      <th>4132160</th>\n",
       "      <td>Manifestación del orgullo gay de 1977 en Barce...</td>\n",
       "      <td>2021-09-01T11:52:28Z</td>\n",
       "    </tr>\n",
       "    <tr>\n",
       "      <th>4132161</th>\n",
       "      <td>Rocasaurus</td>\n",
       "      <td>2021-09-01T11:57:06Z</td>\n",
       "    </tr>\n",
       "    <tr>\n",
       "      <th>4132162</th>\n",
       "      <td>Medalla Conmemorativa del 50.º Aniversario de ...</td>\n",
       "      <td>2021-09-01T12:01:38Z</td>\n",
       "    </tr>\n",
       "    <tr>\n",
       "      <th>4132163</th>\n",
       "      <td>Fatikroy</td>\n",
       "      <td>2021-09-01T12:03:14Z</td>\n",
       "    </tr>\n",
       "  </tbody>\n",
       "</table>\n",
       "<p>4132164 rows × 2 columns</p>\n",
       "</div>"
      ],
      "text/plain": [
       "                                                     title  \\\n",
       "0                          Wikipedia:Artículos solicitados   \n",
       "1                                                  Andorra   \n",
       "2                                                Argentina   \n",
       "3                                     Geografía de Andorra   \n",
       "4                                    Demografía de Andorra   \n",
       "...                                                    ...   \n",
       "4132159                                    Cruz nestoriana   \n",
       "4132160  Manifestación del orgullo gay de 1977 en Barce...   \n",
       "4132161                                         Rocasaurus   \n",
       "4132162  Medalla Conmemorativa del 50.º Aniversario de ...   \n",
       "4132163                                           Fatikroy   \n",
       "\n",
       "           revision_timestamp  \n",
       "0        2021-01-19T18:40:34Z  \n",
       "1        2021-08-31T18:27:01Z  \n",
       "2        2021-08-28T17:17:54Z  \n",
       "3        2021-08-29T17:16:00Z  \n",
       "4        2020-11-12T19:56:15Z  \n",
       "...                       ...  \n",
       "4132159  2021-09-01T12:06:00Z  \n",
       "4132160  2021-09-01T11:52:28Z  \n",
       "4132161  2021-09-01T11:57:06Z  \n",
       "4132162  2021-09-01T12:01:38Z  \n",
       "4132163  2021-09-01T12:03:14Z  \n",
       "\n",
       "[4132164 rows x 2 columns]"
      ]
     },
     "execution_count": 3,
     "metadata": {},
     "output_type": "execute_result"
    }
   ],
   "source": [
    "#Muestro el contenido\n",
    "contenido"
   ]
  },
  {
   "cell_type": "code",
   "execution_count": 4,
   "id": "ddd547a9",
   "metadata": {},
   "outputs": [
    {
     "name": "stdout",
     "output_type": "stream",
     "text": [
      "<class 'pandas.core.frame.DataFrame'>\n",
      "RangeIndex: 4132164 entries, 0 to 4132163\n",
      "Data columns (total 2 columns):\n",
      " #   Column              Dtype \n",
      "---  ------              ----- \n",
      " 0   title               object\n",
      " 1   revision_timestamp  object\n",
      "dtypes: object(2)\n",
      "memory usage: 63.1+ MB\n"
     ]
    }
   ],
   "source": [
    "#Veo la información que me brinda mi dataFrame\n",
    "contenido.info()"
   ]
  },
  {
   "cell_type": "code",
   "execution_count": 5,
   "id": "d152faf0",
   "metadata": {},
   "outputs": [],
   "source": [
    "contenido['revision_timestamp'] = pd.to_datetime(contenido['revision_timestamp'])"
   ]
  },
  {
   "cell_type": "code",
   "execution_count": 6,
   "id": "d668f659",
   "metadata": {},
   "outputs": [
    {
     "name": "stdout",
     "output_type": "stream",
     "text": [
      "<class 'pandas.core.frame.DataFrame'>\n",
      "RangeIndex: 4132164 entries, 0 to 4132163\n",
      "Data columns (total 2 columns):\n",
      " #   Column              Dtype              \n",
      "---  ------              -----              \n",
      " 0   title               object             \n",
      " 1   revision_timestamp  datetime64[ns, UTC]\n",
      "dtypes: datetime64[ns, UTC](1), object(1)\n",
      "memory usage: 63.1+ MB\n"
     ]
    }
   ],
   "source": [
    "contenido.info()"
   ]
  },
  {
   "cell_type": "code",
   "execution_count": 7,
   "id": "f318eff7-b493-4e59-9df3-e1cd6e10a797",
   "metadata": {},
   "outputs": [
    {
     "data": {
      "text/plain": [
       "title                 4\n",
       "revision_timestamp    0\n",
       "dtype: int64"
      ]
     },
     "execution_count": 7,
     "metadata": {},
     "output_type": "execute_result"
    }
   ],
   "source": [
    "#verifico si el dataFrame tiene nulos\n",
    "contenido.isnull().sum()"
   ]
  },
  {
   "cell_type": "code",
   "execution_count": 8,
   "id": "e970feb2-36b2-4f8a-8a33-2115d3a91e2d",
   "metadata": {},
   "outputs": [],
   "source": [
    "#elimino los nulos de mi dataFrame\n",
    "contenido.dropna(inplace=True)"
   ]
  },
  {
   "cell_type": "code",
   "execution_count": 9,
   "id": "90203fb6",
   "metadata": {},
   "outputs": [
    {
     "data": {
      "text/plain": [
       "title                 0\n",
       "revision_timestamp    0\n",
       "dtype: int64"
      ]
     },
     "execution_count": 9,
     "metadata": {},
     "output_type": "execute_result"
    }
   ],
   "source": [
    "#verifico que los nulos se hayan eliminado\n",
    "contenido.isnull().sum()"
   ]
  },
  {
   "cell_type": "code",
   "execution_count": 10,
   "id": "90191203",
   "metadata": {},
   "outputs": [
    {
     "data": {
      "text/html": [
       "<div>\n",
       "<style scoped>\n",
       "    .dataframe tbody tr th:only-of-type {\n",
       "        vertical-align: middle;\n",
       "    }\n",
       "\n",
       "    .dataframe tbody tr th {\n",
       "        vertical-align: top;\n",
       "    }\n",
       "\n",
       "    .dataframe thead th {\n",
       "        text-align: right;\n",
       "    }\n",
       "</style>\n",
       "<table border=\"1\" class=\"dataframe\">\n",
       "  <thead>\n",
       "    <tr style=\"text-align: right;\">\n",
       "      <th></th>\n",
       "      <th>title</th>\n",
       "      <th>revision_timestamp</th>\n",
       "    </tr>\n",
       "  </thead>\n",
       "  <tbody>\n",
       "    <tr>\n",
       "      <th>0</th>\n",
       "      <td>Wikipedia:Artículos solicitados</td>\n",
       "      <td>2021-01-19 18:40:34+00:00</td>\n",
       "    </tr>\n",
       "    <tr>\n",
       "      <th>1</th>\n",
       "      <td>Andorra</td>\n",
       "      <td>2021-08-31 18:27:01+00:00</td>\n",
       "    </tr>\n",
       "    <tr>\n",
       "      <th>2</th>\n",
       "      <td>Argentina</td>\n",
       "      <td>2021-08-28 17:17:54+00:00</td>\n",
       "    </tr>\n",
       "    <tr>\n",
       "      <th>3</th>\n",
       "      <td>Geografía de Andorra</td>\n",
       "      <td>2021-08-29 17:16:00+00:00</td>\n",
       "    </tr>\n",
       "    <tr>\n",
       "      <th>4</th>\n",
       "      <td>Demografía de Andorra</td>\n",
       "      <td>2020-11-12 19:56:15+00:00</td>\n",
       "    </tr>\n",
       "  </tbody>\n",
       "</table>\n",
       "</div>"
      ],
      "text/plain": [
       "                             title        revision_timestamp\n",
       "0  Wikipedia:Artículos solicitados 2021-01-19 18:40:34+00:00\n",
       "1                          Andorra 2021-08-31 18:27:01+00:00\n",
       "2                        Argentina 2021-08-28 17:17:54+00:00\n",
       "3             Geografía de Andorra 2021-08-29 17:16:00+00:00\n",
       "4            Demografía de Andorra 2020-11-12 19:56:15+00:00"
      ]
     },
     "execution_count": 10,
     "metadata": {},
     "output_type": "execute_result"
    }
   ],
   "source": [
    "contenido.head(5)"
   ]
  },
  {
   "cell_type": "markdown",
   "id": "8d5d9758-1557-4f8a-84c6-57edf4e2aa9a",
   "metadata": {},
   "source": [
    "El dataFrame ya esta en condiciones de ser utilizado. Procedo a resolver la consigna."
   ]
  },
  {
   "cell_type": "code",
   "execution_count": 11,
   "id": "fc69d143",
   "metadata": {},
   "outputs": [
    {
     "data": {
      "text/plain": [
       "title                              object\n",
       "revision_timestamp    datetime64[ns, UTC]\n",
       "dtype: object"
      ]
     },
     "execution_count": 11,
     "metadata": {},
     "output_type": "execute_result"
    }
   ],
   "source": [
    "#Verifico que tipo de datos tiene mi dataFrame\n",
    "contenido.dtypes"
   ]
  },
  {
   "cell_type": "code",
   "execution_count": 12,
   "id": "47216503",
   "metadata": {},
   "outputs": [],
   "source": [
    "#Casteo a string la serie Title de mi dataFrame\n",
    "contenido = contenido.astype({'title': 'str'})"
   ]
  },
  {
   "cell_type": "code",
   "execution_count": 13,
   "id": "3ca88b81",
   "metadata": {},
   "outputs": [
    {
     "data": {
      "text/plain": [
       "0          False\n",
       "1          False\n",
       "2          False\n",
       "3          False\n",
       "4          False\n",
       "           ...  \n",
       "4132159    False\n",
       "4132160    False\n",
       "4132161    False\n",
       "4132162    False\n",
       "4132163    False\n",
       "Name: title, Length: 4132160, dtype: bool"
      ]
     },
     "execution_count": 13,
     "metadata": {},
     "output_type": "execute_result"
    }
   ],
   "source": [
    "#Llevo acabo el filtro\n",
    "filtro = contenido['title'].str.contains('Ponti')\n",
    "filtro"
   ]
  },
  {
   "cell_type": "code",
   "execution_count": 14,
   "id": "8e8864f2",
   "metadata": {},
   "outputs": [
    {
     "data": {
      "text/html": [
       "<div>\n",
       "<style scoped>\n",
       "    .dataframe tbody tr th:only-of-type {\n",
       "        vertical-align: middle;\n",
       "    }\n",
       "\n",
       "    .dataframe tbody tr th {\n",
       "        vertical-align: top;\n",
       "    }\n",
       "\n",
       "    .dataframe thead th {\n",
       "        text-align: right;\n",
       "    }\n",
       "</style>\n",
       "<table border=\"1\" class=\"dataframe\">\n",
       "  <thead>\n",
       "    <tr style=\"text-align: right;\">\n",
       "      <th></th>\n",
       "      <th>title</th>\n",
       "      <th>revision_timestamp</th>\n",
       "    </tr>\n",
       "  </thead>\n",
       "  <tbody>\n",
       "    <tr>\n",
       "      <th>20066</th>\n",
       "      <td>Guardia Suiza Pontificia</td>\n",
       "      <td>2021-05-16 16:50:08+00:00</td>\n",
       "    </tr>\n",
       "    <tr>\n",
       "      <th>27982</th>\n",
       "      <td>Universidad Pontificia de Salamanca</td>\n",
       "      <td>2021-08-01 15:47:24+00:00</td>\n",
       "    </tr>\n",
       "    <tr>\n",
       "      <th>29674</th>\n",
       "      <td>Estados Pontificios</td>\n",
       "      <td>2021-08-11 18:03:26+00:00</td>\n",
       "    </tr>\n",
       "    <tr>\n",
       "      <th>33713</th>\n",
       "      <td>Pontificia Universidad Católica de Chile</td>\n",
       "      <td>2021-08-20 16:28:39+00:00</td>\n",
       "    </tr>\n",
       "    <tr>\n",
       "      <th>39050</th>\n",
       "      <td>Pontificia Universidad Católica del Perú</td>\n",
       "      <td>2021-08-10 09:39:59+00:00</td>\n",
       "    </tr>\n",
       "    <tr>\n",
       "      <th>...</th>\n",
       "      <td>...</td>\n",
       "      <td>...</td>\n",
       "    </tr>\n",
       "    <tr>\n",
       "      <th>4109676</th>\n",
       "      <td>Categoría:Alumnado del Instituto de Historia d...</td>\n",
       "      <td>2021-07-12 21:07:56+00:00</td>\n",
       "    </tr>\n",
       "    <tr>\n",
       "      <th>4109677</th>\n",
       "      <td>Categoría:Instituto de Historia de la Pontific...</td>\n",
       "      <td>2021-07-12 21:08:12+00:00</td>\n",
       "    </tr>\n",
       "    <tr>\n",
       "      <th>4116500</th>\n",
       "      <td>Pontiac Phantom</td>\n",
       "      <td>2021-07-27 12:01:16+00:00</td>\n",
       "    </tr>\n",
       "    <tr>\n",
       "      <th>4118168</th>\n",
       "      <td>Noè Ponti</td>\n",
       "      <td>2021-08-04 09:16:25+00:00</td>\n",
       "    </tr>\n",
       "    <tr>\n",
       "      <th>4118550</th>\n",
       "      <td>Noe Ponti</td>\n",
       "      <td>2021-07-31 01:52:13+00:00</td>\n",
       "    </tr>\n",
       "  </tbody>\n",
       "</table>\n",
       "<p>887 rows × 2 columns</p>\n",
       "</div>"
      ],
      "text/plain": [
       "                                                     title  \\\n",
       "20066                             Guardia Suiza Pontificia   \n",
       "27982                  Universidad Pontificia de Salamanca   \n",
       "29674                                  Estados Pontificios   \n",
       "33713             Pontificia Universidad Católica de Chile   \n",
       "39050             Pontificia Universidad Católica del Perú   \n",
       "...                                                    ...   \n",
       "4109676  Categoría:Alumnado del Instituto de Historia d...   \n",
       "4109677  Categoría:Instituto de Historia de la Pontific...   \n",
       "4116500                                    Pontiac Phantom   \n",
       "4118168                                          Noè Ponti   \n",
       "4118550                                          Noe Ponti   \n",
       "\n",
       "               revision_timestamp  \n",
       "20066   2021-05-16 16:50:08+00:00  \n",
       "27982   2021-08-01 15:47:24+00:00  \n",
       "29674   2021-08-11 18:03:26+00:00  \n",
       "33713   2021-08-20 16:28:39+00:00  \n",
       "39050   2021-08-10 09:39:59+00:00  \n",
       "...                           ...  \n",
       "4109676 2021-07-12 21:07:56+00:00  \n",
       "4109677 2021-07-12 21:08:12+00:00  \n",
       "4116500 2021-07-27 12:01:16+00:00  \n",
       "4118168 2021-08-04 09:16:25+00:00  \n",
       "4118550 2021-07-31 01:52:13+00:00  \n",
       "\n",
       "[887 rows x 2 columns]"
      ]
     },
     "execution_count": 14,
     "metadata": {},
     "output_type": "execute_result"
    }
   ],
   "source": [
    "#Filtro segun mi restricción\n",
    "filtrado=contenido[filtro]\n",
    "filtrado"
   ]
  },
  {
   "cell_type": "code",
   "execution_count": 15,
   "id": "81d2cb69",
   "metadata": {},
   "outputs": [],
   "source": [
    "#libero espacio en la RAM del dataFrame que ya no utilizo\n",
    "del contenido"
   ]
  },
  {
   "cell_type": "code",
   "execution_count": 16,
   "id": "745eb25a",
   "metadata": {},
   "outputs": [
    {
     "name": "stdout",
     "output_type": "stream",
     "text": [
      "<class 'pandas.core.frame.DataFrame'>\n",
      "Int64Index: 887 entries, 20066 to 4118550\n",
      "Data columns (total 2 columns):\n",
      " #   Column              Non-Null Count  Dtype              \n",
      "---  ------              --------------  -----              \n",
      " 0   title               887 non-null    object             \n",
      " 1   revision_timestamp  887 non-null    datetime64[ns, UTC]\n",
      "dtypes: datetime64[ns, UTC](1), object(1)\n",
      "memory usage: 20.8+ KB\n"
     ]
    }
   ],
   "source": [
    "filtrado.info()"
   ]
  },
  {
   "cell_type": "code",
   "execution_count": 17,
   "id": "c76cab94",
   "metadata": {},
   "outputs": [],
   "source": [
    "filtrado['antiguedad'] = pd.to_datetime('2021-09-29T00:00:00Z') - filtrado['revision_timestamp']"
   ]
  },
  {
   "cell_type": "code",
   "execution_count": 18,
   "id": "8b05acec",
   "metadata": {},
   "outputs": [
    {
     "data": {
      "text/html": [
       "<div>\n",
       "<style scoped>\n",
       "    .dataframe tbody tr th:only-of-type {\n",
       "        vertical-align: middle;\n",
       "    }\n",
       "\n",
       "    .dataframe tbody tr th {\n",
       "        vertical-align: top;\n",
       "    }\n",
       "\n",
       "    .dataframe thead th {\n",
       "        text-align: right;\n",
       "    }\n",
       "</style>\n",
       "<table border=\"1\" class=\"dataframe\">\n",
       "  <thead>\n",
       "    <tr style=\"text-align: right;\">\n",
       "      <th></th>\n",
       "      <th>title</th>\n",
       "      <th>revision_timestamp</th>\n",
       "      <th>antiguedad</th>\n",
       "    </tr>\n",
       "  </thead>\n",
       "  <tbody>\n",
       "    <tr>\n",
       "      <th>20066</th>\n",
       "      <td>Guardia Suiza Pontificia</td>\n",
       "      <td>2021-05-16 16:50:08+00:00</td>\n",
       "      <td>135 days 07:09:52</td>\n",
       "    </tr>\n",
       "    <tr>\n",
       "      <th>27982</th>\n",
       "      <td>Universidad Pontificia de Salamanca</td>\n",
       "      <td>2021-08-01 15:47:24+00:00</td>\n",
       "      <td>58 days 08:12:36</td>\n",
       "    </tr>\n",
       "    <tr>\n",
       "      <th>29674</th>\n",
       "      <td>Estados Pontificios</td>\n",
       "      <td>2021-08-11 18:03:26+00:00</td>\n",
       "      <td>48 days 05:56:34</td>\n",
       "    </tr>\n",
       "    <tr>\n",
       "      <th>33713</th>\n",
       "      <td>Pontificia Universidad Católica de Chile</td>\n",
       "      <td>2021-08-20 16:28:39+00:00</td>\n",
       "      <td>39 days 07:31:21</td>\n",
       "    </tr>\n",
       "    <tr>\n",
       "      <th>39050</th>\n",
       "      <td>Pontificia Universidad Católica del Perú</td>\n",
       "      <td>2021-08-10 09:39:59+00:00</td>\n",
       "      <td>49 days 14:20:01</td>\n",
       "    </tr>\n",
       "    <tr>\n",
       "      <th>...</th>\n",
       "      <td>...</td>\n",
       "      <td>...</td>\n",
       "      <td>...</td>\n",
       "    </tr>\n",
       "    <tr>\n",
       "      <th>4109676</th>\n",
       "      <td>Categoría:Alumnado del Instituto de Historia d...</td>\n",
       "      <td>2021-07-12 21:07:56+00:00</td>\n",
       "      <td>78 days 02:52:04</td>\n",
       "    </tr>\n",
       "    <tr>\n",
       "      <th>4109677</th>\n",
       "      <td>Categoría:Instituto de Historia de la Pontific...</td>\n",
       "      <td>2021-07-12 21:08:12+00:00</td>\n",
       "      <td>78 days 02:51:48</td>\n",
       "    </tr>\n",
       "    <tr>\n",
       "      <th>4116500</th>\n",
       "      <td>Pontiac Phantom</td>\n",
       "      <td>2021-07-27 12:01:16+00:00</td>\n",
       "      <td>63 days 11:58:44</td>\n",
       "    </tr>\n",
       "    <tr>\n",
       "      <th>4118168</th>\n",
       "      <td>Noè Ponti</td>\n",
       "      <td>2021-08-04 09:16:25+00:00</td>\n",
       "      <td>55 days 14:43:35</td>\n",
       "    </tr>\n",
       "    <tr>\n",
       "      <th>4118550</th>\n",
       "      <td>Noe Ponti</td>\n",
       "      <td>2021-07-31 01:52:13+00:00</td>\n",
       "      <td>59 days 22:07:47</td>\n",
       "    </tr>\n",
       "  </tbody>\n",
       "</table>\n",
       "<p>887 rows × 3 columns</p>\n",
       "</div>"
      ],
      "text/plain": [
       "                                                     title  \\\n",
       "20066                             Guardia Suiza Pontificia   \n",
       "27982                  Universidad Pontificia de Salamanca   \n",
       "29674                                  Estados Pontificios   \n",
       "33713             Pontificia Universidad Católica de Chile   \n",
       "39050             Pontificia Universidad Católica del Perú   \n",
       "...                                                    ...   \n",
       "4109676  Categoría:Alumnado del Instituto de Historia d...   \n",
       "4109677  Categoría:Instituto de Historia de la Pontific...   \n",
       "4116500                                    Pontiac Phantom   \n",
       "4118168                                          Noè Ponti   \n",
       "4118550                                          Noe Ponti   \n",
       "\n",
       "               revision_timestamp        antiguedad  \n",
       "20066   2021-05-16 16:50:08+00:00 135 days 07:09:52  \n",
       "27982   2021-08-01 15:47:24+00:00  58 days 08:12:36  \n",
       "29674   2021-08-11 18:03:26+00:00  48 days 05:56:34  \n",
       "33713   2021-08-20 16:28:39+00:00  39 days 07:31:21  \n",
       "39050   2021-08-10 09:39:59+00:00  49 days 14:20:01  \n",
       "...                           ...               ...  \n",
       "4109676 2021-07-12 21:07:56+00:00  78 days 02:52:04  \n",
       "4109677 2021-07-12 21:08:12+00:00  78 days 02:51:48  \n",
       "4116500 2021-07-27 12:01:16+00:00  63 days 11:58:44  \n",
       "4118168 2021-08-04 09:16:25+00:00  55 days 14:43:35  \n",
       "4118550 2021-07-31 01:52:13+00:00  59 days 22:07:47  \n",
       "\n",
       "[887 rows x 3 columns]"
      ]
     },
     "execution_count": 18,
     "metadata": {},
     "output_type": "execute_result"
    }
   ],
   "source": [
    "filtrado"
   ]
  },
  {
   "cell_type": "code",
   "execution_count": 19,
   "id": "59a9233f",
   "metadata": {},
   "outputs": [],
   "source": [
    "#Calculo cual es la antigüedad promedio\n",
    "antiguedadPromedio = filtrado['antiguedad'].mean()"
   ]
  },
  {
   "cell_type": "markdown",
   "id": "a3439b1c",
   "metadata": {},
   "source": [
    "### Resultado"
   ]
  },
  {
   "cell_type": "code",
   "execution_count": 20,
   "id": "ef8cd573",
   "metadata": {},
   "outputs": [
    {
     "name": "stdout",
     "output_type": "stream",
     "text": [
      "La antigüedad promedio de la última edición de los artículos cuyo título contenga \"Ponti\" es: \n",
      " 2196 days 04:24:34.282976320\n"
     ]
    }
   ],
   "source": [
    "print('La antigüedad promedio de la última edición de los artículos cuyo título contenga \"Ponti\" es:','\\n',antiguedadPromedio)"
   ]
  },
  {
   "cell_type": "code",
   "execution_count": null,
   "id": "5a838b31",
   "metadata": {},
   "outputs": [],
   "source": []
  }
 ],
 "metadata": {
  "kernelspec": {
   "display_name": "Python 3",
   "language": "python",
   "name": "python3"
  },
  "language_info": {
   "codemirror_mode": {
    "name": "ipython",
    "version": 3
   },
   "file_extension": ".py",
   "mimetype": "text/x-python",
   "name": "python",
   "nbconvert_exporter": "python",
   "pygments_lexer": "ipython3",
   "version": "3.8.8"
  }
 },
 "nbformat": 4,
 "nbformat_minor": 5
}
