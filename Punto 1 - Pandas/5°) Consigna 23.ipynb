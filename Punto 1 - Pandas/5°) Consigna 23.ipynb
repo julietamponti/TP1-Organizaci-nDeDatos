{
 "cells": [
  {
   "cell_type": "markdown",
   "id": "0ba663e0",
   "metadata": {},
   "source": [
    "### Consigna: ¿Qué porcentaje de los contenidos contienen a su mismo título en el texto? (⭐⭐)"
   ]
  },
  {
   "cell_type": "markdown",
   "id": "d0577db1",
   "metadata": {},
   "source": [
    "Importo la libreria que utilizaré para resolver el ejercicio."
   ]
  },
  {
   "cell_type": "code",
   "execution_count": 1,
   "id": "d4ac4d44",
   "metadata": {},
   "outputs": [],
   "source": [
    "import pandas as pd"
   ]
  },
  {
   "cell_type": "markdown",
   "id": "bde3d228",
   "metadata": {},
   "source": [
    "Leo el archivo que me brindará la información necesaria para llevar acabo el desarrollo de este ejecicio. Solo utilizaré dos de sus columnas."
   ]
  },
  {
   "cell_type": "code",
   "execution_count": 2,
   "id": "7c572179",
   "metadata": {},
   "outputs": [],
   "source": [
    "archivo = pd.read_csv('contents_text_sample.csv',\\\n",
    "                     usecols=['title','text'])"
   ]
  },
  {
   "cell_type": "code",
   "execution_count": 3,
   "id": "7682af11",
   "metadata": {},
   "outputs": [
    {
     "data": {
      "text/html": [
       "<div>\n",
       "<style scoped>\n",
       "    .dataframe tbody tr th:only-of-type {\n",
       "        vertical-align: middle;\n",
       "    }\n",
       "\n",
       "    .dataframe tbody tr th {\n",
       "        vertical-align: top;\n",
       "    }\n",
       "\n",
       "    .dataframe thead th {\n",
       "        text-align: right;\n",
       "    }\n",
       "</style>\n",
       "<table border=\"1\" class=\"dataframe\">\n",
       "  <thead>\n",
       "    <tr style=\"text-align: right;\">\n",
       "      <th></th>\n",
       "      <th>title</th>\n",
       "      <th>text</th>\n",
       "    </tr>\n",
       "  </thead>\n",
       "  <tbody>\n",
       "    <tr>\n",
       "      <th>0</th>\n",
       "      <td>Anacardiaceae</td>\n",
       "      <td>{{Ficha de taxón\\n| name = Anacardiáceas\\n| im...</td>\n",
       "    </tr>\n",
       "    <tr>\n",
       "      <th>1</th>\n",
       "      <td>Antipartícula</td>\n",
       "      <td>[[Archivo:Materia antimateria.png|thumb|200px|...</td>\n",
       "    </tr>\n",
       "    <tr>\n",
       "      <th>2</th>\n",
       "      <td>Año bisiesto</td>\n",
       "      <td>'''Año bisiesto''' es una expresión que deriva...</td>\n",
       "    </tr>\n",
       "    <tr>\n",
       "      <th>3</th>\n",
       "      <td>Avena</td>\n",
       "      <td>{{otros usos|Avena sativa|la avena común}}\\n{{...</td>\n",
       "    </tr>\n",
       "    <tr>\n",
       "      <th>4</th>\n",
       "      <td>Alfabeto</td>\n",
       "      <td>{{distinguir|analfabeto|alfabetización}} \\n[[A...</td>\n",
       "    </tr>\n",
       "    <tr>\n",
       "      <th>...</th>\n",
       "      <td>...</td>\n",
       "      <td>...</td>\n",
       "    </tr>\n",
       "    <tr>\n",
       "      <th>206602</th>\n",
       "      <td>Nicoleta-Ancuţa Bodnar</td>\n",
       "      <td>#REDIRECCIÓN [[Nicoleta-Ancuța Bodnar]]</td>\n",
       "    </tr>\n",
       "    <tr>\n",
       "      <th>206603</th>\n",
       "      <td>Sebastian Szczepański</td>\n",
       "      <td>{{Ficha de deportista\\n|nombre              = ...</td>\n",
       "    </tr>\n",
       "    <tr>\n",
       "      <th>206604</th>\n",
       "      <td>Manu (Tripura)</td>\n",
       "      <td>{{Ficha de entidad subnacional\\n|nombre comple...</td>\n",
       "    </tr>\n",
       "    <tr>\n",
       "      <th>206605</th>\n",
       "      <td>ISRU</td>\n",
       "      <td>#REDIRECCIÓN [[Utilización de recursos in situ]]</td>\n",
       "    </tr>\n",
       "    <tr>\n",
       "      <th>206606</th>\n",
       "      <td>IA (VOCALOID)</td>\n",
       "      <td>#REDIRECCIÓN [[IA -Aria on the Planetes-]]</td>\n",
       "    </tr>\n",
       "  </tbody>\n",
       "</table>\n",
       "<p>206607 rows × 2 columns</p>\n",
       "</div>"
      ],
      "text/plain": [
       "                         title  \\\n",
       "0                Anacardiaceae   \n",
       "1                Antipartícula   \n",
       "2                 Año bisiesto   \n",
       "3                        Avena   \n",
       "4                     Alfabeto   \n",
       "...                        ...   \n",
       "206602  Nicoleta-Ancuţa Bodnar   \n",
       "206603   Sebastian Szczepański   \n",
       "206604          Manu (Tripura)   \n",
       "206605                    ISRU   \n",
       "206606           IA (VOCALOID)   \n",
       "\n",
       "                                                     text  \n",
       "0       {{Ficha de taxón\\n| name = Anacardiáceas\\n| im...  \n",
       "1       [[Archivo:Materia antimateria.png|thumb|200px|...  \n",
       "2       '''Año bisiesto''' es una expresión que deriva...  \n",
       "3       {{otros usos|Avena sativa|la avena común}}\\n{{...  \n",
       "4       {{distinguir|analfabeto|alfabetización}} \\n[[A...  \n",
       "...                                                   ...  \n",
       "206602            #REDIRECCIÓN [[Nicoleta-Ancuța Bodnar]]  \n",
       "206603  {{Ficha de deportista\\n|nombre              = ...  \n",
       "206604  {{Ficha de entidad subnacional\\n|nombre comple...  \n",
       "206605   #REDIRECCIÓN [[Utilización de recursos in situ]]  \n",
       "206606         #REDIRECCIÓN [[IA -Aria on the Planetes-]]  \n",
       "\n",
       "[206607 rows x 2 columns]"
      ]
     },
     "execution_count": 3,
     "metadata": {},
     "output_type": "execute_result"
    }
   ],
   "source": [
    "archivo"
   ]
  },
  {
   "cell_type": "code",
   "execution_count": 4,
   "id": "dc7cd07c",
   "metadata": {},
   "outputs": [
    {
     "name": "stdout",
     "output_type": "stream",
     "text": [
      "<class 'pandas.core.frame.DataFrame'>\n",
      "RangeIndex: 206607 entries, 0 to 206606\n",
      "Data columns (total 2 columns):\n",
      " #   Column  Non-Null Count   Dtype \n",
      "---  ------  --------------   ----- \n",
      " 0   title   206607 non-null  object\n",
      " 1   text    206600 non-null  object\n",
      "dtypes: object(2)\n",
      "memory usage: 3.2+ MB\n"
     ]
    }
   ],
   "source": [
    "#Veo la información que me brinda mi dataFrame\n",
    "archivo.info()"
   ]
  },
  {
   "cell_type": "code",
   "execution_count": 5,
   "id": "626626ff",
   "metadata": {},
   "outputs": [
    {
     "data": {
      "text/html": [
       "<div>\n",
       "<style scoped>\n",
       "    .dataframe tbody tr th:only-of-type {\n",
       "        vertical-align: middle;\n",
       "    }\n",
       "\n",
       "    .dataframe tbody tr th {\n",
       "        vertical-align: top;\n",
       "    }\n",
       "\n",
       "    .dataframe thead th {\n",
       "        text-align: right;\n",
       "    }\n",
       "</style>\n",
       "<table border=\"1\" class=\"dataframe\">\n",
       "  <thead>\n",
       "    <tr style=\"text-align: right;\">\n",
       "      <th></th>\n",
       "      <th>title</th>\n",
       "      <th>text</th>\n",
       "    </tr>\n",
       "  </thead>\n",
       "  <tbody>\n",
       "    <tr>\n",
       "      <th>0</th>\n",
       "      <td>Anacardiaceae</td>\n",
       "      <td>{{Ficha de taxón\\n| name = Anacardiáceas\\n| im...</td>\n",
       "    </tr>\n",
       "    <tr>\n",
       "      <th>1</th>\n",
       "      <td>Antipartícula</td>\n",
       "      <td>[[Archivo:Materia antimateria.png|thumb|200px|...</td>\n",
       "    </tr>\n",
       "    <tr>\n",
       "      <th>2</th>\n",
       "      <td>Año bisiesto</td>\n",
       "      <td>'''Año bisiesto''' es una expresión que deriva...</td>\n",
       "    </tr>\n",
       "    <tr>\n",
       "      <th>3</th>\n",
       "      <td>Avena</td>\n",
       "      <td>{{otros usos|Avena sativa|la avena común}}\\n{{...</td>\n",
       "    </tr>\n",
       "    <tr>\n",
       "      <th>4</th>\n",
       "      <td>Alfabeto</td>\n",
       "      <td>{{distinguir|analfabeto|alfabetización}} \\n[[A...</td>\n",
       "    </tr>\n",
       "    <tr>\n",
       "      <th>...</th>\n",
       "      <td>...</td>\n",
       "      <td>...</td>\n",
       "    </tr>\n",
       "    <tr>\n",
       "      <th>206602</th>\n",
       "      <td>Nicoleta-Ancuţa Bodnar</td>\n",
       "      <td>#REDIRECCIÓN [[Nicoleta-Ancuța Bodnar]]</td>\n",
       "    </tr>\n",
       "    <tr>\n",
       "      <th>206603</th>\n",
       "      <td>Sebastian Szczepański</td>\n",
       "      <td>{{Ficha de deportista\\n|nombre              = ...</td>\n",
       "    </tr>\n",
       "    <tr>\n",
       "      <th>206604</th>\n",
       "      <td>Manu (Tripura)</td>\n",
       "      <td>{{Ficha de entidad subnacional\\n|nombre comple...</td>\n",
       "    </tr>\n",
       "    <tr>\n",
       "      <th>206605</th>\n",
       "      <td>ISRU</td>\n",
       "      <td>#REDIRECCIÓN [[Utilización de recursos in situ]]</td>\n",
       "    </tr>\n",
       "    <tr>\n",
       "      <th>206606</th>\n",
       "      <td>IA (VOCALOID)</td>\n",
       "      <td>#REDIRECCIÓN [[IA -Aria on the Planetes-]]</td>\n",
       "    </tr>\n",
       "  </tbody>\n",
       "</table>\n",
       "<p>206607 rows × 2 columns</p>\n",
       "</div>"
      ],
      "text/plain": [
       "                         title  \\\n",
       "0                Anacardiaceae   \n",
       "1                Antipartícula   \n",
       "2                 Año bisiesto   \n",
       "3                        Avena   \n",
       "4                     Alfabeto   \n",
       "...                        ...   \n",
       "206602  Nicoleta-Ancuţa Bodnar   \n",
       "206603   Sebastian Szczepański   \n",
       "206604          Manu (Tripura)   \n",
       "206605                    ISRU   \n",
       "206606           IA (VOCALOID)   \n",
       "\n",
       "                                                     text  \n",
       "0       {{Ficha de taxón\\n| name = Anacardiáceas\\n| im...  \n",
       "1       [[Archivo:Materia antimateria.png|thumb|200px|...  \n",
       "2       '''Año bisiesto''' es una expresión que deriva...  \n",
       "3       {{otros usos|Avena sativa|la avena común}}\\n{{...  \n",
       "4       {{distinguir|analfabeto|alfabetización}} \\n[[A...  \n",
       "...                                                   ...  \n",
       "206602            #REDIRECCIÓN [[Nicoleta-Ancuța Bodnar]]  \n",
       "206603  {{Ficha de deportista\\n|nombre              = ...  \n",
       "206604  {{Ficha de entidad subnacional\\n|nombre comple...  \n",
       "206605   #REDIRECCIÓN [[Utilización de recursos in situ]]  \n",
       "206606         #REDIRECCIÓN [[IA -Aria on the Planetes-]]  \n",
       "\n",
       "[206607 rows x 2 columns]"
      ]
     },
     "execution_count": 5,
     "metadata": {},
     "output_type": "execute_result"
    }
   ],
   "source": [
    "#En lugar de despreciar los nans, les voy a asignar 'desconocido'\n",
    "archivo = archivo.fillna('Desconocido')\n",
    "archivo"
   ]
  },
  {
   "cell_type": "markdown",
   "id": "d2a9b936",
   "metadata": {},
   "source": [
    "El archivo ya se encuentra en condiciones optimas para ser utilizado."
   ]
  },
  {
   "cell_type": "code",
   "execution_count": 6,
   "id": "579a9a30",
   "metadata": {},
   "outputs": [
    {
     "name": "stdout",
     "output_type": "stream",
     "text": [
      "<class 'pandas.core.frame.DataFrame'>\n",
      "RangeIndex: 206607 entries, 0 to 206606\n",
      "Data columns (total 2 columns):\n",
      " #   Column  Non-Null Count   Dtype \n",
      "---  ------  --------------   ----- \n",
      " 0   title   206607 non-null  object\n",
      " 1   text    206607 non-null  object\n",
      "dtypes: object(2)\n",
      "memory usage: 3.2+ MB\n"
     ]
    }
   ],
   "source": [
    "archivo.info()"
   ]
  },
  {
   "cell_type": "markdown",
   "id": "e65cc393",
   "metadata": {},
   "source": [
    "Verifico si cada texto contiene a su título."
   ]
  },
  {
   "cell_type": "code",
   "execution_count": 7,
   "id": "5ac730ad",
   "metadata": {},
   "outputs": [
    {
     "data": {
      "text/html": [
       "<div>\n",
       "<style scoped>\n",
       "    .dataframe tbody tr th:only-of-type {\n",
       "        vertical-align: middle;\n",
       "    }\n",
       "\n",
       "    .dataframe tbody tr th {\n",
       "        vertical-align: top;\n",
       "    }\n",
       "\n",
       "    .dataframe thead th {\n",
       "        text-align: right;\n",
       "    }\n",
       "</style>\n",
       "<table border=\"1\" class=\"dataframe\">\n",
       "  <thead>\n",
       "    <tr style=\"text-align: right;\">\n",
       "      <th></th>\n",
       "      <th>title</th>\n",
       "      <th>text</th>\n",
       "      <th>contiene</th>\n",
       "    </tr>\n",
       "  </thead>\n",
       "  <tbody>\n",
       "    <tr>\n",
       "      <th>0</th>\n",
       "      <td>Anacardiaceae</td>\n",
       "      <td>{{Ficha de taxón\\n| name = Anacardiáceas\\n| im...</td>\n",
       "      <td>True</td>\n",
       "    </tr>\n",
       "    <tr>\n",
       "      <th>1</th>\n",
       "      <td>Antipartícula</td>\n",
       "      <td>[[Archivo:Materia antimateria.png|thumb|200px|...</td>\n",
       "      <td>False</td>\n",
       "    </tr>\n",
       "    <tr>\n",
       "      <th>2</th>\n",
       "      <td>Año bisiesto</td>\n",
       "      <td>'''Año bisiesto''' es una expresión que deriva...</td>\n",
       "      <td>True</td>\n",
       "    </tr>\n",
       "    <tr>\n",
       "      <th>3</th>\n",
       "      <td>Avena</td>\n",
       "      <td>{{otros usos|Avena sativa|la avena común}}\\n{{...</td>\n",
       "      <td>True</td>\n",
       "    </tr>\n",
       "    <tr>\n",
       "      <th>4</th>\n",
       "      <td>Alfabeto</td>\n",
       "      <td>{{distinguir|analfabeto|alfabetización}} \\n[[A...</td>\n",
       "      <td>True</td>\n",
       "    </tr>\n",
       "    <tr>\n",
       "      <th>...</th>\n",
       "      <td>...</td>\n",
       "      <td>...</td>\n",
       "      <td>...</td>\n",
       "    </tr>\n",
       "    <tr>\n",
       "      <th>206602</th>\n",
       "      <td>Nicoleta-Ancuţa Bodnar</td>\n",
       "      <td>#REDIRECCIÓN [[Nicoleta-Ancuța Bodnar]]</td>\n",
       "      <td>False</td>\n",
       "    </tr>\n",
       "    <tr>\n",
       "      <th>206603</th>\n",
       "      <td>Sebastian Szczepański</td>\n",
       "      <td>{{Ficha de deportista\\n|nombre              = ...</td>\n",
       "      <td>True</td>\n",
       "    </tr>\n",
       "    <tr>\n",
       "      <th>206604</th>\n",
       "      <td>Manu (Tripura)</td>\n",
       "      <td>{{Ficha de entidad subnacional\\n|nombre comple...</td>\n",
       "      <td>False</td>\n",
       "    </tr>\n",
       "    <tr>\n",
       "      <th>206605</th>\n",
       "      <td>ISRU</td>\n",
       "      <td>#REDIRECCIÓN [[Utilización de recursos in situ]]</td>\n",
       "      <td>False</td>\n",
       "    </tr>\n",
       "    <tr>\n",
       "      <th>206606</th>\n",
       "      <td>IA (VOCALOID)</td>\n",
       "      <td>#REDIRECCIÓN [[IA -Aria on the Planetes-]]</td>\n",
       "      <td>False</td>\n",
       "    </tr>\n",
       "  </tbody>\n",
       "</table>\n",
       "<p>206607 rows × 3 columns</p>\n",
       "</div>"
      ],
      "text/plain": [
       "                         title  \\\n",
       "0                Anacardiaceae   \n",
       "1                Antipartícula   \n",
       "2                 Año bisiesto   \n",
       "3                        Avena   \n",
       "4                     Alfabeto   \n",
       "...                        ...   \n",
       "206602  Nicoleta-Ancuţa Bodnar   \n",
       "206603   Sebastian Szczepański   \n",
       "206604          Manu (Tripura)   \n",
       "206605                    ISRU   \n",
       "206606           IA (VOCALOID)   \n",
       "\n",
       "                                                     text  contiene  \n",
       "0       {{Ficha de taxón\\n| name = Anacardiáceas\\n| im...      True  \n",
       "1       [[Archivo:Materia antimateria.png|thumb|200px|...     False  \n",
       "2       '''Año bisiesto''' es una expresión que deriva...      True  \n",
       "3       {{otros usos|Avena sativa|la avena común}}\\n{{...      True  \n",
       "4       {{distinguir|analfabeto|alfabetización}} \\n[[A...      True  \n",
       "...                                                   ...       ...  \n",
       "206602            #REDIRECCIÓN [[Nicoleta-Ancuța Bodnar]]     False  \n",
       "206603  {{Ficha de deportista\\n|nombre              = ...      True  \n",
       "206604  {{Ficha de entidad subnacional\\n|nombre comple...     False  \n",
       "206605   #REDIRECCIÓN [[Utilización de recursos in situ]]     False  \n",
       "206606         #REDIRECCIÓN [[IA -Aria on the Planetes-]]     False  \n",
       "\n",
       "[206607 rows x 3 columns]"
      ]
     },
     "execution_count": 7,
     "metadata": {},
     "output_type": "execute_result"
    }
   ],
   "source": [
    "archivo['contiene'] = (archivo.apply(lambda x: x.title in x.text, axis=1))\n",
    "archivo"
   ]
  },
  {
   "cell_type": "code",
   "execution_count": 8,
   "id": "e8b1464e",
   "metadata": {},
   "outputs": [
    {
     "data": {
      "text/plain": [
       "False    137195\n",
       "True      69412\n",
       "Name: contiene, dtype: int64"
      ]
     },
     "execution_count": 8,
     "metadata": {},
     "output_type": "execute_result"
    }
   ],
   "source": [
    "archivo['contiene'].value_counts()"
   ]
  },
  {
   "cell_type": "markdown",
   "id": "4d1fd832",
   "metadata": {},
   "source": [
    "Calculo el porcentaje de textos que contienen a sus títulos."
   ]
  },
  {
   "cell_type": "code",
   "execution_count": 9,
   "id": "957a7812",
   "metadata": {},
   "outputs": [
    {
     "data": {
      "text/plain": [
       "False    0.664038\n",
       "True     0.335962\n",
       "Name: contiene, dtype: float64"
      ]
     },
     "execution_count": 9,
     "metadata": {},
     "output_type": "execute_result"
    }
   ],
   "source": [
    "promedio = archivo['contiene'].value_counts(normalize = True)\n",
    "promedio"
   ]
  },
  {
   "cell_type": "code",
   "execution_count": 10,
   "id": "3793deda",
   "metadata": {},
   "outputs": [],
   "source": [
    "promedio.to_list()\n",
    "promedio_buscado = promedio[1]*100"
   ]
  },
  {
   "cell_type": "markdown",
   "id": "3558dcbd",
   "metadata": {},
   "source": [
    "### Resultado"
   ]
  },
  {
   "cell_type": "code",
   "execution_count": 11,
   "id": "4b309207",
   "metadata": {},
   "outputs": [
    {
     "name": "stdout",
     "output_type": "stream",
     "text": [
      "El porcentaje de los contenidos contienen a su mismo título en el texto es:  33.59615114686337 %\n"
     ]
    }
   ],
   "source": [
    "print (\"El porcentaje de los contenidos contienen a su mismo título en el texto es: \", promedio_buscado, \"%\")"
   ]
  }
 ],
 "metadata": {
  "kernelspec": {
   "display_name": "Python 3",
   "language": "python",
   "name": "python3"
  },
  "language_info": {
   "codemirror_mode": {
    "name": "ipython",
    "version": 3
   },
   "file_extension": ".py",
   "mimetype": "text/x-python",
   "name": "python",
   "nbconvert_exporter": "python",
   "pygments_lexer": "ipython3",
   "version": "3.8.8"
  }
 },
 "nbformat": 4,
 "nbformat_minor": 5
}
