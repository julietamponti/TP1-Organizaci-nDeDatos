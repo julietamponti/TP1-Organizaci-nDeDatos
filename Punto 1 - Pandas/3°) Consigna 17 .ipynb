{
 "cells": [
  {
   "cell_type": "markdown",
   "id": "fb965f4c",
   "metadata": {},
   "source": [
    "### Consigna: Utilice los textos del contenido para realizar consultas por texto utilizando las técnicas vistas en la clase de NLP (BOW o TF-IDF) de modo que la query \"retablo iglesia\" devuelva alguna página acerca del retablo de alguna iglesia (⭐⭐)"
   ]
  },
  {
   "cell_type": "markdown",
   "id": "2959594e",
   "metadata": {},
   "source": [
    "Importo las librerias que utilizaré para resolver el ejercicio."
   ]
  },
  {
   "cell_type": "code",
   "execution_count": 1,
   "id": "07aedf38",
   "metadata": {},
   "outputs": [],
   "source": [
    "import pandas as pd\n",
    "import nltk\n",
    "from sklearn.feature_extraction.text import CountVectorizer, TfidfVectorizer\n",
    "from sklearn.neighbors import NearestNeighbors\n",
    "from nltk.corpus import stopwords\n",
    "import numpy as np"
   ]
  },
  {
   "cell_type": "code",
   "execution_count": 3,
   "id": "d2f75b85",
   "metadata": {},
   "outputs": [
    {
     "data": {
      "text/html": [
       "<div>\n",
       "<style scoped>\n",
       "    .dataframe tbody tr th:only-of-type {\n",
       "        vertical-align: middle;\n",
       "    }\n",
       "\n",
       "    .dataframe tbody tr th {\n",
       "        vertical-align: top;\n",
       "    }\n",
       "\n",
       "    .dataframe thead th {\n",
       "        text-align: right;\n",
       "    }\n",
       "</style>\n",
       "<table border=\"1\" class=\"dataframe\">\n",
       "  <thead>\n",
       "    <tr style=\"text-align: right;\">\n",
       "      <th></th>\n",
       "      <th>id</th>\n",
       "      <th>title</th>\n",
       "      <th>text</th>\n",
       "    </tr>\n",
       "  </thead>\n",
       "  <tbody>\n",
       "    <tr>\n",
       "      <th>0</th>\n",
       "      <td>50</td>\n",
       "      <td>Anacardiaceae</td>\n",
       "      <td>{{Ficha de taxón\\n| name = Anacardiáceas\\n| im...</td>\n",
       "    </tr>\n",
       "    <tr>\n",
       "      <th>1</th>\n",
       "      <td>62</td>\n",
       "      <td>Antipartícula</td>\n",
       "      <td>[[Archivo:Materia antimateria.png|thumb|200px|...</td>\n",
       "    </tr>\n",
       "    <tr>\n",
       "      <th>2</th>\n",
       "      <td>78</td>\n",
       "      <td>Año bisiesto</td>\n",
       "      <td>'''Año bisiesto''' es una expresión que deriva...</td>\n",
       "    </tr>\n",
       "    <tr>\n",
       "      <th>3</th>\n",
       "      <td>127</td>\n",
       "      <td>Avena</td>\n",
       "      <td>{{otros usos|Avena sativa|la avena común}}\\n{{...</td>\n",
       "    </tr>\n",
       "  </tbody>\n",
       "</table>\n",
       "</div>"
      ],
      "text/plain": [
       "    id          title                                               text\n",
       "0   50  Anacardiaceae  {{Ficha de taxón\\n| name = Anacardiáceas\\n| im...\n",
       "1   62  Antipartícula  [[Archivo:Materia antimateria.png|thumb|200px|...\n",
       "2   78   Año bisiesto  '''Año bisiesto''' es una expresión que deriva...\n",
       "3  127          Avena  {{otros usos|Avena sativa|la avena común}}\\n{{..."
      ]
     },
     "execution_count": 3,
     "metadata": {},
     "output_type": "execute_result"
    }
   ],
   "source": [
    "#Leere solo las columnas que me interesan para no ocupar espacio demas en la RAM\n",
    "pages = pd.read_csv('contents_text_sample.csv')\n",
    "pages.head(4)"
   ]
  },
  {
   "cell_type": "code",
   "execution_count": 4,
   "id": "e9261a28",
   "metadata": {},
   "outputs": [
    {
     "name": "stdout",
     "output_type": "stream",
     "text": [
      "<class 'pandas.core.frame.DataFrame'>\n",
      "RangeIndex: 206607 entries, 0 to 206606\n",
      "Data columns (total 3 columns):\n",
      " #   Column  Non-Null Count   Dtype \n",
      "---  ------  --------------   ----- \n",
      " 0   id      206607 non-null  int64 \n",
      " 1   title   206607 non-null  object\n",
      " 2   text    206600 non-null  object\n",
      "dtypes: int64(1), object(2)\n",
      "memory usage: 4.7+ MB\n"
     ]
    }
   ],
   "source": [
    "pages.info()"
   ]
  },
  {
   "cell_type": "code",
   "execution_count": 5,
   "id": "d1bd1861",
   "metadata": {},
   "outputs": [
    {
     "data": {
      "text/plain": [
       "id       0\n",
       "title    0\n",
       "text     7\n",
       "dtype: int64"
      ]
     },
     "execution_count": 5,
     "metadata": {},
     "output_type": "execute_result"
    }
   ],
   "source": [
    "pages.isnull().sum()"
   ]
  },
  {
   "cell_type": "code",
   "execution_count": 6,
   "id": "c43dbdb0",
   "metadata": {},
   "outputs": [],
   "source": [
    "pages.fillna('Desconocido',inplace=True)"
   ]
  },
  {
   "cell_type": "code",
   "execution_count": 7,
   "id": "c85330ed",
   "metadata": {
    "scrolled": true
   },
   "outputs": [
    {
     "name": "stdout",
     "output_type": "stream",
     "text": [
      "<class 'pandas.core.frame.DataFrame'>\n",
      "RangeIndex: 206607 entries, 0 to 206606\n",
      "Data columns (total 3 columns):\n",
      " #   Column  Non-Null Count   Dtype \n",
      "---  ------  --------------   ----- \n",
      " 0   id      206607 non-null  int64 \n",
      " 1   title   206607 non-null  object\n",
      " 2   text    206607 non-null  object\n",
      "dtypes: int64(1), object(2)\n",
      "memory usage: 4.7+ MB\n"
     ]
    }
   ],
   "source": [
    "pages.info()"
   ]
  },
  {
   "cell_type": "markdown",
   "id": "8a06d089",
   "metadata": {},
   "source": [
    "El dataFrame ya esta en optimas condiciones para ser utilizado"
   ]
  },
  {
   "cell_type": "code",
   "execution_count": 8,
   "id": "97bf0434",
   "metadata": {},
   "outputs": [],
   "source": [
    "#guardo en una variable las stop_words españolas para trabajar con ellas\n",
    "stop_words = nltk.corpus.stopwords.words('spanish')\n",
    "#stop_words"
   ]
  },
  {
   "cell_type": "code",
   "execution_count": 9,
   "id": "00abc331",
   "metadata": {},
   "outputs": [],
   "source": [
    "#creo el objeto Vectorizer para buscar las palabras requeridas en los textos\n",
    "vectorizer = TfidfVectorizer(lowercase=True,stop_words=stop_words,\n",
    "                            max_features=10000)"
   ]
  },
  {
   "cell_type": "code",
   "execution_count": 10,
   "id": "963bae98",
   "metadata": {},
   "outputs": [],
   "source": [
    "matrix = vectorizer.fit_transform(pages['text'])"
   ]
  },
  {
   "cell_type": "code",
   "execution_count": 11,
   "id": "5764e1c9",
   "metadata": {},
   "outputs": [
    {
     "data": {
      "text/plain": [
       "<206607x10000 sparse matrix of type '<class 'numpy.float64'>'\n",
       "\twith 18077731 stored elements in Compressed Sparse Row format>"
      ]
     },
     "execution_count": 11,
     "metadata": {},
     "output_type": "execute_result"
    }
   ],
   "source": [
    "matrix"
   ]
  },
  {
   "cell_type": "code",
   "execution_count": 12,
   "id": "50ef02ed",
   "metadata": {},
   "outputs": [
    {
     "data": {
      "text/plain": [
       "NearestNeighbors(algorithm='brute', metric='cosine')"
      ]
     },
     "execution_count": 12,
     "metadata": {},
     "output_type": "execute_result"
    }
   ],
   "source": [
    "#Utilizo el NearestNeighbors para buscar una pagina cercana al retablo de una iglesia\n",
    "buscador = NearestNeighbors(algorithm='brute', metric='cosine')\n",
    "buscador.fit(matrix)"
   ]
  },
  {
   "cell_type": "code",
   "execution_count": 15,
   "id": "11d021ab",
   "metadata": {},
   "outputs": [],
   "source": [
    "query = 'retablo iglesia'\n",
    "vector = vectorizer.transform([query])\n",
    "dist, indexes = buscador.kneighbors(vector, n_neighbors=10)\n",
    "#for d, i in zip(dist.flatten(), indexes.flatten()):\n",
    "#    print(\"A distancia %f el texto: %s\" % (d,pages['text'].iloc[i]))"
   ]
  },
  {
   "cell_type": "code",
   "execution_count": 16,
   "id": "1a80c0d7",
   "metadata": {},
   "outputs": [
    {
     "data": {
      "text/plain": [
       "array([[0.16444022, 0.1876069 , 0.1876069 , 0.22564526, 0.27368076,\n",
       "        0.35781112, 0.44783359, 0.44783518, 0.46733587, 0.50242265]])"
      ]
     },
     "execution_count": 16,
     "metadata": {},
     "output_type": "execute_result"
    }
   ],
   "source": [
    "dist"
   ]
  },
  {
   "cell_type": "code",
   "execution_count": 17,
   "id": "abfd7eb4",
   "metadata": {},
   "outputs": [
    {
     "data": {
      "text/plain": [
       "array([[193679, 132997,   5074, 114864,  50461, 140413, 176055,  82465,\n",
       "          6006, 130864]], dtype=int64)"
      ]
     },
     "execution_count": 17,
     "metadata": {},
     "output_type": "execute_result"
    }
   ],
   "source": [
    "indexes"
   ]
  },
  {
   "cell_type": "markdown",
   "id": "a3733af3",
   "metadata": {},
   "source": [
    "### Resultado"
   ]
  },
  {
   "cell_type": "markdown",
   "id": "111d343e",
   "metadata": {},
   "source": [
    "El resultado obtenido finalmente es el siguiente:"
   ]
  },
  {
   "cell_type": "code",
   "execution_count": 18,
   "id": "5fead37a",
   "metadata": {},
   "outputs": [
    {
     "data": {
      "text/plain": [
       "id                                                 9357972\n",
       "title    Retablo mayor de la iglesia de san millan de l...\n",
       "text     #REDIRECCIÓN [[Retablo mayor de la iglesia de ...\n",
       "Name: 193679, dtype: object"
      ]
     },
     "execution_count": 18,
     "metadata": {},
     "output_type": "execute_result"
    }
   ],
   "source": [
    "pages.iloc[indexes[0][0]]"
   ]
  },
  {
   "cell_type": "code",
   "execution_count": null,
   "id": "7fabf0b5",
   "metadata": {},
   "outputs": [],
   "source": []
  }
 ],
 "metadata": {
  "kernelspec": {
   "display_name": "Python 3",
   "language": "python",
   "name": "python3"
  },
  "language_info": {
   "codemirror_mode": {
    "name": "ipython",
    "version": 3
   },
   "file_extension": ".py",
   "mimetype": "text/x-python",
   "name": "python",
   "nbconvert_exporter": "python",
   "pygments_lexer": "ipython3",
   "version": "3.8.8"
  }
 },
 "nbformat": 4,
 "nbformat_minor": 5
}
