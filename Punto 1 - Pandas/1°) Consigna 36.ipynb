{
 "cells": [
  {
   "cell_type": "markdown",
   "id": "99d989ef-bc31-4ed3-9d40-1dddddd3dd68",
   "metadata": {},
   "source": [
    "### Consigna: Quien es el usuario que más idiomas domina con un nivel de 2 o superior  (⭐)"
   ]
  },
  {
   "cell_type": "markdown",
   "id": "988ab473",
   "metadata": {},
   "source": [
    "#### Importo la libreria pandas que utilizare a lo largo del desarrollo del ejercicio."
   ]
  },
  {
   "cell_type": "code",
   "execution_count": 1,
   "id": "0936bcad-c61b-4b05-b62c-d71797d01949",
   "metadata": {},
   "outputs": [],
   "source": [
    "import pandas as pd"
   ]
  },
  {
   "cell_type": "markdown",
   "id": "95b0cdc7",
   "metadata": {},
   "source": [
    "Leo el archivo del cual extraeré información. "
   ]
  },
  {
   "cell_type": "code",
   "execution_count": 2,
   "id": "b05feb4b",
   "metadata": {},
   "outputs": [
    {
     "data": {
      "text/html": [
       "<div>\n",
       "<style scoped>\n",
       "    .dataframe tbody tr th:only-of-type {\n",
       "        vertical-align: middle;\n",
       "    }\n",
       "\n",
       "    .dataframe tbody tr th {\n",
       "        vertical-align: top;\n",
       "    }\n",
       "\n",
       "    .dataframe thead th {\n",
       "        text-align: right;\n",
       "    }\n",
       "</style>\n",
       "<table border=\"1\" class=\"dataframe\">\n",
       "  <thead>\n",
       "    <tr style=\"text-align: right;\">\n",
       "      <th></th>\n",
       "      <th>babel_user</th>\n",
       "      <th>babel_lang</th>\n",
       "      <th>babel_level</th>\n",
       "    </tr>\n",
       "  </thead>\n",
       "  <tbody>\n",
       "    <tr>\n",
       "      <th>0</th>\n",
       "      <td>4502458</td>\n",
       "      <td>FR</td>\n",
       "      <td>2</td>\n",
       "    </tr>\n",
       "    <tr>\n",
       "      <th>1</th>\n",
       "      <td>5928200</td>\n",
       "      <td>aa</td>\n",
       "      <td>0</td>\n",
       "    </tr>\n",
       "    <tr>\n",
       "      <th>2</th>\n",
       "      <td>46918</td>\n",
       "      <td>ab</td>\n",
       "      <td>0</td>\n",
       "    </tr>\n",
       "    <tr>\n",
       "      <th>3</th>\n",
       "      <td>2050449</td>\n",
       "      <td>ab</td>\n",
       "      <td>1</td>\n",
       "    </tr>\n",
       "    <tr>\n",
       "      <th>4</th>\n",
       "      <td>4715583</td>\n",
       "      <td>ace</td>\n",
       "      <td>0</td>\n",
       "    </tr>\n",
       "    <tr>\n",
       "      <th>...</th>\n",
       "      <td>...</td>\n",
       "      <td>...</td>\n",
       "      <td>...</td>\n",
       "    </tr>\n",
       "    <tr>\n",
       "      <th>35661</th>\n",
       "      <td>2089885</td>\n",
       "      <td>zh-Hant-HK</td>\n",
       "      <td>1</td>\n",
       "    </tr>\n",
       "    <tr>\n",
       "      <th>35662</th>\n",
       "      <td>2089885</td>\n",
       "      <td>zh-Hant-TW</td>\n",
       "      <td>3</td>\n",
       "    </tr>\n",
       "    <tr>\n",
       "      <th>35663</th>\n",
       "      <td>5036533</td>\n",
       "      <td>zu</td>\n",
       "      <td>0</td>\n",
       "    </tr>\n",
       "    <tr>\n",
       "      <th>35664</th>\n",
       "      <td>5928200</td>\n",
       "      <td>zu</td>\n",
       "      <td>0</td>\n",
       "    </tr>\n",
       "    <tr>\n",
       "      <th>35665</th>\n",
       "      <td>87482</td>\n",
       "      <td>zza</td>\n",
       "      <td>N</td>\n",
       "    </tr>\n",
       "  </tbody>\n",
       "</table>\n",
       "<p>35666 rows × 3 columns</p>\n",
       "</div>"
      ],
      "text/plain": [
       "       babel_user  babel_lang babel_level\n",
       "0         4502458          FR           2\n",
       "1         5928200          aa           0\n",
       "2           46918          ab           0\n",
       "3         2050449          ab           1\n",
       "4         4715583         ace           0\n",
       "...           ...         ...         ...\n",
       "35661     2089885  zh-Hant-HK           1\n",
       "35662     2089885  zh-Hant-TW           3\n",
       "35663     5036533          zu           0\n",
       "35664     5928200          zu           0\n",
       "35665       87482         zza           N\n",
       "\n",
       "[35666 rows x 3 columns]"
      ]
     },
     "execution_count": 2,
     "metadata": {},
     "output_type": "execute_result"
    }
   ],
   "source": [
    "languages = pd.read_csv(\"languages.csv\")\n",
    "languages"
   ]
  },
  {
   "cell_type": "code",
   "execution_count": 3,
   "id": "385683a1",
   "metadata": {},
   "outputs": [
    {
     "name": "stdout",
     "output_type": "stream",
     "text": [
      "<class 'pandas.core.frame.DataFrame'>\n",
      "RangeIndex: 35666 entries, 0 to 35665\n",
      "Data columns (total 3 columns):\n",
      " #   Column       Non-Null Count  Dtype \n",
      "---  ------       --------------  ----- \n",
      " 0   babel_user   35666 non-null  int64 \n",
      " 1   babel_lang   35662 non-null  object\n",
      " 2   babel_level  35666 non-null  object\n",
      "dtypes: int64(1), object(2)\n",
      "memory usage: 836.0+ KB\n"
     ]
    }
   ],
   "source": [
    "languages.info()"
   ]
  },
  {
   "cell_type": "markdown",
   "id": "3bc79970-c60d-4e3f-acf6-bfb56ed26b9a",
   "metadata": {},
   "source": [
    "Como la cantidad de Count en la serie babel_lang es menor a las de las otras dos series, significa que en ella hay datos nulos que debo filtrar"
   ]
  },
  {
   "cell_type": "code",
   "execution_count": 4,
   "id": "89a1dbab",
   "metadata": {},
   "outputs": [
    {
     "data": {
      "text/plain": [
       "babel_user     0\n",
       "babel_lang     4\n",
       "babel_level    0\n",
       "dtype: int64"
      ]
     },
     "execution_count": 4,
     "metadata": {},
     "output_type": "execute_result"
    }
   ],
   "source": [
    "#Verifico si mi DataFrame tiene nulos\n",
    "languages.isnull().sum()"
   ]
  },
  {
   "cell_type": "code",
   "execution_count": 5,
   "id": "df353689",
   "metadata": {},
   "outputs": [],
   "source": [
    "#Elimino los lunes del dataFrame\n",
    "languages.dropna(inplace=True)"
   ]
  },
  {
   "cell_type": "code",
   "execution_count": 6,
   "id": "29d35826-01ec-4607-8469-e5d02df44b0b",
   "metadata": {},
   "outputs": [
    {
     "data": {
      "text/plain": [
       "babel_user     0\n",
       "babel_lang     0\n",
       "babel_level    0\n",
       "dtype: int64"
      ]
     },
     "execution_count": 6,
     "metadata": {},
     "output_type": "execute_result"
    }
   ],
   "source": [
    "#Verifico que se hayan eliminado los nuloes de mi dataFrame\n",
    "languages.isnull().sum()"
   ]
  },
  {
   "cell_type": "code",
   "execution_count": 7,
   "id": "42d08a40",
   "metadata": {},
   "outputs": [
    {
     "data": {
      "text/plain": [
       "babel_user     35662\n",
       "babel_lang     35662\n",
       "babel_level    35662\n",
       "dtype: int64"
      ]
     },
     "execution_count": 7,
     "metadata": {},
     "output_type": "execute_result"
    }
   ],
   "source": [
    "languages.count()"
   ]
  },
  {
   "cell_type": "code",
   "execution_count": 8,
   "id": "72eda5cd",
   "metadata": {},
   "outputs": [
    {
     "data": {
      "text/plain": [
       "babel_user     35662\n",
       "babel_lang     35662\n",
       "babel_level    35662\n",
       "dtype: int64"
      ]
     },
     "execution_count": 8,
     "metadata": {},
     "output_type": "execute_result"
    }
   ],
   "source": [
    "languages.drop_duplicates()\n",
    "languages.count()"
   ]
  },
  {
   "cell_type": "code",
   "execution_count": 9,
   "id": "82669c31",
   "metadata": {},
   "outputs": [
    {
     "data": {
      "text/html": [
       "<div>\n",
       "<style scoped>\n",
       "    .dataframe tbody tr th:only-of-type {\n",
       "        vertical-align: middle;\n",
       "    }\n",
       "\n",
       "    .dataframe tbody tr th {\n",
       "        vertical-align: top;\n",
       "    }\n",
       "\n",
       "    .dataframe thead th {\n",
       "        text-align: right;\n",
       "    }\n",
       "</style>\n",
       "<table border=\"1\" class=\"dataframe\">\n",
       "  <thead>\n",
       "    <tr style=\"text-align: right;\">\n",
       "      <th></th>\n",
       "      <th>babel_user</th>\n",
       "      <th>babel_lang</th>\n",
       "      <th>babel_level</th>\n",
       "    </tr>\n",
       "  </thead>\n",
       "  <tbody>\n",
       "    <tr>\n",
       "      <th>0</th>\n",
       "      <td>4502458</td>\n",
       "      <td>FR</td>\n",
       "      <td>2</td>\n",
       "    </tr>\n",
       "    <tr>\n",
       "      <th>1</th>\n",
       "      <td>5928200</td>\n",
       "      <td>aa</td>\n",
       "      <td>0</td>\n",
       "    </tr>\n",
       "    <tr>\n",
       "      <th>2</th>\n",
       "      <td>46918</td>\n",
       "      <td>ab</td>\n",
       "      <td>0</td>\n",
       "    </tr>\n",
       "    <tr>\n",
       "      <th>3</th>\n",
       "      <td>2050449</td>\n",
       "      <td>ab</td>\n",
       "      <td>1</td>\n",
       "    </tr>\n",
       "    <tr>\n",
       "      <th>4</th>\n",
       "      <td>4715583</td>\n",
       "      <td>ace</td>\n",
       "      <td>0</td>\n",
       "    </tr>\n",
       "    <tr>\n",
       "      <th>...</th>\n",
       "      <td>...</td>\n",
       "      <td>...</td>\n",
       "      <td>...</td>\n",
       "    </tr>\n",
       "    <tr>\n",
       "      <th>35661</th>\n",
       "      <td>2089885</td>\n",
       "      <td>zh-Hant-HK</td>\n",
       "      <td>1</td>\n",
       "    </tr>\n",
       "    <tr>\n",
       "      <th>35662</th>\n",
       "      <td>2089885</td>\n",
       "      <td>zh-Hant-TW</td>\n",
       "      <td>3</td>\n",
       "    </tr>\n",
       "    <tr>\n",
       "      <th>35663</th>\n",
       "      <td>5036533</td>\n",
       "      <td>zu</td>\n",
       "      <td>0</td>\n",
       "    </tr>\n",
       "    <tr>\n",
       "      <th>35664</th>\n",
       "      <td>5928200</td>\n",
       "      <td>zu</td>\n",
       "      <td>0</td>\n",
       "    </tr>\n",
       "    <tr>\n",
       "      <th>35665</th>\n",
       "      <td>87482</td>\n",
       "      <td>zza</td>\n",
       "      <td>10</td>\n",
       "    </tr>\n",
       "  </tbody>\n",
       "</table>\n",
       "<p>35662 rows × 3 columns</p>\n",
       "</div>"
      ],
      "text/plain": [
       "       babel_user  babel_lang babel_level\n",
       "0         4502458          FR           2\n",
       "1         5928200          aa           0\n",
       "2           46918          ab           0\n",
       "3         2050449          ab           1\n",
       "4         4715583         ace           0\n",
       "...           ...         ...         ...\n",
       "35661     2089885  zh-Hant-HK           1\n",
       "35662     2089885  zh-Hant-TW           3\n",
       "35663     5036533          zu           0\n",
       "35664     5928200          zu           0\n",
       "35665       87482         zza          10\n",
       "\n",
       "[35662 rows x 3 columns]"
      ]
     },
     "execution_count": 9,
     "metadata": {},
     "output_type": "execute_result"
    }
   ],
   "source": [
    "#tengo que reemplazar la N por un numero con el replace, para luego poder castear a int.\n",
    "languages = languages.replace('N', '10')\n",
    "languages"
   ]
  },
  {
   "cell_type": "code",
   "execution_count": 10,
   "id": "f697b775-d07a-44c2-9dd3-026bb9c9c4cc",
   "metadata": {},
   "outputs": [
    {
     "data": {
      "text/html": [
       "<div>\n",
       "<style scoped>\n",
       "    .dataframe tbody tr th:only-of-type {\n",
       "        vertical-align: middle;\n",
       "    }\n",
       "\n",
       "    .dataframe tbody tr th {\n",
       "        vertical-align: top;\n",
       "    }\n",
       "\n",
       "    .dataframe thead th {\n",
       "        text-align: right;\n",
       "    }\n",
       "</style>\n",
       "<table border=\"1\" class=\"dataframe\">\n",
       "  <thead>\n",
       "    <tr style=\"text-align: right;\">\n",
       "      <th></th>\n",
       "      <th>babel_user</th>\n",
       "      <th>babel_lang</th>\n",
       "      <th>babel_level</th>\n",
       "    </tr>\n",
       "  </thead>\n",
       "  <tbody>\n",
       "    <tr>\n",
       "      <th>0</th>\n",
       "      <td>4502458</td>\n",
       "      <td>FR</td>\n",
       "      <td>2</td>\n",
       "    </tr>\n",
       "    <tr>\n",
       "      <th>1</th>\n",
       "      <td>5928200</td>\n",
       "      <td>aa</td>\n",
       "      <td>0</td>\n",
       "    </tr>\n",
       "    <tr>\n",
       "      <th>2</th>\n",
       "      <td>46918</td>\n",
       "      <td>ab</td>\n",
       "      <td>0</td>\n",
       "    </tr>\n",
       "    <tr>\n",
       "      <th>3</th>\n",
       "      <td>2050449</td>\n",
       "      <td>ab</td>\n",
       "      <td>1</td>\n",
       "    </tr>\n",
       "    <tr>\n",
       "      <th>4</th>\n",
       "      <td>4715583</td>\n",
       "      <td>ace</td>\n",
       "      <td>0</td>\n",
       "    </tr>\n",
       "    <tr>\n",
       "      <th>...</th>\n",
       "      <td>...</td>\n",
       "      <td>...</td>\n",
       "      <td>...</td>\n",
       "    </tr>\n",
       "    <tr>\n",
       "      <th>35661</th>\n",
       "      <td>2089885</td>\n",
       "      <td>zh-Hant-HK</td>\n",
       "      <td>1</td>\n",
       "    </tr>\n",
       "    <tr>\n",
       "      <th>35662</th>\n",
       "      <td>2089885</td>\n",
       "      <td>zh-Hant-TW</td>\n",
       "      <td>3</td>\n",
       "    </tr>\n",
       "    <tr>\n",
       "      <th>35663</th>\n",
       "      <td>5036533</td>\n",
       "      <td>zu</td>\n",
       "      <td>0</td>\n",
       "    </tr>\n",
       "    <tr>\n",
       "      <th>35664</th>\n",
       "      <td>5928200</td>\n",
       "      <td>zu</td>\n",
       "      <td>0</td>\n",
       "    </tr>\n",
       "    <tr>\n",
       "      <th>35665</th>\n",
       "      <td>87482</td>\n",
       "      <td>zza</td>\n",
       "      <td>10</td>\n",
       "    </tr>\n",
       "  </tbody>\n",
       "</table>\n",
       "<p>35662 rows × 3 columns</p>\n",
       "</div>"
      ],
      "text/plain": [
       "       babel_user  babel_lang  babel_level\n",
       "0         4502458          FR            2\n",
       "1         5928200          aa            0\n",
       "2           46918          ab            0\n",
       "3         2050449          ab            1\n",
       "4         4715583         ace            0\n",
       "...           ...         ...          ...\n",
       "35661     2089885  zh-Hant-HK            1\n",
       "35662     2089885  zh-Hant-TW            3\n",
       "35663     5036533          zu            0\n",
       "35664     5928200          zu            0\n",
       "35665       87482         zza           10\n",
       "\n",
       "[35662 rows x 3 columns]"
      ]
     },
     "execution_count": 10,
     "metadata": {},
     "output_type": "execute_result"
    }
   ],
   "source": [
    "#casteo la columna de nivel de idioma a int para luego lograr filtrar aquellos que tengan menor nivel al establecido\n",
    "languages_casteado = languages.astype({'babel_level': 'int32'})\n",
    "languages_casteado"
   ]
  },
  {
   "cell_type": "code",
   "execution_count": 11,
   "id": "ea94c53a",
   "metadata": {},
   "outputs": [
    {
     "data": {
      "text/plain": [
       "babel_user      int64\n",
       "babel_lang     object\n",
       "babel_level     int32\n",
       "dtype: object"
      ]
     },
     "execution_count": 11,
     "metadata": {},
     "output_type": "execute_result"
    }
   ],
   "source": [
    "languages_casteado.dtypes"
   ]
  },
  {
   "cell_type": "code",
   "execution_count": 12,
   "id": "60d1c4c6-e0e2-4dd3-b639-308485d4dde0",
   "metadata": {},
   "outputs": [
    {
     "data": {
      "text/plain": [
       "0         True\n",
       "1        False\n",
       "2        False\n",
       "3        False\n",
       "4        False\n",
       "         ...  \n",
       "35661    False\n",
       "35662     True\n",
       "35663    False\n",
       "35664    False\n",
       "35665     True\n",
       "Name: babel_level, Length: 35662, dtype: bool"
      ]
     },
     "execution_count": 12,
     "metadata": {},
     "output_type": "execute_result"
    }
   ],
   "source": [
    "#genero el filtro para aquellos que tengan menor nivel al establecido\n",
    "filtro_level = languages_casteado['babel_level']>=2\n",
    "filtro_level"
   ]
  },
  {
   "cell_type": "code",
   "execution_count": 13,
   "id": "867fe22f",
   "metadata": {},
   "outputs": [
    {
     "data": {
      "text/html": [
       "<div>\n",
       "<style scoped>\n",
       "    .dataframe tbody tr th:only-of-type {\n",
       "        vertical-align: middle;\n",
       "    }\n",
       "\n",
       "    .dataframe tbody tr th {\n",
       "        vertical-align: top;\n",
       "    }\n",
       "\n",
       "    .dataframe thead th {\n",
       "        text-align: right;\n",
       "    }\n",
       "</style>\n",
       "<table border=\"1\" class=\"dataframe\">\n",
       "  <thead>\n",
       "    <tr style=\"text-align: right;\">\n",
       "      <th></th>\n",
       "      <th>babel_user</th>\n",
       "      <th>babel_lang</th>\n",
       "      <th>babel_level</th>\n",
       "    </tr>\n",
       "  </thead>\n",
       "  <tbody>\n",
       "    <tr>\n",
       "      <th>0</th>\n",
       "      <td>4502458</td>\n",
       "      <td>FR</td>\n",
       "      <td>2</td>\n",
       "    </tr>\n",
       "    <tr>\n",
       "      <th>14</th>\n",
       "      <td>188693</td>\n",
       "      <td>af</td>\n",
       "      <td>2</td>\n",
       "    </tr>\n",
       "    <tr>\n",
       "      <th>15</th>\n",
       "      <td>2766138</td>\n",
       "      <td>af</td>\n",
       "      <td>2</td>\n",
       "    </tr>\n",
       "    <tr>\n",
       "      <th>16</th>\n",
       "      <td>832026</td>\n",
       "      <td>af</td>\n",
       "      <td>3</td>\n",
       "    </tr>\n",
       "    <tr>\n",
       "      <th>17</th>\n",
       "      <td>842951</td>\n",
       "      <td>af</td>\n",
       "      <td>4</td>\n",
       "    </tr>\n",
       "    <tr>\n",
       "      <th>...</th>\n",
       "      <td>...</td>\n",
       "      <td>...</td>\n",
       "      <td>...</td>\n",
       "    </tr>\n",
       "    <tr>\n",
       "      <th>35658</th>\n",
       "      <td>5561040</td>\n",
       "      <td>zh-Hans-CN</td>\n",
       "      <td>10</td>\n",
       "    </tr>\n",
       "    <tr>\n",
       "      <th>35659</th>\n",
       "      <td>5915818</td>\n",
       "      <td>zh-Hans-CN</td>\n",
       "      <td>10</td>\n",
       "    </tr>\n",
       "    <tr>\n",
       "      <th>35660</th>\n",
       "      <td>2089885</td>\n",
       "      <td>zh-Hant</td>\n",
       "      <td>4</td>\n",
       "    </tr>\n",
       "    <tr>\n",
       "      <th>35662</th>\n",
       "      <td>2089885</td>\n",
       "      <td>zh-Hant-TW</td>\n",
       "      <td>3</td>\n",
       "    </tr>\n",
       "    <tr>\n",
       "      <th>35665</th>\n",
       "      <td>87482</td>\n",
       "      <td>zza</td>\n",
       "      <td>10</td>\n",
       "    </tr>\n",
       "  </tbody>\n",
       "</table>\n",
       "<p>26983 rows × 3 columns</p>\n",
       "</div>"
      ],
      "text/plain": [
       "       babel_user  babel_lang  babel_level\n",
       "0         4502458          FR            2\n",
       "14         188693          af            2\n",
       "15        2766138          af            2\n",
       "16         832026          af            3\n",
       "17         842951          af            4\n",
       "...           ...         ...          ...\n",
       "35658     5561040  zh-Hans-CN           10\n",
       "35659     5915818  zh-Hans-CN           10\n",
       "35660     2089885     zh-Hant            4\n",
       "35662     2089885  zh-Hant-TW            3\n",
       "35665       87482         zza           10\n",
       "\n",
       "[26983 rows x 3 columns]"
      ]
     },
     "execution_count": 13,
     "metadata": {},
     "output_type": "execute_result"
    }
   ],
   "source": [
    "#Aplico el filtro para solo trabajar con las personas que cumplen los requisitos\n",
    "pasanFiltro = languages_casteado[filtro_level]\n",
    "pasanFiltro"
   ]
  },
  {
   "cell_type": "code",
   "execution_count": 14,
   "id": "d21bb36c",
   "metadata": {},
   "outputs": [
    {
     "data": {
      "text/plain": [
       "10    11533\n",
       "2      6452\n",
       "3      5850\n",
       "4      2504\n",
       "5       644\n",
       "Name: babel_level, dtype: int64"
      ]
     },
     "execution_count": 14,
     "metadata": {},
     "output_type": "execute_result"
    }
   ],
   "source": [
    "pasanFiltro['babel_level'].value_counts()"
   ]
  },
  {
   "cell_type": "code",
   "execution_count": 15,
   "id": "61cc43ab-0a50-4a34-8eb1-8eb20b743da6",
   "metadata": {},
   "outputs": [
    {
     "data": {
      "text/plain": [
       "3276151    29\n",
       "5928200    21\n",
       "5865698    17\n",
       "1286925    15\n",
       "4339332    15\n",
       "           ..\n",
       "1805973     1\n",
       "1323858     1\n",
       "4782835     1\n",
       "188031      1\n",
       "3598927     1\n",
       "Name: babel_user, Length: 10780, dtype: int64"
      ]
     },
     "execution_count": 15,
     "metadata": {},
     "output_type": "execute_result"
    }
   ],
   "source": [
    "pasanFiltro['babel_user'].value_counts()"
   ]
  },
  {
   "cell_type": "code",
   "execution_count": 16,
   "id": "a25e6a8c",
   "metadata": {},
   "outputs": [
    {
     "data": {
      "text/plain": [
       "3276151"
      ]
     },
     "execution_count": 16,
     "metadata": {},
     "output_type": "execute_result"
    }
   ],
   "source": [
    "usuarioBuscado = pasanFiltro['babel_user'].value_counts().index[0]\n",
    "usuarioBuscado"
   ]
  },
  {
   "cell_type": "markdown",
   "id": "4030fed1",
   "metadata": {},
   "source": [
    "### Resultado"
   ]
  },
  {
   "cell_type": "code",
   "execution_count": 17,
   "id": "e615992b",
   "metadata": {},
   "outputs": [
    {
     "name": "stdout",
     "output_type": "stream",
     "text": [
      "El usuario que más idiomas domina con un nivel de 2 o superior es:  3276151\n"
     ]
    }
   ],
   "source": [
    "print (\"El usuario que más idiomas domina con un nivel de 2 o superior es: \", usuarioBuscado)"
   ]
  },
  {
   "cell_type": "code",
   "execution_count": null,
   "id": "b8f71f24",
   "metadata": {},
   "outputs": [],
   "source": []
  }
 ],
 "metadata": {
  "kernelspec": {
   "display_name": "Python 3",
   "language": "python",
   "name": "python3"
  },
  "language_info": {
   "codemirror_mode": {
    "name": "ipython",
    "version": 3
   },
   "file_extension": ".py",
   "mimetype": "text/x-python",
   "name": "python",
   "nbconvert_exporter": "python",
   "pygments_lexer": "ipython3",
   "version": "3.8.8"
  }
 },
 "nbformat": 4,
 "nbformat_minor": 5
}
