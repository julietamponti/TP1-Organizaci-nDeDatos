{
 "cells": [
  {
   "cell_type": "code",
   "execution_count": 1,
   "id": "f6747415",
   "metadata": {},
   "outputs": [],
   "source": [
    "import pandas as pd\n",
    "import numpy as np\n",
    "import seaborn as sns\n",
    "import matplotlib.pyplot as plt"
   ]
  },
  {
   "cell_type": "code",
   "execution_count": 2,
   "id": "91b77062",
   "metadata": {},
   "outputs": [],
   "source": [
    "dt= pd.read_excel('variables e indices NDEFM.xlsx',usecols=['humedad esp (g/kg)','año', 'omega (Pa/s)','indice SOI','indice SAM '])"
   ]
  },
  {
   "cell_type": "code",
   "execution_count": 3,
   "id": "a7c58140",
   "metadata": {},
   "outputs": [],
   "source": [
    "dt.rename(columns={'humedad esp (g/kg)':'humedad','omega (Pa/s)':'velocidad', 'indice SOI':'indice_oscSur', 'indice SAM ':'indice_marshall'},inplace=True)"
   ]
  },
  {
   "cell_type": "code",
   "execution_count": 4,
   "id": "f463dd9a",
   "metadata": {},
   "outputs": [
    {
     "data": {
      "text/html": [
       "<div>\n",
       "<style scoped>\n",
       "    .dataframe tbody tr th:only-of-type {\n",
       "        vertical-align: middle;\n",
       "    }\n",
       "\n",
       "    .dataframe tbody tr th {\n",
       "        vertical-align: top;\n",
       "    }\n",
       "\n",
       "    .dataframe thead th {\n",
       "        text-align: right;\n",
       "    }\n",
       "</style>\n",
       "<table border=\"1\" class=\"dataframe\">\n",
       "  <thead>\n",
       "    <tr style=\"text-align: right;\">\n",
       "      <th></th>\n",
       "      <th>año</th>\n",
       "      <th>humedad</th>\n",
       "      <th>velocidad</th>\n",
       "      <th>indice_oscSur</th>\n",
       "      <th>indice_marshall</th>\n",
       "    </tr>\n",
       "  </thead>\n",
       "  <tbody>\n",
       "    <tr>\n",
       "      <th>0</th>\n",
       "      <td>1949</td>\n",
       "      <td>8.7958</td>\n",
       "      <td>0.002598</td>\n",
       "      <td>NaN</td>\n",
       "      <td>NaN</td>\n",
       "    </tr>\n",
       "    <tr>\n",
       "      <th>1</th>\n",
       "      <td>1950</td>\n",
       "      <td>10.6268</td>\n",
       "      <td>-0.022770</td>\n",
       "      <td>NaN</td>\n",
       "      <td>NaN</td>\n",
       "    </tr>\n",
       "  </tbody>\n",
       "</table>\n",
       "</div>"
      ],
      "text/plain": [
       "    año  humedad  velocidad  indice_oscSur  indice_marshall\n",
       "0  1949   8.7958   0.002598            NaN              NaN\n",
       "1  1950  10.6268  -0.022770            NaN              NaN"
      ]
     },
     "execution_count": 4,
     "metadata": {},
     "output_type": "execute_result"
    }
   ],
   "source": [
    "dt.head(2)"
   ]
  },
  {
   "cell_type": "code",
   "execution_count": 5,
   "id": "1860195e",
   "metadata": {},
   "outputs": [],
   "source": [
    "dt.dropna(inplace=True)"
   ]
  },
  {
   "cell_type": "code",
   "execution_count": 6,
   "id": "354f18dc",
   "metadata": {},
   "outputs": [],
   "source": [
    "df = pd.read_excel(io ='Estaciones.xlsx', sheet_name=\"Anuales\",usecols=['Unnamed: 0','Unnamed: 13'])"
   ]
  },
  {
   "cell_type": "code",
   "execution_count": 7,
   "id": "6832af29",
   "metadata": {},
   "outputs": [
    {
     "data": {
      "text/html": [
       "<div>\n",
       "<style scoped>\n",
       "    .dataframe tbody tr th:only-of-type {\n",
       "        vertical-align: middle;\n",
       "    }\n",
       "\n",
       "    .dataframe tbody tr th {\n",
       "        vertical-align: top;\n",
       "    }\n",
       "\n",
       "    .dataframe thead th {\n",
       "        text-align: right;\n",
       "    }\n",
       "</style>\n",
       "<table border=\"1\" class=\"dataframe\">\n",
       "  <thead>\n",
       "    <tr style=\"text-align: right;\">\n",
       "      <th></th>\n",
       "      <th>Unnamed: 0</th>\n",
       "      <th>Unnamed: 13</th>\n",
       "    </tr>\n",
       "  </thead>\n",
       "  <tbody>\n",
       "    <tr>\n",
       "      <th>0</th>\n",
       "      <td>Año hid</td>\n",
       "      <td>San Luis Tucuman</td>\n",
       "    </tr>\n",
       "    <tr>\n",
       "      <th>1</th>\n",
       "      <td>1946</td>\n",
       "      <td>NaN</td>\n",
       "    </tr>\n",
       "    <tr>\n",
       "      <th>2</th>\n",
       "      <td>1947</td>\n",
       "      <td>NaN</td>\n",
       "    </tr>\n",
       "    <tr>\n",
       "      <th>3</th>\n",
       "      <td>1948</td>\n",
       "      <td>NaN</td>\n",
       "    </tr>\n",
       "    <tr>\n",
       "      <th>4</th>\n",
       "      <td>1949</td>\n",
       "      <td>NaN</td>\n",
       "    </tr>\n",
       "    <tr>\n",
       "      <th>...</th>\n",
       "      <td>...</td>\n",
       "      <td>...</td>\n",
       "    </tr>\n",
       "    <tr>\n",
       "      <th>56</th>\n",
       "      <td>2001</td>\n",
       "      <td>1334</td>\n",
       "    </tr>\n",
       "    <tr>\n",
       "      <th>57</th>\n",
       "      <td>2002</td>\n",
       "      <td>938</td>\n",
       "    </tr>\n",
       "    <tr>\n",
       "      <th>58</th>\n",
       "      <td>2003</td>\n",
       "      <td>849</td>\n",
       "    </tr>\n",
       "    <tr>\n",
       "      <th>59</th>\n",
       "      <td>2004</td>\n",
       "      <td>825</td>\n",
       "    </tr>\n",
       "    <tr>\n",
       "      <th>60</th>\n",
       "      <td>2005</td>\n",
       "      <td>818</td>\n",
       "    </tr>\n",
       "  </tbody>\n",
       "</table>\n",
       "<p>61 rows × 2 columns</p>\n",
       "</div>"
      ],
      "text/plain": [
       "   Unnamed: 0       Unnamed: 13\n",
       "0     Año hid  San Luis Tucuman\n",
       "1        1946               NaN\n",
       "2        1947               NaN\n",
       "3        1948               NaN\n",
       "4        1949               NaN\n",
       "..        ...               ...\n",
       "56       2001              1334\n",
       "57       2002               938\n",
       "58       2003               849\n",
       "59       2004               825\n",
       "60       2005               818\n",
       "\n",
       "[61 rows x 2 columns]"
      ]
     },
     "execution_count": 7,
     "metadata": {},
     "output_type": "execute_result"
    }
   ],
   "source": [
    "df"
   ]
  },
  {
   "cell_type": "code",
   "execution_count": 8,
   "id": "004bea8c",
   "metadata": {},
   "outputs": [],
   "source": [
    "df.rename(columns={'Unnamed: 0':'año', 'Unnamed: 13':'precipitacionAnual_sanLuis_Tucuman'},inplace=True)"
   ]
  },
  {
   "cell_type": "code",
   "execution_count": 9,
   "id": "1583ea22",
   "metadata": {},
   "outputs": [],
   "source": [
    "df.drop([0],axis=0,inplace=True)"
   ]
  },
  {
   "cell_type": "code",
   "execution_count": 10,
   "id": "d2530230",
   "metadata": {},
   "outputs": [
    {
     "data": {
      "text/html": [
       "<div>\n",
       "<style scoped>\n",
       "    .dataframe tbody tr th:only-of-type {\n",
       "        vertical-align: middle;\n",
       "    }\n",
       "\n",
       "    .dataframe tbody tr th {\n",
       "        vertical-align: top;\n",
       "    }\n",
       "\n",
       "    .dataframe thead th {\n",
       "        text-align: right;\n",
       "    }\n",
       "</style>\n",
       "<table border=\"1\" class=\"dataframe\">\n",
       "  <thead>\n",
       "    <tr style=\"text-align: right;\">\n",
       "      <th></th>\n",
       "      <th>año</th>\n",
       "      <th>precipitacionAnual_sanLuis_Tucuman</th>\n",
       "    </tr>\n",
       "  </thead>\n",
       "  <tbody>\n",
       "    <tr>\n",
       "      <th>28</th>\n",
       "      <td>1973</td>\n",
       "      <td>1287</td>\n",
       "    </tr>\n",
       "    <tr>\n",
       "      <th>29</th>\n",
       "      <td>1974</td>\n",
       "      <td>1376</td>\n",
       "    </tr>\n",
       "  </tbody>\n",
       "</table>\n",
       "</div>"
      ],
      "text/plain": [
       "     año precipitacionAnual_sanLuis_Tucuman\n",
       "28  1973                               1287\n",
       "29  1974                               1376"
      ]
     },
     "execution_count": 10,
     "metadata": {},
     "output_type": "execute_result"
    }
   ],
   "source": [
    "df.dropna(inplace=True)\n",
    "df.head(2)"
   ]
  },
  {
   "cell_type": "code",
   "execution_count": 11,
   "id": "5f6ae6ab",
   "metadata": {},
   "outputs": [],
   "source": [
    "merge =df.merge(dt)"
   ]
  },
  {
   "cell_type": "code",
   "execution_count": 12,
   "id": "c4177951",
   "metadata": {},
   "outputs": [
    {
     "data": {
      "text/html": [
       "<div>\n",
       "<style scoped>\n",
       "    .dataframe tbody tr th:only-of-type {\n",
       "        vertical-align: middle;\n",
       "    }\n",
       "\n",
       "    .dataframe tbody tr th {\n",
       "        vertical-align: top;\n",
       "    }\n",
       "\n",
       "    .dataframe thead th {\n",
       "        text-align: right;\n",
       "    }\n",
       "</style>\n",
       "<table border=\"1\" class=\"dataframe\">\n",
       "  <thead>\n",
       "    <tr style=\"text-align: right;\">\n",
       "      <th></th>\n",
       "      <th>año</th>\n",
       "      <th>precipitacionAnual_sanLuis_Tucuman</th>\n",
       "      <th>humedad</th>\n",
       "      <th>velocidad</th>\n",
       "      <th>indice_oscSur</th>\n",
       "      <th>indice_marshall</th>\n",
       "    </tr>\n",
       "  </thead>\n",
       "  <tbody>\n",
       "    <tr>\n",
       "      <th>0</th>\n",
       "      <td>1973</td>\n",
       "      <td>1287</td>\n",
       "      <td>11.0576</td>\n",
       "      <td>-0.013850</td>\n",
       "      <td>-0.52</td>\n",
       "      <td>0.524</td>\n",
       "    </tr>\n",
       "    <tr>\n",
       "      <th>1</th>\n",
       "      <td>1974</td>\n",
       "      <td>1376</td>\n",
       "      <td>10.1904</td>\n",
       "      <td>-0.018322</td>\n",
       "      <td>2.26</td>\n",
       "      <td>1.488</td>\n",
       "    </tr>\n",
       "    <tr>\n",
       "      <th>2</th>\n",
       "      <td>1975</td>\n",
       "      <td>852.5</td>\n",
       "      <td>10.3370</td>\n",
       "      <td>-0.016138</td>\n",
       "      <td>0.40</td>\n",
       "      <td>-1.748</td>\n",
       "    </tr>\n",
       "    <tr>\n",
       "      <th>3</th>\n",
       "      <td>1976</td>\n",
       "      <td>1140</td>\n",
       "      <td>10.1952</td>\n",
       "      <td>-0.014858</td>\n",
       "      <td>1.62</td>\n",
       "      <td>0.042</td>\n",
       "    </tr>\n",
       "    <tr>\n",
       "      <th>4</th>\n",
       "      <td>1977</td>\n",
       "      <td>1034</td>\n",
       "      <td>10.5296</td>\n",
       "      <td>-0.011090</td>\n",
       "      <td>0.14</td>\n",
       "      <td>-2.460</td>\n",
       "    </tr>\n",
       "  </tbody>\n",
       "</table>\n",
       "</div>"
      ],
      "text/plain": [
       "    año precipitacionAnual_sanLuis_Tucuman  humedad  velocidad  indice_oscSur  \\\n",
       "0  1973                               1287  11.0576  -0.013850          -0.52   \n",
       "1  1974                               1376  10.1904  -0.018322           2.26   \n",
       "2  1975                              852.5  10.3370  -0.016138           0.40   \n",
       "3  1976                               1140  10.1952  -0.014858           1.62   \n",
       "4  1977                               1034  10.5296  -0.011090           0.14   \n",
       "\n",
       "   indice_marshall  \n",
       "0            0.524  \n",
       "1            1.488  \n",
       "2           -1.748  \n",
       "3            0.042  \n",
       "4           -2.460  "
      ]
     },
     "execution_count": 12,
     "metadata": {},
     "output_type": "execute_result"
    }
   ],
   "source": [
    "merge.head(5)"
   ]
  },
  {
   "cell_type": "code",
   "execution_count": 16,
   "id": "7acbfbbd",
   "metadata": {},
   "outputs": [
    {
     "data": {
      "image/png": "[encoded data removed]",
      "text/plain": [
       "<Figure size 900x600 with 1 Axes>"
      ]
     },
     "metadata": {},
     "output_type": "display_data"
    }
   ],
   "source": [
    "sns.set(rc={\"figure.dpi\":150})\n",
    "ax=sns.scatterplot(data=merge, x=\"precipitacionAnual_sanLuis_Tucuman\", y=\"indice_oscSur\",palette=\"mako\")\n",
    "#efecto niño: menos lluvia y el indice osc negativo, niña al reves\n",
    "ax.set_title(\"Incidencia del indice de OscSur en la precipitación anual\",size =15)\n",
    "ax.set_xlabel(\"Precipitación anual (Estación SanLuis-Tucuman)\", fontsize = 12)\n",
    "ax.set_ylabel(\"Indice Oscilación Sur\", fontsize = 12)\n",
    "fig = ax.get_figure()\n",
    "fig.savefig(\"regresionOscSur.png\")"
   ]
  },
  {
   "cell_type": "code",
   "execution_count": null,
   "id": "aa4cb09f",
   "metadata": {},
   "outputs": [],
   "source": []
  }
 ],
 "metadata": {
  "kernelspec": {
   "display_name": "Python 3",
   "language": "python",
   "name": "python3"
  },
  "language_info": {
   "codemirror_mode": {
    "name": "ipython",
    "version": 3
   },
   "file_extension": ".py",
   "mimetype": "text/x-python",
   "name": "python",
   "nbconvert_exporter": "python",
   "pygments_lexer": "ipython3",
   "version": "3.8.8"
  }
 },
 "nbformat": 4,
 "nbformat_minor": 5
}
