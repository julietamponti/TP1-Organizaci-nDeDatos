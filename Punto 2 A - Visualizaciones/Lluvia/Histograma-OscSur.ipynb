{
 "cells": [
  {
   "cell_type": "code",
   "execution_count": 1,
   "id": "73a572de",
   "metadata": {},
   "outputs": [],
   "source": [
    "import pandas as pd\n",
    "import numpy as np\n",
    "import seaborn as sns\n",
    "import matplotlib.pyplot as plt"
   ]
  },
  {
   "cell_type": "code",
   "execution_count": 2,
   "id": "17aa908d",
   "metadata": {},
   "outputs": [],
   "source": [
    "dt= pd.read_excel('variables e indices NDEFM.xlsx',usecols=['humedad esp (g/kg)','año', 'omega (Pa/s)','indice SOI','indice SAM '])"
   ]
  },
  {
   "cell_type": "code",
   "execution_count": 3,
   "id": "e1b209c4",
   "metadata": {},
   "outputs": [],
   "source": [
    "dt.rename(columns={'humedad esp (g/kg)':'humedad','omega (Pa/s)':'velocidad', 'indice SOI':'indice_oscSur', 'indice SAM ':'indice_marshall'},inplace=True)"
   ]
  },
  {
   "cell_type": "code",
   "execution_count": 5,
   "id": "e1238c84",
   "metadata": {},
   "outputs": [
    {
     "data": {
      "text/html": [
       "<div>\n",
       "<style scoped>\n",
       "    .dataframe tbody tr th:only-of-type {\n",
       "        vertical-align: middle;\n",
       "    }\n",
       "\n",
       "    .dataframe tbody tr th {\n",
       "        vertical-align: top;\n",
       "    }\n",
       "\n",
       "    .dataframe thead th {\n",
       "        text-align: right;\n",
       "    }\n",
       "</style>\n",
       "<table border=\"1\" class=\"dataframe\">\n",
       "  <thead>\n",
       "    <tr style=\"text-align: right;\">\n",
       "      <th></th>\n",
       "      <th>año</th>\n",
       "      <th>humedad</th>\n",
       "      <th>velocidad</th>\n",
       "      <th>indice_oscSur</th>\n",
       "      <th>indice_marshall</th>\n",
       "    </tr>\n",
       "  </thead>\n",
       "  <tbody>\n",
       "    <tr>\n",
       "      <th>0</th>\n",
       "      <td>1949</td>\n",
       "      <td>8.7958</td>\n",
       "      <td>0.002598</td>\n",
       "      <td>NaN</td>\n",
       "      <td>NaN</td>\n",
       "    </tr>\n",
       "    <tr>\n",
       "      <th>1</th>\n",
       "      <td>1950</td>\n",
       "      <td>10.6268</td>\n",
       "      <td>-0.022770</td>\n",
       "      <td>NaN</td>\n",
       "      <td>NaN</td>\n",
       "    </tr>\n",
       "    <tr>\n",
       "      <th>2</th>\n",
       "      <td>1951</td>\n",
       "      <td>10.2252</td>\n",
       "      <td>-0.020314</td>\n",
       "      <td>NaN</td>\n",
       "      <td>NaN</td>\n",
       "    </tr>\n",
       "    <tr>\n",
       "      <th>3</th>\n",
       "      <td>1952</td>\n",
       "      <td>11.3264</td>\n",
       "      <td>-0.026402</td>\n",
       "      <td>-0.50</td>\n",
       "      <td>NaN</td>\n",
       "    </tr>\n",
       "    <tr>\n",
       "      <th>4</th>\n",
       "      <td>1953</td>\n",
       "      <td>11.2208</td>\n",
       "      <td>-0.024602</td>\n",
       "      <td>-0.32</td>\n",
       "      <td>NaN</td>\n",
       "    </tr>\n",
       "    <tr>\n",
       "      <th>...</th>\n",
       "      <td>...</td>\n",
       "      <td>...</td>\n",
       "      <td>...</td>\n",
       "      <td>...</td>\n",
       "      <td>...</td>\n",
       "    </tr>\n",
       "    <tr>\n",
       "      <th>56</th>\n",
       "      <td>2005</td>\n",
       "      <td>9.8304</td>\n",
       "      <td>-0.006218</td>\n",
       "      <td>-0.80</td>\n",
       "      <td>0.068</td>\n",
       "    </tr>\n",
       "    <tr>\n",
       "      <th>57</th>\n",
       "      <td>2006</td>\n",
       "      <td>9.8702</td>\n",
       "      <td>-0.001826</td>\n",
       "      <td>0.68</td>\n",
       "      <td>-0.346</td>\n",
       "    </tr>\n",
       "    <tr>\n",
       "      <th>58</th>\n",
       "      <td>2007</td>\n",
       "      <td>9.9726</td>\n",
       "      <td>-0.014746</td>\n",
       "      <td>-0.18</td>\n",
       "      <td>0.620</td>\n",
       "    </tr>\n",
       "    <tr>\n",
       "      <th>59</th>\n",
       "      <td>2008</td>\n",
       "      <td>9.6392</td>\n",
       "      <td>-0.002994</td>\n",
       "      <td>1.68</td>\n",
       "      <td>1.422</td>\n",
       "    </tr>\n",
       "    <tr>\n",
       "      <th>60</th>\n",
       "      <td>2009</td>\n",
       "      <td>9.6882</td>\n",
       "      <td>-0.001162</td>\n",
       "      <td>1.22</td>\n",
       "      <td>1.100</td>\n",
       "    </tr>\n",
       "  </tbody>\n",
       "</table>\n",
       "<p>61 rows × 5 columns</p>\n",
       "</div>"
      ],
      "text/plain": [
       "     año  humedad  velocidad  indice_oscSur  indice_marshall\n",
       "0   1949   8.7958   0.002598            NaN              NaN\n",
       "1   1950  10.6268  -0.022770            NaN              NaN\n",
       "2   1951  10.2252  -0.020314            NaN              NaN\n",
       "3   1952  11.3264  -0.026402          -0.50              NaN\n",
       "4   1953  11.2208  -0.024602          -0.32              NaN\n",
       "..   ...      ...        ...            ...              ...\n",
       "56  2005   9.8304  -0.006218          -0.80            0.068\n",
       "57  2006   9.8702  -0.001826           0.68           -0.346\n",
       "58  2007   9.9726  -0.014746          -0.18            0.620\n",
       "59  2008   9.6392  -0.002994           1.68            1.422\n",
       "60  2009   9.6882  -0.001162           1.22            1.100\n",
       "\n",
       "[61 rows x 5 columns]"
      ]
     },
     "execution_count": 5,
     "metadata": {},
     "output_type": "execute_result"
    }
   ],
   "source": [
    "dt"
   ]
  },
  {
   "cell_type": "code",
   "execution_count": 7,
   "id": "b9c0fa61",
   "metadata": {},
   "outputs": [
    {
     "data": {
      "text/plain": [
       "Index(['año', 'humedad', 'velocidad', 'indice_oscSur', 'indice_marshall'], dtype='object')"
      ]
     },
     "execution_count": 7,
     "metadata": {},
     "output_type": "execute_result"
    }
   ],
   "source": [
    "dt.columns"
   ]
  },
  {
   "cell_type": "code",
   "execution_count": 5,
   "id": "255f2cd1",
   "metadata": {},
   "outputs": [
    {
     "data": {
      "image/png": "[encoded data removed]",
      "text/plain": [
       "<Figure size 600x400 with 1 Axes>"
      ]
     },
     "metadata": {},
     "output_type": "display_data"
    }
   ],
   "source": [
    "sns.set(rc={\"figure.dpi\":100})\n",
    "hist = sns.histplot(data=dt, x=\"indice_oscSur\", kde=True,color=\"g\")\n",
    "hist.set_xlabel(\"Indice-OscSur\", fontsize = 12)\n",
    "hist.set_ylabel(\"Frecuencia\", fontsize = 12)\n",
    "hist.set_title(\"Tendencia a temporadas Niño-Niña\",size =15)\n",
    "fig = hist.get_figure()\n",
    "fig.savefig(\"histogramaOscSur.png\") \n"
   ]
  },
  {
   "cell_type": "code",
   "execution_count": null,
   "id": "c7f52d84",
   "metadata": {},
   "outputs": [],
   "source": []
  }
 ],
 "metadata": {
  "kernelspec": {
   "display_name": "Python 3",
   "language": "python",
   "name": "python3"
  },
  "language_info": {
   "codemirror_mode": {
    "name": "ipython",
    "version": 3
   },
   "file_extension": ".py",
   "mimetype": "text/x-python",
   "name": "python",
   "nbconvert_exporter": "python",
   "pygments_lexer": "ipython3",
   "version": "3.8.8"
  }
 },
 "nbformat": 4,
 "nbformat_minor": 5
}
