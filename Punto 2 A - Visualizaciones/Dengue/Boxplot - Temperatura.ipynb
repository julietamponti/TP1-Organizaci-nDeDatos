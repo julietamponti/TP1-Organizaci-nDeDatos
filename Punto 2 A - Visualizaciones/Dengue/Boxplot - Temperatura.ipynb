{
 "cells": [
  {
   "cell_type": "code",
   "execution_count": 1,
   "id": "0aff69c0",
   "metadata": {},
   "outputs": [],
   "source": [
    "import pandas as pd\n",
    "import numpy as np\n",
    "import matplotlib.pyplot as plt\n",
    "import seaborn as sns\n",
    "%matplotlib inline"
   ]
  },
  {
   "cell_type": "code",
   "execution_count": 2,
   "id": "30d039ac",
   "metadata": {},
   "outputs": [],
   "source": [
    "mm = pd.read_csv('dengue_features_train.csv',usecols=['station_max_temp_c','week_start_date','year', 'weekofyear'])"
   ]
  },
  {
   "cell_type": "code",
   "execution_count": 3,
   "id": "8cb47ed9",
   "metadata": {},
   "outputs": [
    {
     "data": {
      "text/html": [
       "<div>\n",
       "<style scoped>\n",
       "    .dataframe tbody tr th:only-of-type {\n",
       "        vertical-align: middle;\n",
       "    }\n",
       "\n",
       "    .dataframe tbody tr th {\n",
       "        vertical-align: top;\n",
       "    }\n",
       "\n",
       "    .dataframe thead th {\n",
       "        text-align: right;\n",
       "    }\n",
       "</style>\n",
       "<table border=\"1\" class=\"dataframe\">\n",
       "  <thead>\n",
       "    <tr style=\"text-align: right;\">\n",
       "      <th></th>\n",
       "      <th>year</th>\n",
       "      <th>weekofyear</th>\n",
       "      <th>week_start_date</th>\n",
       "      <th>station_max_temp_c</th>\n",
       "    </tr>\n",
       "  </thead>\n",
       "  <tbody>\n",
       "    <tr>\n",
       "      <th>0</th>\n",
       "      <td>1990</td>\n",
       "      <td>18</td>\n",
       "      <td>1990-04-30</td>\n",
       "      <td>29.4</td>\n",
       "    </tr>\n",
       "    <tr>\n",
       "      <th>1</th>\n",
       "      <td>1990</td>\n",
       "      <td>19</td>\n",
       "      <td>1990-05-07</td>\n",
       "      <td>31.7</td>\n",
       "    </tr>\n",
       "    <tr>\n",
       "      <th>2</th>\n",
       "      <td>1990</td>\n",
       "      <td>20</td>\n",
       "      <td>1990-05-14</td>\n",
       "      <td>32.2</td>\n",
       "    </tr>\n",
       "    <tr>\n",
       "      <th>3</th>\n",
       "      <td>1990</td>\n",
       "      <td>21</td>\n",
       "      <td>1990-05-21</td>\n",
       "      <td>33.3</td>\n",
       "    </tr>\n",
       "  </tbody>\n",
       "</table>\n",
       "</div>"
      ],
      "text/plain": [
       "   year  weekofyear week_start_date  station_max_temp_c\n",
       "0  1990          18      1990-04-30                29.4\n",
       "1  1990          19      1990-05-07                31.7\n",
       "2  1990          20      1990-05-14                32.2\n",
       "3  1990          21      1990-05-21                33.3"
      ]
     },
     "execution_count": 3,
     "metadata": {},
     "output_type": "execute_result"
    }
   ],
   "source": [
    "mm.head(4)"
   ]
  },
  {
   "cell_type": "code",
   "execution_count": 4,
   "id": "0804005a",
   "metadata": {},
   "outputs": [
    {
     "data": {
      "text/plain": [
       "Index(['year', 'weekofyear', 'week_start_date', 'station_max_temp_c'], dtype='object')"
      ]
     },
     "execution_count": 4,
     "metadata": {},
     "output_type": "execute_result"
    }
   ],
   "source": [
    "mm.columns"
   ]
  },
  {
   "cell_type": "code",
   "execution_count": 5,
   "id": "07b35ab0",
   "metadata": {},
   "outputs": [],
   "source": [
    "nn= pd.read_csv('dengue_labels_train.csv')"
   ]
  },
  {
   "cell_type": "code",
   "execution_count": 6,
   "id": "04948e39",
   "metadata": {},
   "outputs": [
    {
     "data": {
      "text/html": [
       "<div>\n",
       "<style scoped>\n",
       "    .dataframe tbody tr th:only-of-type {\n",
       "        vertical-align: middle;\n",
       "    }\n",
       "\n",
       "    .dataframe tbody tr th {\n",
       "        vertical-align: top;\n",
       "    }\n",
       "\n",
       "    .dataframe thead th {\n",
       "        text-align: right;\n",
       "    }\n",
       "</style>\n",
       "<table border=\"1\" class=\"dataframe\">\n",
       "  <thead>\n",
       "    <tr style=\"text-align: right;\">\n",
       "      <th></th>\n",
       "      <th>city</th>\n",
       "      <th>year</th>\n",
       "      <th>weekofyear</th>\n",
       "      <th>total_cases</th>\n",
       "    </tr>\n",
       "  </thead>\n",
       "  <tbody>\n",
       "    <tr>\n",
       "      <th>0</th>\n",
       "      <td>sj</td>\n",
       "      <td>1990</td>\n",
       "      <td>18</td>\n",
       "      <td>4</td>\n",
       "    </tr>\n",
       "    <tr>\n",
       "      <th>1</th>\n",
       "      <td>sj</td>\n",
       "      <td>1990</td>\n",
       "      <td>19</td>\n",
       "      <td>5</td>\n",
       "    </tr>\n",
       "    <tr>\n",
       "      <th>2</th>\n",
       "      <td>sj</td>\n",
       "      <td>1990</td>\n",
       "      <td>20</td>\n",
       "      <td>4</td>\n",
       "    </tr>\n",
       "    <tr>\n",
       "      <th>3</th>\n",
       "      <td>sj</td>\n",
       "      <td>1990</td>\n",
       "      <td>21</td>\n",
       "      <td>3</td>\n",
       "    </tr>\n",
       "  </tbody>\n",
       "</table>\n",
       "</div>"
      ],
      "text/plain": [
       "  city  year  weekofyear  total_cases\n",
       "0   sj  1990          18            4\n",
       "1   sj  1990          19            5\n",
       "2   sj  1990          20            4\n",
       "3   sj  1990          21            3"
      ]
     },
     "execution_count": 6,
     "metadata": {},
     "output_type": "execute_result"
    }
   ],
   "source": [
    "nn.head(4)"
   ]
  },
  {
   "cell_type": "code",
   "execution_count": 7,
   "id": "c4753734",
   "metadata": {},
   "outputs": [],
   "source": [
    "nn =  nn.merge(mm)"
   ]
  },
  {
   "cell_type": "code",
   "execution_count": 8,
   "id": "6ae707f9",
   "metadata": {},
   "outputs": [
    {
     "data": {
      "text/html": [
       "<div>\n",
       "<style scoped>\n",
       "    .dataframe tbody tr th:only-of-type {\n",
       "        vertical-align: middle;\n",
       "    }\n",
       "\n",
       "    .dataframe tbody tr th {\n",
       "        vertical-align: top;\n",
       "    }\n",
       "\n",
       "    .dataframe thead th {\n",
       "        text-align: right;\n",
       "    }\n",
       "</style>\n",
       "<table border=\"1\" class=\"dataframe\">\n",
       "  <thead>\n",
       "    <tr style=\"text-align: right;\">\n",
       "      <th></th>\n",
       "      <th>city</th>\n",
       "      <th>year</th>\n",
       "      <th>weekofyear</th>\n",
       "      <th>total_cases</th>\n",
       "      <th>week_start_date</th>\n",
       "      <th>station_max_temp_c</th>\n",
       "    </tr>\n",
       "  </thead>\n",
       "  <tbody>\n",
       "    <tr>\n",
       "      <th>0</th>\n",
       "      <td>sj</td>\n",
       "      <td>1990</td>\n",
       "      <td>18</td>\n",
       "      <td>4</td>\n",
       "      <td>1990-04-30</td>\n",
       "      <td>29.4</td>\n",
       "    </tr>\n",
       "    <tr>\n",
       "      <th>1</th>\n",
       "      <td>sj</td>\n",
       "      <td>1990</td>\n",
       "      <td>19</td>\n",
       "      <td>5</td>\n",
       "      <td>1990-05-07</td>\n",
       "      <td>31.7</td>\n",
       "    </tr>\n",
       "    <tr>\n",
       "      <th>2</th>\n",
       "      <td>sj</td>\n",
       "      <td>1990</td>\n",
       "      <td>20</td>\n",
       "      <td>4</td>\n",
       "      <td>1990-05-14</td>\n",
       "      <td>32.2</td>\n",
       "    </tr>\n",
       "    <tr>\n",
       "      <th>3</th>\n",
       "      <td>sj</td>\n",
       "      <td>1990</td>\n",
       "      <td>21</td>\n",
       "      <td>3</td>\n",
       "      <td>1990-05-21</td>\n",
       "      <td>33.3</td>\n",
       "    </tr>\n",
       "    <tr>\n",
       "      <th>4</th>\n",
       "      <td>sj</td>\n",
       "      <td>1990</td>\n",
       "      <td>22</td>\n",
       "      <td>6</td>\n",
       "      <td>1990-05-28</td>\n",
       "      <td>35.0</td>\n",
       "    </tr>\n",
       "    <tr>\n",
       "      <th>...</th>\n",
       "      <td>...</td>\n",
       "      <td>...</td>\n",
       "      <td>...</td>\n",
       "      <td>...</td>\n",
       "      <td>...</td>\n",
       "      <td>...</td>\n",
       "    </tr>\n",
       "    <tr>\n",
       "      <th>2265</th>\n",
       "      <td>iq</td>\n",
       "      <td>2010</td>\n",
       "      <td>21</td>\n",
       "      <td>5</td>\n",
       "      <td>2010-05-28</td>\n",
       "      <td>35.4</td>\n",
       "    </tr>\n",
       "    <tr>\n",
       "      <th>2266</th>\n",
       "      <td>iq</td>\n",
       "      <td>2010</td>\n",
       "      <td>22</td>\n",
       "      <td>8</td>\n",
       "      <td>2010-06-04</td>\n",
       "      <td>34.7</td>\n",
       "    </tr>\n",
       "    <tr>\n",
       "      <th>2267</th>\n",
       "      <td>iq</td>\n",
       "      <td>2010</td>\n",
       "      <td>23</td>\n",
       "      <td>1</td>\n",
       "      <td>2010-06-11</td>\n",
       "      <td>32.2</td>\n",
       "    </tr>\n",
       "    <tr>\n",
       "      <th>2268</th>\n",
       "      <td>iq</td>\n",
       "      <td>2010</td>\n",
       "      <td>24</td>\n",
       "      <td>1</td>\n",
       "      <td>2010-06-18</td>\n",
       "      <td>31.2</td>\n",
       "    </tr>\n",
       "    <tr>\n",
       "      <th>2269</th>\n",
       "      <td>iq</td>\n",
       "      <td>2010</td>\n",
       "      <td>25</td>\n",
       "      <td>4</td>\n",
       "      <td>2010-06-25</td>\n",
       "      <td>33.7</td>\n",
       "    </tr>\n",
       "  </tbody>\n",
       "</table>\n",
       "<p>2270 rows × 6 columns</p>\n",
       "</div>"
      ],
      "text/plain": [
       "     city  year  weekofyear  total_cases week_start_date  station_max_temp_c\n",
       "0      sj  1990          18            4      1990-04-30                29.4\n",
       "1      sj  1990          19            5      1990-05-07                31.7\n",
       "2      sj  1990          20            4      1990-05-14                32.2\n",
       "3      sj  1990          21            3      1990-05-21                33.3\n",
       "4      sj  1990          22            6      1990-05-28                35.0\n",
       "...   ...   ...         ...          ...             ...                 ...\n",
       "2265   iq  2010          21            5      2010-05-28                35.4\n",
       "2266   iq  2010          22            8      2010-06-04                34.7\n",
       "2267   iq  2010          23            1      2010-06-11                32.2\n",
       "2268   iq  2010          24            1      2010-06-18                31.2\n",
       "2269   iq  2010          25            4      2010-06-25                33.7\n",
       "\n",
       "[2270 rows x 6 columns]"
      ]
     },
     "execution_count": 8,
     "metadata": {},
     "output_type": "execute_result"
    }
   ],
   "source": [
    "nn"
   ]
  },
  {
   "cell_type": "code",
   "execution_count": 9,
   "id": "dba5c4a0",
   "metadata": {},
   "outputs": [],
   "source": [
    "nn['week_start_date'] = pd.to_datetime(nn['week_start_date'])"
   ]
  },
  {
   "cell_type": "code",
   "execution_count": 10,
   "id": "db57a3a5",
   "metadata": {},
   "outputs": [],
   "source": [
    "nn['mes']=nn['week_start_date'].dt.month"
   ]
  },
  {
   "cell_type": "code",
   "execution_count": 11,
   "id": "12c64e99",
   "metadata": {},
   "outputs": [],
   "source": [
    "nn = nn.groupby('city')"
   ]
  },
  {
   "cell_type": "code",
   "execution_count": 12,
   "id": "8e1bd6e2",
   "metadata": {},
   "outputs": [],
   "source": [
    "sj = nn.get_group('sj')"
   ]
  },
  {
   "cell_type": "code",
   "execution_count": 13,
   "id": "c79288a0",
   "metadata": {},
   "outputs": [
    {
     "data": {
      "text/html": [
       "<div>\n",
       "<style scoped>\n",
       "    .dataframe tbody tr th:only-of-type {\n",
       "        vertical-align: middle;\n",
       "    }\n",
       "\n",
       "    .dataframe tbody tr th {\n",
       "        vertical-align: top;\n",
       "    }\n",
       "\n",
       "    .dataframe thead th {\n",
       "        text-align: right;\n",
       "    }\n",
       "</style>\n",
       "<table border=\"1\" class=\"dataframe\">\n",
       "  <thead>\n",
       "    <tr style=\"text-align: right;\">\n",
       "      <th></th>\n",
       "      <th>city</th>\n",
       "      <th>year</th>\n",
       "      <th>weekofyear</th>\n",
       "      <th>total_cases</th>\n",
       "      <th>week_start_date</th>\n",
       "      <th>station_max_temp_c</th>\n",
       "      <th>mes</th>\n",
       "    </tr>\n",
       "  </thead>\n",
       "  <tbody>\n",
       "    <tr>\n",
       "      <th>0</th>\n",
       "      <td>sj</td>\n",
       "      <td>1990</td>\n",
       "      <td>18</td>\n",
       "      <td>4</td>\n",
       "      <td>1990-04-30</td>\n",
       "      <td>29.4</td>\n",
       "      <td>4</td>\n",
       "    </tr>\n",
       "    <tr>\n",
       "      <th>1</th>\n",
       "      <td>sj</td>\n",
       "      <td>1990</td>\n",
       "      <td>19</td>\n",
       "      <td>5</td>\n",
       "      <td>1990-05-07</td>\n",
       "      <td>31.7</td>\n",
       "      <td>5</td>\n",
       "    </tr>\n",
       "    <tr>\n",
       "      <th>2</th>\n",
       "      <td>sj</td>\n",
       "      <td>1990</td>\n",
       "      <td>20</td>\n",
       "      <td>4</td>\n",
       "      <td>1990-05-14</td>\n",
       "      <td>32.2</td>\n",
       "      <td>5</td>\n",
       "    </tr>\n",
       "    <tr>\n",
       "      <th>3</th>\n",
       "      <td>sj</td>\n",
       "      <td>1990</td>\n",
       "      <td>21</td>\n",
       "      <td>3</td>\n",
       "      <td>1990-05-21</td>\n",
       "      <td>33.3</td>\n",
       "      <td>5</td>\n",
       "    </tr>\n",
       "    <tr>\n",
       "      <th>4</th>\n",
       "      <td>sj</td>\n",
       "      <td>1990</td>\n",
       "      <td>22</td>\n",
       "      <td>6</td>\n",
       "      <td>1990-05-28</td>\n",
       "      <td>35.0</td>\n",
       "      <td>5</td>\n",
       "    </tr>\n",
       "    <tr>\n",
       "      <th>...</th>\n",
       "      <td>...</td>\n",
       "      <td>...</td>\n",
       "      <td>...</td>\n",
       "      <td>...</td>\n",
       "      <td>...</td>\n",
       "      <td>...</td>\n",
       "      <td>...</td>\n",
       "    </tr>\n",
       "    <tr>\n",
       "      <th>2146</th>\n",
       "      <td>sj</td>\n",
       "      <td>2008</td>\n",
       "      <td>15</td>\n",
       "      <td>1</td>\n",
       "      <td>2008-04-08</td>\n",
       "      <td>32.8</td>\n",
       "      <td>4</td>\n",
       "    </tr>\n",
       "    <tr>\n",
       "      <th>2149</th>\n",
       "      <td>sj</td>\n",
       "      <td>2008</td>\n",
       "      <td>16</td>\n",
       "      <td>3</td>\n",
       "      <td>2008-04-15</td>\n",
       "      <td>29.4</td>\n",
       "      <td>4</td>\n",
       "    </tr>\n",
       "    <tr>\n",
       "      <th>2150</th>\n",
       "      <td>sj</td>\n",
       "      <td>2008</td>\n",
       "      <td>16</td>\n",
       "      <td>3</td>\n",
       "      <td>2008-04-15</td>\n",
       "      <td>33.6</td>\n",
       "      <td>4</td>\n",
       "    </tr>\n",
       "    <tr>\n",
       "      <th>2153</th>\n",
       "      <td>sj</td>\n",
       "      <td>2008</td>\n",
       "      <td>17</td>\n",
       "      <td>5</td>\n",
       "      <td>2008-04-22</td>\n",
       "      <td>31.7</td>\n",
       "      <td>4</td>\n",
       "    </tr>\n",
       "    <tr>\n",
       "      <th>2154</th>\n",
       "      <td>sj</td>\n",
       "      <td>2008</td>\n",
       "      <td>17</td>\n",
       "      <td>5</td>\n",
       "      <td>2008-04-22</td>\n",
       "      <td>33.0</td>\n",
       "      <td>4</td>\n",
       "    </tr>\n",
       "  </tbody>\n",
       "</table>\n",
       "<p>1343 rows × 7 columns</p>\n",
       "</div>"
      ],
      "text/plain": [
       "     city  year  weekofyear  total_cases week_start_date  station_max_temp_c  \\\n",
       "0      sj  1990          18            4      1990-04-30                29.4   \n",
       "1      sj  1990          19            5      1990-05-07                31.7   \n",
       "2      sj  1990          20            4      1990-05-14                32.2   \n",
       "3      sj  1990          21            3      1990-05-21                33.3   \n",
       "4      sj  1990          22            6      1990-05-28                35.0   \n",
       "...   ...   ...         ...          ...             ...                 ...   \n",
       "2146   sj  2008          15            1      2008-04-08                32.8   \n",
       "2149   sj  2008          16            3      2008-04-15                29.4   \n",
       "2150   sj  2008          16            3      2008-04-15                33.6   \n",
       "2153   sj  2008          17            5      2008-04-22                31.7   \n",
       "2154   sj  2008          17            5      2008-04-22                33.0   \n",
       "\n",
       "      mes  \n",
       "0       4  \n",
       "1       5  \n",
       "2       5  \n",
       "3       5  \n",
       "4       5  \n",
       "...   ...  \n",
       "2146    4  \n",
       "2149    4  \n",
       "2150    4  \n",
       "2153    4  \n",
       "2154    4  \n",
       "\n",
       "[1343 rows x 7 columns]"
      ]
     },
     "execution_count": 13,
     "metadata": {},
     "output_type": "execute_result"
    }
   ],
   "source": [
    "sj"
   ]
  },
  {
   "cell_type": "code",
   "execution_count": 14,
   "id": "72974465",
   "metadata": {},
   "outputs": [
    {
     "data": {
      "text/html": [
       "<div>\n",
       "<style scoped>\n",
       "    .dataframe tbody tr th:only-of-type {\n",
       "        vertical-align: middle;\n",
       "    }\n",
       "\n",
       "    .dataframe tbody tr th {\n",
       "        vertical-align: top;\n",
       "    }\n",
       "\n",
       "    .dataframe thead th {\n",
       "        text-align: right;\n",
       "    }\n",
       "</style>\n",
       "<table border=\"1\" class=\"dataframe\">\n",
       "  <thead>\n",
       "    <tr style=\"text-align: right;\">\n",
       "      <th></th>\n",
       "      <th>station_max_temp_c</th>\n",
       "    </tr>\n",
       "    <tr>\n",
       "      <th>mes</th>\n",
       "      <th></th>\n",
       "    </tr>\n",
       "  </thead>\n",
       "  <tbody>\n",
       "    <tr>\n",
       "      <th>1</th>\n",
       "      <td>30.808197</td>\n",
       "    </tr>\n",
       "    <tr>\n",
       "      <th>2</th>\n",
       "      <td>31.125962</td>\n",
       "    </tr>\n",
       "    <tr>\n",
       "      <th>3</th>\n",
       "      <td>31.750000</td>\n",
       "    </tr>\n",
       "    <tr>\n",
       "      <th>4</th>\n",
       "      <td>32.079845</td>\n",
       "    </tr>\n",
       "    <tr>\n",
       "      <th>5</th>\n",
       "      <td>32.505000</td>\n",
       "    </tr>\n",
       "    <tr>\n",
       "      <th>6</th>\n",
       "      <td>32.842000</td>\n",
       "    </tr>\n",
       "    <tr>\n",
       "      <th>7</th>\n",
       "      <td>32.671538</td>\n",
       "    </tr>\n",
       "    <tr>\n",
       "      <th>8</th>\n",
       "      <td>33.033010</td>\n",
       "    </tr>\n",
       "    <tr>\n",
       "      <th>9</th>\n",
       "      <td>33.444444</td>\n",
       "    </tr>\n",
       "    <tr>\n",
       "      <th>10</th>\n",
       "      <td>33.493548</td>\n",
       "    </tr>\n",
       "    <tr>\n",
       "      <th>11</th>\n",
       "      <td>32.389423</td>\n",
       "    </tr>\n",
       "    <tr>\n",
       "      <th>12</th>\n",
       "      <td>31.251456</td>\n",
       "    </tr>\n",
       "  </tbody>\n",
       "</table>\n",
       "</div>"
      ],
      "text/plain": [
       "     station_max_temp_c\n",
       "mes                    \n",
       "1             30.808197\n",
       "2             31.125962\n",
       "3             31.750000\n",
       "4             32.079845\n",
       "5             32.505000\n",
       "6             32.842000\n",
       "7             32.671538\n",
       "8             33.033010\n",
       "9             33.444444\n",
       "10            33.493548\n",
       "11            32.389423\n",
       "12            31.251456"
      ]
     },
     "execution_count": 14,
     "metadata": {},
     "output_type": "execute_result"
    }
   ],
   "source": [
    "prom = sj.groupby('mes').agg({'station_max_temp_c':'mean'})\n",
    "prom"
   ]
  },
  {
   "cell_type": "code",
   "execution_count": 15,
   "id": "0ee18a1f",
   "metadata": {},
   "outputs": [],
   "source": [
    "ranking= prom.rank(method='min')\n",
    "ranking = ranking['station_max_temp_c'].astype(int).to_list()"
   ]
  },
  {
   "cell_type": "code",
   "execution_count": 16,
   "id": "5fe66b49",
   "metadata": {},
   "outputs": [],
   "source": [
    "npRanking = np.array(ranking)"
   ]
  },
  {
   "cell_type": "code",
   "execution_count": 17,
   "id": "7c977caf",
   "metadata": {},
   "outputs": [],
   "source": [
    "npRanking = npRanking-1"
   ]
  },
  {
   "cell_type": "code",
   "execution_count": 18,
   "id": "53436393",
   "metadata": {},
   "outputs": [
    {
     "data": {
      "text/plain": [
       "array([ 0,  1,  3,  4,  6,  8,  7,  9, 10, 11,  5,  2])"
      ]
     },
     "execution_count": 18,
     "metadata": {},
     "output_type": "execute_result"
    }
   ],
   "source": [
    "npRanking"
   ]
  },
  {
   "cell_type": "code",
   "execution_count": 27,
   "id": "05030e11",
   "metadata": {},
   "outputs": [
    {
     "data": {
      "text/html": [
       "<svg  width=\"660\" height=\"55\"><rect x=\"0\" y=\"0\" width=\"55\" height=\"55\" style=\"fill:#feecda;stroke-width:2;stroke:rgb(255,255,255)\"/><rect x=\"55\" y=\"0\" width=\"55\" height=\"55\" style=\"fill:#fee1c4;stroke-width:2;stroke:rgb(255,255,255)\"/><rect x=\"110\" y=\"0\" width=\"55\" height=\"55\" style=\"fill:#fdd3a9;stroke-width:2;stroke:rgb(255,255,255)\"/><rect x=\"165\" y=\"0\" width=\"55\" height=\"55\" style=\"fill:#fdc189;stroke-width:2;stroke:rgb(255,255,255)\"/><rect x=\"220\" y=\"0\" width=\"55\" height=\"55\" style=\"fill:#fdac67;stroke-width:2;stroke:rgb(255,255,255)\"/><rect x=\"275\" y=\"0\" width=\"55\" height=\"55\" style=\"fill:#fd974a;stroke-width:2;stroke:rgb(255,255,255)\"/><rect x=\"330\" y=\"0\" width=\"55\" height=\"55\" style=\"fill:#f98230;stroke-width:2;stroke:rgb(255,255,255)\"/><rect x=\"385\" y=\"0\" width=\"55\" height=\"55\" style=\"fill:#f26c16;stroke-width:2;stroke:rgb(255,255,255)\"/><rect x=\"440\" y=\"0\" width=\"55\" height=\"55\" style=\"fill:#e45709;stroke-width:2;stroke:rgb(255,255,255)\"/><rect x=\"495\" y=\"0\" width=\"55\" height=\"55\" style=\"fill:#d14501;stroke-width:2;stroke:rgb(255,255,255)\"/><rect x=\"550\" y=\"0\" width=\"55\" height=\"55\" style=\"fill:#b13a03;stroke-width:2;stroke:rgb(255,255,255)\"/><rect x=\"605\" y=\"0\" width=\"55\" height=\"55\" style=\"fill:#963003;stroke-width:2;stroke:rgb(255,255,255)\"/></svg>"
      ],
      "text/plain": [
       "[(0.9976624375240293, 0.9257208765859285, 0.8537793156478277),\n",
       " (0.99520184544406, 0.8826758938869665, 0.7692733564013841),\n",
       " (0.9927412533640908, 0.8285428681276432, 0.6610073048827374),\n",
       " (0.9921568627450981, 0.756078431372549, 0.5388696655132641),\n",
       " (0.9921568627450981, 0.6727104959630912, 0.40587466359092667),\n",
       " (0.9921568627450981, 0.5915109573241062, 0.2902268358323722),\n",
       " (0.9781314878892734, 0.5108650519031142, 0.18737408688965784),\n",
       " (0.9486043829296424, 0.4222837370242214, 0.08648981161091887),\n",
       " (0.8930565167243367, 0.3402076124567474, 0.03547866205305651),\n",
       " (0.8211764705882354, 0.2718339100346021, 0.005090349865436363),\n",
       " (0.6956862745098039, 0.2275432525951557, 0.010011534025374854),\n",
       " (0.5892041522491349, 0.18800461361014995, 0.01334871203383314)]"
      ]
     },
     "execution_count": 27,
     "metadata": {},
     "output_type": "execute_result"
    }
   ],
   "source": [
    "colores = sns.color_palette(\"Oranges\",prom.size, as_cmap=False)\n",
    "colores"
   ]
  },
  {
   "cell_type": "code",
   "execution_count": 28,
   "id": "dde1ac32",
   "metadata": {},
   "outputs": [],
   "source": [
    "orden=[]\n",
    "for i in npRanking:\n",
    "    orden.append(colores[i])"
   ]
  },
  {
   "cell_type": "code",
   "execution_count": 29,
   "id": "cd957a44",
   "metadata": {},
   "outputs": [
    {
     "data": {
      "image/png": "[encoded data removed]",
      "text/plain": [
       "<Figure size 900x600 with 1 Axes>"
      ]
     },
     "metadata": {},
     "output_type": "display_data"
    }
   ],
   "source": [
    "sns.set(rc={\"figure.dpi\":150})\n",
    "sjx = sns.boxplot(x=\"mes\", y=\"station_max_temp_c\", data=sj,palette=orden)\n",
    "sjx.set_title('Estadisticas de temperaturas maximas por mes - San Juan, Puerto Rico',size =10)\n",
    "sjx.set_xlabel(\"Mes\", fontsize = 10)\n",
    "sjx.set_ylabel(\"Temperatura\", fontsize = 10)\n",
    "figiq = sjx.get_figure()\n",
    "figiq.savefig(\"boxplor-TemperaturaSJ.png\")"
   ]
  },
  {
   "cell_type": "code",
   "execution_count": 30,
   "id": "d18b98cd",
   "metadata": {},
   "outputs": [],
   "source": [
    "iq = nn.get_group('iq')"
   ]
  },
  {
   "cell_type": "code",
   "execution_count": 31,
   "id": "00e2edac",
   "metadata": {},
   "outputs": [
    {
     "data": {
      "image/png": "[encoded data removed]",
      "text/plain": [
       "<Figure size 900x600 with 1 Axes>"
      ]
     },
     "metadata": {},
     "output_type": "display_data"
    }
   ],
   "source": [
    "sns.set(rc={\"figure.dpi\":150})\n",
    "iqx = sns.boxplot(x=\"mes\", y=\"station_max_temp_c\", data=iq,palette=orden)\n",
    "iqx.set_title('Estadisticas de temperaturas maximas por mes - Iquitos, Peru',size =10)\n",
    "iqx.set_xlabel(\"Mes\", fontsize = 10)\n",
    "iqx.set_ylabel(\"Temperatura\", fontsize = 10)\n",
    "figiq = iqx.get_figure()\n",
    "figiq.savefig(\"boxplot-TemperaturaIQ.png\")"
   ]
  },
  {
   "cell_type": "code",
   "execution_count": null,
   "id": "df48e449",
   "metadata": {},
   "outputs": [],
   "source": []
  }
 ],
 "metadata": {
  "kernelspec": {
   "display_name": "Python 3",
   "language": "python",
   "name": "python3"
  },
  "language_info": {
   "codemirror_mode": {
    "name": "ipython",
    "version": 3
   },
   "file_extension": ".py",
   "mimetype": "text/x-python",
   "name": "python",
   "nbconvert_exporter": "python",
   "pygments_lexer": "ipython3",
   "version": "3.8.8"
  }
 },
 "nbformat": 4,
 "nbformat_minor": 5
}
