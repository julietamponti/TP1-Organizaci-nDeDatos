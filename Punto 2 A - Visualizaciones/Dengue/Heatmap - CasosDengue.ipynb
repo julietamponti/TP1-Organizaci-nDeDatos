{
 "cells": [
  {
   "cell_type": "code",
   "execution_count": 1,
   "id": "b08e838b",
   "metadata": {},
   "outputs": [],
   "source": [
    "import pandas as pd\n",
    "import numpy as np\n",
    "import matplotlib.pyplot as plt\n",
    "import seaborn as sns\n",
    "from sorted_months_weekdays import *\n",
    "from sort_dataframeby_monthorweek import *\n",
    "%matplotlib inline"
   ]
  },
  {
   "cell_type": "code",
   "execution_count": 2,
   "id": "5a20c5e0",
   "metadata": {},
   "outputs": [],
   "source": [
    "dt= pd.read_csv('dengue_labels_train.csv')"
   ]
  },
  {
   "cell_type": "code",
   "execution_count": 3,
   "id": "00d7f540",
   "metadata": {},
   "outputs": [],
   "source": [
    "df = pd.read_csv('dengue_features_train.csv',usecols=['city', 'year', 'weekofyear', 'week_start_date'])"
   ]
  },
  {
   "cell_type": "code",
   "execution_count": 4,
   "id": "4da2de36",
   "metadata": {},
   "outputs": [
    {
     "data": {
      "text/plain": [
       "Index(['city', 'year', 'weekofyear', 'week_start_date'], dtype='object')"
      ]
     },
     "execution_count": 4,
     "metadata": {},
     "output_type": "execute_result"
    }
   ],
   "source": [
    "df.columns"
   ]
  },
  {
   "cell_type": "code",
   "execution_count": 5,
   "id": "07901635",
   "metadata": {},
   "outputs": [],
   "source": [
    "df['week_start_date'] = pd.to_datetime(df['week_start_date'])"
   ]
  },
  {
   "cell_type": "code",
   "execution_count": 6,
   "id": "032deeca",
   "metadata": {},
   "outputs": [
    {
     "name": "stdout",
     "output_type": "stream",
     "text": [
      "<class 'pandas.core.frame.DataFrame'>\n",
      "RangeIndex: 1456 entries, 0 to 1455\n",
      "Data columns (total 4 columns):\n",
      " #   Column           Non-Null Count  Dtype         \n",
      "---  ------           --------------  -----         \n",
      " 0   city             1456 non-null   object        \n",
      " 1   year             1456 non-null   int64         \n",
      " 2   weekofyear       1456 non-null   int64         \n",
      " 3   week_start_date  1456 non-null   datetime64[ns]\n",
      "dtypes: datetime64[ns](1), int64(2), object(1)\n",
      "memory usage: 45.6+ KB\n"
     ]
    }
   ],
   "source": [
    "df.info()"
   ]
  },
  {
   "cell_type": "code",
   "execution_count": 7,
   "id": "957cf1b7",
   "metadata": {},
   "outputs": [],
   "source": [
    " df['mes'] = df['week_start_date'].dt.month#_name()"
   ]
  },
  {
   "cell_type": "code",
   "execution_count": 8,
   "id": "383f7f8d",
   "metadata": {},
   "outputs": [
    {
     "data": {
      "text/plain": [
       "1     140\n",
       "4     140\n",
       "7     140\n",
       "10    133\n",
       "9     119\n",
       "2     112\n",
       "3     112\n",
       "5     112\n",
       "6     112\n",
       "8     112\n",
       "11    112\n",
       "12    112\n",
       "Name: mes, dtype: int64"
      ]
     },
     "execution_count": 8,
     "metadata": {},
     "output_type": "execute_result"
    }
   ],
   "source": [
    "df.mes.value_counts()"
   ]
  },
  {
   "cell_type": "code",
   "execution_count": 9,
   "id": "89ab7a23",
   "metadata": {},
   "outputs": [],
   "source": [
    "dt = dt.merge(df)"
   ]
  },
  {
   "cell_type": "code",
   "execution_count": 10,
   "id": "f2a2a821",
   "metadata": {},
   "outputs": [
    {
     "data": {
      "text/html": [
       "<div>\n",
       "<style scoped>\n",
       "    .dataframe tbody tr th:only-of-type {\n",
       "        vertical-align: middle;\n",
       "    }\n",
       "\n",
       "    .dataframe tbody tr th {\n",
       "        vertical-align: top;\n",
       "    }\n",
       "\n",
       "    .dataframe thead th {\n",
       "        text-align: right;\n",
       "    }\n",
       "</style>\n",
       "<table border=\"1\" class=\"dataframe\">\n",
       "  <thead>\n",
       "    <tr style=\"text-align: right;\">\n",
       "      <th></th>\n",
       "      <th>city</th>\n",
       "      <th>year</th>\n",
       "      <th>weekofyear</th>\n",
       "      <th>total_cases</th>\n",
       "      <th>week_start_date</th>\n",
       "      <th>mes</th>\n",
       "    </tr>\n",
       "  </thead>\n",
       "  <tbody>\n",
       "    <tr>\n",
       "      <th>0</th>\n",
       "      <td>sj</td>\n",
       "      <td>1990</td>\n",
       "      <td>18</td>\n",
       "      <td>4</td>\n",
       "      <td>1990-04-30</td>\n",
       "      <td>4</td>\n",
       "    </tr>\n",
       "    <tr>\n",
       "      <th>1</th>\n",
       "      <td>sj</td>\n",
       "      <td>1990</td>\n",
       "      <td>19</td>\n",
       "      <td>5</td>\n",
       "      <td>1990-05-07</td>\n",
       "      <td>5</td>\n",
       "    </tr>\n",
       "    <tr>\n",
       "      <th>2</th>\n",
       "      <td>sj</td>\n",
       "      <td>1990</td>\n",
       "      <td>20</td>\n",
       "      <td>4</td>\n",
       "      <td>1990-05-14</td>\n",
       "      <td>5</td>\n",
       "    </tr>\n",
       "    <tr>\n",
       "      <th>3</th>\n",
       "      <td>sj</td>\n",
       "      <td>1990</td>\n",
       "      <td>21</td>\n",
       "      <td>3</td>\n",
       "      <td>1990-05-21</td>\n",
       "      <td>5</td>\n",
       "    </tr>\n",
       "    <tr>\n",
       "      <th>4</th>\n",
       "      <td>sj</td>\n",
       "      <td>1990</td>\n",
       "      <td>22</td>\n",
       "      <td>6</td>\n",
       "      <td>1990-05-28</td>\n",
       "      <td>5</td>\n",
       "    </tr>\n",
       "    <tr>\n",
       "      <th>...</th>\n",
       "      <td>...</td>\n",
       "      <td>...</td>\n",
       "      <td>...</td>\n",
       "      <td>...</td>\n",
       "      <td>...</td>\n",
       "      <td>...</td>\n",
       "    </tr>\n",
       "    <tr>\n",
       "      <th>1451</th>\n",
       "      <td>iq</td>\n",
       "      <td>2010</td>\n",
       "      <td>21</td>\n",
       "      <td>5</td>\n",
       "      <td>2010-05-28</td>\n",
       "      <td>5</td>\n",
       "    </tr>\n",
       "    <tr>\n",
       "      <th>1452</th>\n",
       "      <td>iq</td>\n",
       "      <td>2010</td>\n",
       "      <td>22</td>\n",
       "      <td>8</td>\n",
       "      <td>2010-06-04</td>\n",
       "      <td>6</td>\n",
       "    </tr>\n",
       "    <tr>\n",
       "      <th>1453</th>\n",
       "      <td>iq</td>\n",
       "      <td>2010</td>\n",
       "      <td>23</td>\n",
       "      <td>1</td>\n",
       "      <td>2010-06-11</td>\n",
       "      <td>6</td>\n",
       "    </tr>\n",
       "    <tr>\n",
       "      <th>1454</th>\n",
       "      <td>iq</td>\n",
       "      <td>2010</td>\n",
       "      <td>24</td>\n",
       "      <td>1</td>\n",
       "      <td>2010-06-18</td>\n",
       "      <td>6</td>\n",
       "    </tr>\n",
       "    <tr>\n",
       "      <th>1455</th>\n",
       "      <td>iq</td>\n",
       "      <td>2010</td>\n",
       "      <td>25</td>\n",
       "      <td>4</td>\n",
       "      <td>2010-06-25</td>\n",
       "      <td>6</td>\n",
       "    </tr>\n",
       "  </tbody>\n",
       "</table>\n",
       "<p>1456 rows × 6 columns</p>\n",
       "</div>"
      ],
      "text/plain": [
       "     city  year  weekofyear  total_cases week_start_date  mes\n",
       "0      sj  1990          18            4      1990-04-30    4\n",
       "1      sj  1990          19            5      1990-05-07    5\n",
       "2      sj  1990          20            4      1990-05-14    5\n",
       "3      sj  1990          21            3      1990-05-21    5\n",
       "4      sj  1990          22            6      1990-05-28    5\n",
       "...   ...   ...         ...          ...             ...  ...\n",
       "1451   iq  2010          21            5      2010-05-28    5\n",
       "1452   iq  2010          22            8      2010-06-04    6\n",
       "1453   iq  2010          23            1      2010-06-11    6\n",
       "1454   iq  2010          24            1      2010-06-18    6\n",
       "1455   iq  2010          25            4      2010-06-25    6\n",
       "\n",
       "[1456 rows x 6 columns]"
      ]
     },
     "execution_count": 10,
     "metadata": {},
     "output_type": "execute_result"
    }
   ],
   "source": [
    "dt"
   ]
  },
  {
   "cell_type": "code",
   "execution_count": 11,
   "id": "2cdaf196",
   "metadata": {},
   "outputs": [
    {
     "data": {
      "text/html": [
       "<div>\n",
       "<style scoped>\n",
       "    .dataframe tbody tr th:only-of-type {\n",
       "        vertical-align: middle;\n",
       "    }\n",
       "\n",
       "    .dataframe tbody tr th {\n",
       "        vertical-align: top;\n",
       "    }\n",
       "\n",
       "    .dataframe thead th {\n",
       "        text-align: right;\n",
       "    }\n",
       "</style>\n",
       "<table border=\"1\" class=\"dataframe\">\n",
       "  <thead>\n",
       "    <tr style=\"text-align: right;\">\n",
       "      <th></th>\n",
       "      <th>city</th>\n",
       "      <th>year</th>\n",
       "      <th>weekofyear</th>\n",
       "      <th>total_cases</th>\n",
       "      <th>week_start_date</th>\n",
       "      <th>mes</th>\n",
       "    </tr>\n",
       "  </thead>\n",
       "  <tbody>\n",
       "    <tr>\n",
       "      <th>0</th>\n",
       "      <td>sj</td>\n",
       "      <td>1990</td>\n",
       "      <td>18</td>\n",
       "      <td>4</td>\n",
       "      <td>1990-04-30</td>\n",
       "      <td>4</td>\n",
       "    </tr>\n",
       "    <tr>\n",
       "      <th>1</th>\n",
       "      <td>sj</td>\n",
       "      <td>1990</td>\n",
       "      <td>19</td>\n",
       "      <td>5</td>\n",
       "      <td>1990-05-07</td>\n",
       "      <td>5</td>\n",
       "    </tr>\n",
       "    <tr>\n",
       "      <th>2</th>\n",
       "      <td>sj</td>\n",
       "      <td>1990</td>\n",
       "      <td>20</td>\n",
       "      <td>4</td>\n",
       "      <td>1990-05-14</td>\n",
       "      <td>5</td>\n",
       "    </tr>\n",
       "    <tr>\n",
       "      <th>3</th>\n",
       "      <td>sj</td>\n",
       "      <td>1990</td>\n",
       "      <td>21</td>\n",
       "      <td>3</td>\n",
       "      <td>1990-05-21</td>\n",
       "      <td>5</td>\n",
       "    </tr>\n",
       "    <tr>\n",
       "      <th>4</th>\n",
       "      <td>sj</td>\n",
       "      <td>1990</td>\n",
       "      <td>22</td>\n",
       "      <td>6</td>\n",
       "      <td>1990-05-28</td>\n",
       "      <td>5</td>\n",
       "    </tr>\n",
       "  </tbody>\n",
       "</table>\n",
       "</div>"
      ],
      "text/plain": [
       "  city  year  weekofyear  total_cases week_start_date  mes\n",
       "0   sj  1990          18            4      1990-04-30    4\n",
       "1   sj  1990          19            5      1990-05-07    5\n",
       "2   sj  1990          20            4      1990-05-14    5\n",
       "3   sj  1990          21            3      1990-05-21    5\n",
       "4   sj  1990          22            6      1990-05-28    5"
      ]
     },
     "execution_count": 11,
     "metadata": {},
     "output_type": "execute_result"
    }
   ],
   "source": [
    "dt.head(5)"
   ]
  },
  {
   "cell_type": "code",
   "execution_count": 12,
   "id": "52ffaed1",
   "metadata": {},
   "outputs": [
    {
     "data": {
      "text/plain": [
       "sj    936\n",
       "iq    520\n",
       "Name: city, dtype: int64"
      ]
     },
     "execution_count": 12,
     "metadata": {},
     "output_type": "execute_result"
    }
   ],
   "source": [
    "dt.city.value_counts()"
   ]
  },
  {
   "cell_type": "code",
   "execution_count": 13,
   "id": "af59c6d9",
   "metadata": {},
   "outputs": [],
   "source": [
    "dt = dt.groupby('city')"
   ]
  },
  {
   "cell_type": "code",
   "execution_count": 14,
   "id": "e488f5ec",
   "metadata": {},
   "outputs": [],
   "source": [
    "sj = dt.get_group('sj')"
   ]
  },
  {
   "cell_type": "code",
   "execution_count": 15,
   "id": "b070be12",
   "metadata": {},
   "outputs": [],
   "source": [
    "#sj.sort_values(by='mes')#,axis=1,inplace=True)\n",
    "#sj = Sort_Dataframeby_Month(df=sj,monthcolumnname='mes')"
   ]
  },
  {
   "cell_type": "code",
   "execution_count": 16,
   "id": "b89766ba",
   "metadata": {},
   "outputs": [
    {
     "data": {
      "text/plain": [
       "Index(['city', 'year', 'weekofyear', 'total_cases', 'week_start_date', 'mes'], dtype='object')"
      ]
     },
     "execution_count": 16,
     "metadata": {},
     "output_type": "execute_result"
    }
   ],
   "source": [
    "sj.columns"
   ]
  },
  {
   "cell_type": "code",
   "execution_count": 17,
   "id": "ffc9cda6",
   "metadata": {},
   "outputs": [
    {
     "data": {
      "text/html": [
       "<div>\n",
       "<style scoped>\n",
       "    .dataframe tbody tr th:only-of-type {\n",
       "        vertical-align: middle;\n",
       "    }\n",
       "\n",
       "    .dataframe tbody tr th {\n",
       "        vertical-align: top;\n",
       "    }\n",
       "\n",
       "    .dataframe thead th {\n",
       "        text-align: right;\n",
       "    }\n",
       "</style>\n",
       "<table border=\"1\" class=\"dataframe\">\n",
       "  <thead>\n",
       "    <tr style=\"text-align: right;\">\n",
       "      <th></th>\n",
       "      <th>city</th>\n",
       "      <th>year</th>\n",
       "      <th>weekofyear</th>\n",
       "      <th>total_cases</th>\n",
       "      <th>week_start_date</th>\n",
       "      <th>mes</th>\n",
       "    </tr>\n",
       "  </thead>\n",
       "  <tbody>\n",
       "    <tr>\n",
       "      <th>0</th>\n",
       "      <td>sj</td>\n",
       "      <td>1990</td>\n",
       "      <td>18</td>\n",
       "      <td>4</td>\n",
       "      <td>1990-04-30</td>\n",
       "      <td>4</td>\n",
       "    </tr>\n",
       "    <tr>\n",
       "      <th>1</th>\n",
       "      <td>sj</td>\n",
       "      <td>1990</td>\n",
       "      <td>19</td>\n",
       "      <td>5</td>\n",
       "      <td>1990-05-07</td>\n",
       "      <td>5</td>\n",
       "    </tr>\n",
       "    <tr>\n",
       "      <th>2</th>\n",
       "      <td>sj</td>\n",
       "      <td>1990</td>\n",
       "      <td>20</td>\n",
       "      <td>4</td>\n",
       "      <td>1990-05-14</td>\n",
       "      <td>5</td>\n",
       "    </tr>\n",
       "    <tr>\n",
       "      <th>3</th>\n",
       "      <td>sj</td>\n",
       "      <td>1990</td>\n",
       "      <td>21</td>\n",
       "      <td>3</td>\n",
       "      <td>1990-05-21</td>\n",
       "      <td>5</td>\n",
       "    </tr>\n",
       "    <tr>\n",
       "      <th>4</th>\n",
       "      <td>sj</td>\n",
       "      <td>1990</td>\n",
       "      <td>22</td>\n",
       "      <td>6</td>\n",
       "      <td>1990-05-28</td>\n",
       "      <td>5</td>\n",
       "    </tr>\n",
       "    <tr>\n",
       "      <th>...</th>\n",
       "      <td>...</td>\n",
       "      <td>...</td>\n",
       "      <td>...</td>\n",
       "      <td>...</td>\n",
       "      <td>...</td>\n",
       "      <td>...</td>\n",
       "    </tr>\n",
       "    <tr>\n",
       "      <th>931</th>\n",
       "      <td>sj</td>\n",
       "      <td>2008</td>\n",
       "      <td>13</td>\n",
       "      <td>4</td>\n",
       "      <td>2008-03-25</td>\n",
       "      <td>3</td>\n",
       "    </tr>\n",
       "    <tr>\n",
       "      <th>932</th>\n",
       "      <td>sj</td>\n",
       "      <td>2008</td>\n",
       "      <td>14</td>\n",
       "      <td>3</td>\n",
       "      <td>2008-04-01</td>\n",
       "      <td>4</td>\n",
       "    </tr>\n",
       "    <tr>\n",
       "      <th>933</th>\n",
       "      <td>sj</td>\n",
       "      <td>2008</td>\n",
       "      <td>15</td>\n",
       "      <td>1</td>\n",
       "      <td>2008-04-08</td>\n",
       "      <td>4</td>\n",
       "    </tr>\n",
       "    <tr>\n",
       "      <th>934</th>\n",
       "      <td>sj</td>\n",
       "      <td>2008</td>\n",
       "      <td>16</td>\n",
       "      <td>3</td>\n",
       "      <td>2008-04-15</td>\n",
       "      <td>4</td>\n",
       "    </tr>\n",
       "    <tr>\n",
       "      <th>935</th>\n",
       "      <td>sj</td>\n",
       "      <td>2008</td>\n",
       "      <td>17</td>\n",
       "      <td>5</td>\n",
       "      <td>2008-04-22</td>\n",
       "      <td>4</td>\n",
       "    </tr>\n",
       "  </tbody>\n",
       "</table>\n",
       "<p>936 rows × 6 columns</p>\n",
       "</div>"
      ],
      "text/plain": [
       "    city  year  weekofyear  total_cases week_start_date  mes\n",
       "0     sj  1990          18            4      1990-04-30    4\n",
       "1     sj  1990          19            5      1990-05-07    5\n",
       "2     sj  1990          20            4      1990-05-14    5\n",
       "3     sj  1990          21            3      1990-05-21    5\n",
       "4     sj  1990          22            6      1990-05-28    5\n",
       "..   ...   ...         ...          ...             ...  ...\n",
       "931   sj  2008          13            4      2008-03-25    3\n",
       "932   sj  2008          14            3      2008-04-01    4\n",
       "933   sj  2008          15            1      2008-04-08    4\n",
       "934   sj  2008          16            3      2008-04-15    4\n",
       "935   sj  2008          17            5      2008-04-22    4\n",
       "\n",
       "[936 rows x 6 columns]"
      ]
     },
     "execution_count": 17,
     "metadata": {},
     "output_type": "execute_result"
    }
   ],
   "source": [
    "sj"
   ]
  },
  {
   "cell_type": "code",
   "execution_count": 18,
   "id": "421ac736",
   "metadata": {},
   "outputs": [],
   "source": [
    "for_heatmap_sj = sj.pivot_table(index='year', columns='mes', values='total_cases')"
   ]
  },
  {
   "cell_type": "code",
   "execution_count": 19,
   "id": "28348daa",
   "metadata": {},
   "outputs": [
    {
     "data": {
      "image/png": "[encoded data removed]",
      "text/plain": [
       "<Figure size 900x600 with 2 Axes>"
      ]
     },
     "metadata": {},
     "output_type": "display_data"
    }
   ],
   "source": [
    "sns.set(rc={\"figure.dpi\":150})\n",
    "graficoSJ = sns.heatmap(for_heatmap_sj, linewidths=.5, cmap=\"YlGn\")\n",
    "graficoSJ.set_title('Casos de dengue - San Juan, Puerto Rico',size =15)\n",
    "graficoSJ.set_ylabel('Año', fontsize = 10)\n",
    "graficoSJ.set_xlabel('Mes', fontsize = 10)\n",
    "fig = graficoSJ.get_figure()\n",
    "fig.savefig(\"heatmap-CasosSJ.png\")"
   ]
  },
  {
   "cell_type": "code",
   "execution_count": 20,
   "id": "3717144e",
   "metadata": {},
   "outputs": [],
   "source": [
    "iq = dt.get_group('iq')"
   ]
  },
  {
   "cell_type": "code",
   "execution_count": 21,
   "id": "cfcfc337",
   "metadata": {},
   "outputs": [
    {
     "data": {
      "text/plain": [
       "city               0\n",
       "year               0\n",
       "weekofyear         0\n",
       "total_cases        0\n",
       "week_start_date    0\n",
       "mes                0\n",
       "dtype: int64"
      ]
     },
     "execution_count": 21,
     "metadata": {},
     "output_type": "execute_result"
    }
   ],
   "source": [
    "iq.isnull().sum()"
   ]
  },
  {
   "cell_type": "code",
   "execution_count": 22,
   "id": "f6601ce7",
   "metadata": {},
   "outputs": [
    {
     "data": {
      "text/plain": [
       "2001    52\n",
       "2002    52\n",
       "2003    52\n",
       "2004    52\n",
       "2005    52\n",
       "2006    52\n",
       "2007    52\n",
       "2008    52\n",
       "2009    52\n",
       "2000    26\n",
       "2010    26\n",
       "Name: year, dtype: int64"
      ]
     },
     "execution_count": 22,
     "metadata": {},
     "output_type": "execute_result"
    }
   ],
   "source": [
    "iq.year.value_counts()"
   ]
  },
  {
   "cell_type": "code",
   "execution_count": 23,
   "id": "2fef598b",
   "metadata": {},
   "outputs": [],
   "source": [
    "for_heatmap_iq = iq.pivot_table(index='year', columns='mes', values='total_cases')"
   ]
  },
  {
   "cell_type": "code",
   "execution_count": 24,
   "id": "203f3c5f",
   "metadata": {},
   "outputs": [
    {
     "data": {
      "image/png": "[encoded data removed]",
      "text/plain": [
       "<Figure size 900x600 with 2 Axes>"
      ]
     },
     "metadata": {},
     "output_type": "display_data"
    }
   ],
   "source": [
    "sns.set(rc={\"figure.dpi\":150})\n",
    "graficoIQ = sns.heatmap(for_heatmap_iq, linewidths=.5, cmap='YlGn')\n",
    "graficoIQ.set_title('Casos de dengue - Iquitos, Peru',size =15)\n",
    "#graficoIQ.set_title('Dengue cases - Iquitos, Peru',size =15)\n",
    "graficoIQ.set_xlabel(\"Mes\", fontsize = 10)\n",
    "#graficoIQ.set_xlabel(\"\", fontsize = 10)\n",
    "graficoIQ.set_ylabel('Año', fontsize = 10)\n",
    "#graficoIQ.set_ylabel('Year', fontsize = 10)\n",
    "fig = graficoIQ.get_figure()\n",
    "fig.savefig(\"heatmap-CasosIQ.png\")"
   ]
  },
  {
   "cell_type": "code",
   "execution_count": null,
   "id": "bcf3c4d8",
   "metadata": {},
   "outputs": [],
   "source": []
  }
 ],
 "metadata": {
  "kernelspec": {
   "display_name": "Python 3",
   "language": "python",
   "name": "python3"
  },
  "language_info": {
   "codemirror_mode": {
    "name": "ipython",
    "version": 3
   },
   "file_extension": ".py",
   "mimetype": "text/x-python",
   "name": "python",
   "nbconvert_exporter": "python",
   "pygments_lexer": "ipython3",
   "version": "3.8.8"
  }
 },
 "nbformat": 4,
 "nbformat_minor": 5
}
